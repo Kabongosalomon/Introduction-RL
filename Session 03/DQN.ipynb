{
  "nbformat": 4,
  "nbformat_minor": 0,
  "metadata": {
    "kernelspec": {
      "name": "python3",
      "display_name": "Python 3"
    },
    "language_info": {
      "codemirror_mode": {
        "name": "ipython",
        "version": 3
      },
      "file_extension": ".py",
      "mimetype": "text/x-python",
      "name": "python",
      "nbconvert_exporter": "python",
      "pygments_lexer": "ipython3",
      "version": "3.7.6"
    },
    "colab": {
      "name": "DQN.ipynb",
      "provenance": [],
      "include_colab_link": true
    },
    "accelerator": "GPU"
  },
  "cells": [
    {
      "cell_type": "markdown",
      "metadata": {
        "id": "view-in-github",
        "colab_type": "text"
      },
      "source": [
        "<a href=\"https://colab.research.google.com/github/Kabongosalomon/Introduction-RL/blob/master/Session%2003/DQN.ipynb\" target=\"_parent\"><img src=\"https://colab.research.google.com/assets/colab-badge.svg\" alt=\"Open In Colab\"/></a>"
      ]
    },
    {
      "cell_type": "markdown",
      "metadata": {
        "id": "gow745pr7ZQY",
        "colab_type": "text"
      },
      "source": [
        "## Colab setup"
      ]
    },
    {
      "cell_type": "code",
      "metadata": {
        "id": "hZdOcPcY7ZQc",
        "colab_type": "code",
        "colab": {}
      },
      "source": [
        "!pip install gym > /dev/null 2>&1"
      ],
      "execution_count": 0,
      "outputs": []
    },
    {
      "cell_type": "code",
      "metadata": {
        "id": "gwbgt65d7ZQj",
        "colab_type": "code",
        "colab": {}
      },
      "source": [
        "!pip install gym pyvirtualdisplay > /dev/null 2>&1\n",
        "!apt-get install -y xvfb python-opengl ffmpeg > /dev/null 2>&1"
      ],
      "execution_count": 0,
      "outputs": []
    },
    {
      "cell_type": "code",
      "metadata": {
        "id": "bRWw4bZ87ZQo",
        "colab_type": "code",
        "outputId": "639fbd15-7267-4bfb-f85b-fa94b9c43080",
        "colab": {
          "base_uri": "https://localhost:8080/",
          "height": 34
        }
      },
      "source": [
        "!apt-get update > /dev/null 2>&1\n",
        "!apt-get install cmake > /dev/null 2>&1\n",
        "!pip install --upgrade setuptools 2>&1\n",
        "!pip install ez_setup > /dev/null 2>&1"
      ],
      "execution_count": 12,
      "outputs": [
        {
          "output_type": "stream",
          "text": [
            "Requirement already up-to-date: setuptools in /usr/local/lib/python3.6/dist-packages (45.2.0)\n"
          ],
          "name": "stdout"
        }
      ]
    },
    {
      "cell_type": "markdown",
      "metadata": {
        "id": "hd3geSA67ZQu",
        "colab_type": "text"
      },
      "source": [
        "# Deep Q-Learning (DQN)\n",
        "\n",
        "\n",
        "In DQN, the $Q$-function is parameterized by a neural network of parameters $\\theta$. The network takes as input a state $s$ and outputs $Q(s, a, \\theta)$ for all actions $a$. \n",
        "\n",
        "The network is trained in way that is similar to Fitted Q Iteration. At each time $T$, the agent has observed the transitions $(s_t, a_t, r_t, s_t')_{t=1}^T$, which are stored in a __replay buffer__.\n",
        "\n",
        "In addition to the network with parameters $\\theta$, DQN keeps another network with the same architecture and parameters $\\tilde{\\theta}$, called __target network__. \n",
        "To update the parameters $\\theta$, we sample $N$ transitions from the __replay buffer__, we define the loss \n",
        "\n",
        "$$\n",
        "L(\\theta) = \\sum_{i=1}^N [Q(s_i, a_i, \\theta) - (r_i + \\gamma\\max_{a'}Q(s'_i,a', \\tilde{\\theta}))]^2\n",
        "$$\n",
        "\n",
        "and update \n",
        "\n",
        "$$\n",
        "\\theta \\gets \\theta + \\eta \\nabla L(\\theta).\n",
        "$$\n",
        "\n",
        "\n",
        "Every $C$ iterations, the target network is updated as $\\tilde{\\theta} \\gets \\theta$. \n",
        "\n",
        "At each time $t$, DQN updates the networks as described above, selects an action according to an $\\epsilon$-greedy policy, plays the action and stores the new data in the replay buffer."
      ]
    },
    {
      "cell_type": "code",
      "metadata": {
        "id": "Gpj_PvaS7ZQw",
        "colab_type": "code",
        "colab": {}
      },
      "source": [
        "# Imports\n",
        "import torch\n",
        "import torch.nn as nn\n",
        "import torch.nn.functional as F\n",
        "import torch.optim as optim\n",
        "import numpy as np\n",
        "import random\n",
        "from copy import deepcopy\n",
        "\n",
        "import gym\n",
        "from gym import logger as gymlogger\n",
        "from gym.wrappers import Monitor\n",
        "gymlogger.set_level(40) #error only\n",
        "\n",
        "from pyvirtualdisplay import Display\n",
        "from IPython import display as ipythondisplay\n",
        "from IPython.display import clear_output\n",
        "from pathlib import Path\n",
        "\n",
        "import random, os.path, math, glob, csv, base64, itertools, sys\n",
        "from pprint import pprint\n",
        "\n",
        "import matplotlib\n",
        "import matplotlib.pyplot as plt\n",
        "%matplotlib inline\n",
        "import io\n",
        "from IPython.display import HTML"
      ],
      "execution_count": 0,
      "outputs": []
    },
    {
      "cell_type": "markdown",
      "metadata": {
        "id": "k8kIhFPo7ZQ1",
        "colab_type": "text"
      },
      "source": [
        "## Step 1: Define the parameters"
      ]
    },
    {
      "cell_type": "code",
      "metadata": {
        "id": "Fjo8iA9j7ZQ3",
        "colab_type": "code",
        "colab": {}
      },
      "source": [
        "# Environment\n",
        "env = gym.make(\"CartPole-v0\")\n",
        "\n",
        "# Discount factor\n",
        "γ = 0.99\n",
        "\n",
        "# Batch size\n",
        "BATCH_SIZE = 500\n",
        "# Capacity of the replay buffer\n",
        "BUFFER_CAPACITY = 10000\n",
        "# Update target net every ... episodes\n",
        "UPDATE_TARGET_EVERY = 20\n",
        "\n",
        "# Initial value of epsilon\n",
        "EPSILON_START = 1.0\n",
        "\n",
        "# Parameter to decrease epsilon\n",
        "DECREASE_EPSILON = 200\n",
        "\n",
        "# Minimum value of epislon\n",
        "EPSILON_MIN = 0.05\n",
        "\n",
        "# Number of training episodes\n",
        "N_EPISODES = 200\n",
        "\n",
        "# Learning rate\n",
        "LEARNING_RATE = 0.1"
      ],
      "execution_count": 0,
      "outputs": []
    },
    {
      "cell_type": "markdown",
      "metadata": {
        "id": "U3Lg3iIs7ZQ9",
        "colab_type": "text"
      },
      "source": [
        "## Step 2: Define the replay buffer"
      ]
    },
    {
      "cell_type": "code",
      "metadata": {
        "id": "ZMdSUwIb7ZQ-",
        "colab_type": "code",
        "colab": {}
      },
      "source": [
        "class ReplayBuffer:\n",
        "    def __init__(self, capacity):\n",
        "        self.capacity = capacity\n",
        "        self.memory = []\n",
        "        self.position = 0\n",
        "\n",
        "    def push(self, state, action, reward, next_state):\n",
        "        \"\"\"Saves a transition.\"\"\"\n",
        "        if len(self.memory) < self.capacity:\n",
        "            self.memory.append(None)\n",
        "        self.memory[self.position] = (state, action, reward, next_state)\n",
        "        self.position = (self.position + 1) % self.capacity\n",
        "\n",
        "    def sample(self, batch_size):\n",
        "        return random.sample(self.memory, batch_size)\n",
        "\n",
        "    def __len__(self):\n",
        "        return len(self.memory)"
      ],
      "execution_count": 0,
      "outputs": []
    },
    {
      "cell_type": "code",
      "metadata": {
        "id": "2bxHR5u57ZRD",
        "colab_type": "code",
        "colab": {}
      },
      "source": [
        "# create instance of replay buffer\n",
        "replay_buffer = ReplayBuffer(BUFFER_CAPACITY)"
      ],
      "execution_count": 0,
      "outputs": []
    },
    {
      "cell_type": "markdown",
      "metadata": {
        "id": "WJDq4p7V7ZRH",
        "colab_type": "text"
      },
      "source": [
        "## Step 3: Define the neural network architecture, objective and optimizer"
      ]
    },
    {
      "cell_type": "code",
      "metadata": {
        "id": "g2M8VINN7ZRI",
        "colab_type": "code",
        "colab": {}
      },
      "source": [
        "class Net(nn.Module):\n",
        "    \"\"\"\n",
        "    Basic neural net.\n",
        "    \"\"\"\n",
        "    def __init__(self, obs_size, hidden_size, n_actions):\n",
        "        super(Net, self).__init__()\n",
        "        self.net = nn.Sequential(\n",
        "            nn.Linear(obs_size, hidden_size),\n",
        "            nn.ReLU(),\n",
        "            nn.Linear(hidden_size, n_actions)\n",
        "        )\n",
        "\n",
        "    def forward(self, x):\n",
        "        return self.net(x)"
      ],
      "execution_count": 0,
      "outputs": []
    },
    {
      "cell_type": "code",
      "metadata": {
        "id": "MPRSqaF97ZRO",
        "colab_type": "code",
        "colab": {}
      },
      "source": [
        "# create network and target network\n",
        "hidden_size = 128\n",
        "obs_size = env.observation_space.shape[0]\n",
        "n_actions = env.action_space.n\n",
        "\n",
        "q_net = Net(obs_size, hidden_size, n_actions)\n",
        "target_net = Net(obs_size, hidden_size, n_actions)\n",
        "\n",
        "# objective and optimizer\n",
        "objective = nn.MSELoss()\n",
        "optimizer = optim.Adam(params=q_net.parameters(), lr=LEARNING_RATE)"
      ],
      "execution_count": 0,
      "outputs": []
    },
    {
      "cell_type": "markdown",
      "metadata": {
        "id": "VKRalZYH7ZRT",
        "colab_type": "text"
      },
      "source": [
        "## Step 4: Implement DQN"
      ]
    },
    {
      "cell_type": "code",
      "metadata": {
        "id": "C5FsQLyW7ZRU",
        "colab_type": "code",
        "colab": {}
      },
      "source": [
        "#\n",
        "#  Some useful functions\n",
        "#\n",
        "\n",
        "def get_q(states):\n",
        "    \"\"\"\n",
        "    Compute Q function for a list of states\n",
        "    \"\"\"\n",
        "    with torch.no_grad():\n",
        "        states_v = torch.FloatTensor([states])\n",
        "        output = q_net.forward(states_v).data.numpy()  # shape (1, len(states), dim_state)\n",
        "    return output[0, :, :]  # shape (len(states), dim_state)\n",
        "\n",
        "def dqn_policy(s):\n",
        "    \"\"\"\n",
        "    Choose action at s using q_net\n",
        "    \"\"\"\n",
        "    if not isinstance(s, np.ndarray):\n",
        "        raise TypeError(\"Vector encoding expected for state variable.\")\n",
        "    q = get_q([s])[0]\n",
        "    return q.argmax()\n",
        "\n",
        "def eval_dqn(n_sim=5):\n",
        "    \"\"\"\n",
        "    Monte Carlo evaluation of DQN agent\n",
        "    \"\"\"\n",
        "    rewards = []\n",
        "    copy_env = deepcopy(env)\n",
        "    for sim in range(n_sim):\n",
        "        done = False\n",
        "        state = copy_env.reset()\n",
        "        sim_rewards = 0.0\n",
        "        while not done:\n",
        "            action = dqn_policy(state)\n",
        "            next_state, reward, done, _ = copy_env.step(action)\n",
        "            sim_rewards += reward\n",
        "            state = next_state\n",
        "        rewards.append(sim_rewards)\n",
        "    return rewards"
      ],
      "execution_count": 0,
      "outputs": []
    },
    {
      "cell_type": "code",
      "metadata": {
        "id": "06fbcv507ZRZ",
        "colab_type": "code",
        "colab": {}
      },
      "source": [
        "def choose_action(state, epsilon):\n",
        "    \"\"\"    \n",
        "    Return action according to an epsilon-greedy exploration policy\n",
        "    \"\"\"\n",
        "\n",
        "    q_state = get_q([state])[0] # array of shape (n_actions,)\n",
        "    if np.random.uniform(0, 1) < epsilon:\n",
        "      action = env.action_space.sample() # random action\n",
        "    else:\n",
        "      action = q_state.argmax()\n",
        "    return action\n",
        "    \n",
        "\n",
        "def update(state, action, reward, next_state, done):\n",
        "    \"\"\"\n",
        "    Update\n",
        "    \"\"\"\n",
        "    \n",
        "    # add data to replay buffer\n",
        "    if done:\n",
        "        next_state = None\n",
        "    replay_buffer.push(state, action, reward, next_state)\n",
        "    \n",
        "    if len(replay_buffer) < BATCH_SIZE:\n",
        "        return np.inf\n",
        "    \n",
        "    # get batch\n",
        "    # transitions = list of (state, action, reward, next_state)\n",
        "    transitions = replay_buffer.sample(BATCH_SIZE)\n",
        "\n",
        "    # 1st thing: compute Q(s_i, a_i, theta) for all (s_i, a_i)\n",
        "    # in the batch\n",
        "    \n",
        "    # Build tensor with s_i and tensor with a_i\n",
        "    batch_states = torch.FloatTensor( \n",
        "                    [ transitions[ii][0] for ii in range(BATCH_SIZE) ]\n",
        "                    )\n",
        "    batch_actions = torch.LongTensor(  # type is important (Long) \n",
        "                    [ transitions[ii][1] for ii in range(BATCH_SIZE) ]\n",
        "                    )\n",
        "    batch_rewards = torch.FloatTensor( \n",
        "                    [ transitions[ii][2] for ii in range(BATCH_SIZE) ]\n",
        "                    )\n",
        "\n",
        "    non_final_mask = torch.tensor([(transitions[ii][3] is not None) \n",
        "                                   for ii in range(BATCH_SIZE)], dtype=torch.bool)\n",
        "    non_final_next_states = torch.FloatTensor(\n",
        "            [transitions[ii][3]  for ii in range(BATCH_SIZE) if transitions[ii][3] is not None])\n",
        "        \n",
        "    next_state_values = torch.zeros(BATCH_SIZE)\n",
        "    next_state_values[non_final_mask] = target_net(non_final_next_states).max(1)[0].detach()\n",
        "    state_action_values = q_net(batch_states).gather(1, batch_actions.view(-1, 1))\n",
        "\n",
        "\n",
        "    # # A simpler (and slower) way to compute all these things\n",
        "    # for ii in range(BATCH_SIZE):\n",
        "    #   state_ii = transitions[ii][0]\n",
        "    #   action_ii = transitions[ii][1]\n",
        "    #   reward_ii = transitions[ii][2]\n",
        "    #   next_state_ii = transitions[ii][3]\n",
        "      \n",
        "    #   next_value = 0\n",
        "    #   if next_state_ii is not None:\n",
        "    #     next_value = # max_a Q(next_state, a) with target net\n",
        "      \n",
        "\n",
        "    #   values[ii] = # Q(state_ii)[action_ii]  with q_net\n",
        "    #   targets[ii] = reward_ii + GAMMA*next_value\n",
        "\n",
        "    \n",
        "\n",
        "    # Compute loss\n",
        "    values  = state_action_values\n",
        "    targets = batch_rewards + γ*next_state_values\n",
        "    loss = objective(values, targets.unsqueeze(1))\n",
        "     \n",
        "    # Optimize the model\n",
        "    optimizer.zero_grad()\n",
        "    loss.backward()\n",
        "    optimizer.step()\n",
        "    \n",
        "    return loss.data.numpy()"
      ],
      "execution_count": 0,
      "outputs": []
    },
    {
      "cell_type": "code",
      "metadata": {
        "id": "tn9SCgUE7ZRd",
        "colab_type": "code",
        "outputId": "01f74a7f-5f7a-4eef-9fbc-fa1911d84df6",
        "colab": {
          "base_uri": "https://localhost:8080/",
          "height": 544
        }
      },
      "source": [
        "#\n",
        "# Train\n",
        "# \n",
        "\n",
        "EVAL_EVERY = 5\n",
        "REWARD_THRESHOLD = 199\n",
        "\n",
        "def train():\n",
        "    state = env.reset()\n",
        "    epsilon = EPSILON_START\n",
        "    ep = 0\n",
        "    total_time = 0\n",
        "    while ep < N_EPISODES:\n",
        "        action = choose_action(state, epsilon)\n",
        "\n",
        "        # take action and update replay buffer and networks\n",
        "        next_state, reward, done, _ = env.step(action)\n",
        "        loss = update(state, action, reward, next_state, done)\n",
        "\n",
        "        # update state\n",
        "        state = next_state\n",
        "\n",
        "        # end episode if done\n",
        "        if done:\n",
        "            state = env.reset()\n",
        "            ep   += 1\n",
        "            if ( (ep+1)% EVAL_EVERY == 0):\n",
        "                rewards = eval_dqn()\n",
        "                print(\"episode =\", ep+1, \", reward = \", np.mean(rewards),\n",
        "                      \"loss = \", loss)\n",
        "                if np.mean(rewards) >= REWARD_THRESHOLD:\n",
        "                    break\n",
        "\n",
        "            # update target network\n",
        "            if ep % UPDATE_TARGET_EVERY == 0:\n",
        "                target_net.load_state_dict(q_net.state_dict())\n",
        "            # decrease epsilon\n",
        "            epsilon = EPSILON_MIN + (EPSILON_START - EPSILON_MIN) * \\\n",
        "                            np.exp(-1. * ep / DECREASE_EPSILON )    \n",
        "\n",
        "        total_time += 1\n",
        "\n",
        "train()\n",
        "rewards = eval_dqn(20)\n",
        "print(\"\")\n",
        "print(\"mean reward after training = \", np.mean(rewards))"
      ],
      "execution_count": 21,
      "outputs": [
        {
          "output_type": "stream",
          "text": [
            "episode = 5 , reward =  10.0 loss =  inf\n",
            "episode = 10 , reward =  9.4 loss =  inf\n",
            "episode = 15 , reward =  9.4 loss =  inf\n",
            "episode = 20 , reward =  9.6 loss =  inf\n",
            "episode = 25 , reward =  9.2 loss =  inf\n",
            "episode = 30 , reward =  9.0 loss =  0.0029789566\n",
            "episode = 35 , reward =  9.6 loss =  0.0029095036\n",
            "episode = 40 , reward =  9.4 loss =  0.0018695202\n",
            "episode = 45 , reward =  9.2 loss =  0.018114576\n",
            "episode = 50 , reward =  9.2 loss =  0.011707373\n",
            "episode = 55 , reward =  9.8 loss =  0.015299386\n",
            "episode = 60 , reward =  8.8 loss =  0.010870268\n",
            "episode = 65 , reward =  9.4 loss =  0.035308275\n",
            "episode = 70 , reward =  20.4 loss =  0.015347362\n",
            "episode = 75 , reward =  11.8 loss =  0.015995663\n",
            "episode = 80 , reward =  10.4 loss =  0.018971918\n",
            "episode = 85 , reward =  14.2 loss =  0.03590336\n",
            "episode = 90 , reward =  16.2 loss =  0.038113076\n",
            "episode = 95 , reward =  33.8 loss =  0.045638356\n",
            "episode = 100 , reward =  16.8 loss =  0.041312188\n",
            "episode = 105 , reward =  50.0 loss =  0.046783675\n",
            "episode = 110 , reward =  22.6 loss =  0.039788194\n",
            "episode = 115 , reward =  21.2 loss =  0.053088248\n",
            "episode = 120 , reward =  109.6 loss =  0.05086825\n",
            "episode = 125 , reward =  26.6 loss =  0.06873221\n",
            "episode = 130 , reward =  23.4 loss =  0.07059037\n",
            "episode = 135 , reward =  24.2 loss =  0.066153094\n",
            "episode = 140 , reward =  98.8 loss =  0.07972333\n",
            "episode = 145 , reward =  200.0 loss =  0.06661766\n",
            "\n",
            "mean reward after training =  178.85\n"
          ],
          "name": "stdout"
        }
      ]
    },
    {
      "cell_type": "markdown",
      "metadata": {
        "id": "xshtpttN7ZRi",
        "colab_type": "text"
      },
      "source": [
        "## Visualizing the agent"
      ]
    },
    {
      "cell_type": "code",
      "metadata": {
        "id": "J3UslTe87ZRj",
        "colab_type": "code",
        "outputId": "3c1cf19a-676c-45e6-bcdf-bdd0973f795d",
        "colab": {
          "base_uri": "https://localhost:8080/",
          "height": 71
        }
      },
      "source": [
        "def show_video(directory):\n",
        "    html = []\n",
        "    for mp4 in Path(directory).glob(\"*.mp4\"):\n",
        "        video_b64 = base64.b64encode(mp4.read_bytes())\n",
        "        html.append('''<video alt=\"{}\" autoplay \n",
        "                      loop controls style=\"height: 400px;\">\n",
        "                      <source src=\"data:video/mp4;base64,{}\" type=\"video/mp4\" />\n",
        "                 </video>'''.format(mp4, video_b64.decode('ascii')))\n",
        "    ipythondisplay.display(ipythondisplay.HTML(data=\"<br>\".join(html)))\n",
        "    \n",
        "def make_seed(seed):\n",
        "    np.random.seed(seed=seed)\n",
        "    torch.manual_seed(seed=seed)\n",
        "  \n",
        "from pyvirtualdisplay import Display\n",
        "display = Display(visible=0, size=(1400, 900))\n",
        "display.start()"
      ],
      "execution_count": 22,
      "outputs": [
        {
          "output_type": "stream",
          "text": [
            "xdpyinfo was not found, X start can not be checked! Please install xdpyinfo!\n"
          ],
          "name": "stderr"
        },
        {
          "output_type": "execute_result",
          "data": {
            "text/plain": [
              "<Display cmd_param=['Xvfb', '-br', '-nolisten', 'tcp', '-screen', '0', '1400x900x24', ':1001'] cmd=['Xvfb', '-br', '-nolisten', 'tcp', '-screen', '0', '1400x900x24', ':1001'] oserror=None return_code=None stdout=\"None\" stderr=\"None\" timeout_happened=False>"
            ]
          },
          "metadata": {
            "tags": []
          },
          "execution_count": 22
        }
      ]
    },
    {
      "cell_type": "code",
      "metadata": {
        "id": "JLWwf5FM7ZRo",
        "colab_type": "code",
        "outputId": "9cced6b0-c001-43e4-a7aa-38c308c589a6",
        "colab": {
          "base_uri": "https://localhost:8080/",
          "height": 421
        }
      },
      "source": [
        "env = Monitor(env, \"./gym-results\", force=True, video_callable=lambda episode: True)\n",
        "for episode in range(1):\n",
        "    done = False\n",
        "    state = env.reset()\n",
        "    while not done:\n",
        "        action = dqn_policy(state)\n",
        "        state, reward, done, info = env.step(action)\n",
        "env.close()\n",
        "show_video(\"./gym-results\")"
      ],
      "execution_count": 23,
      "outputs": [
        {
          "output_type": "display_data",
          "data": {
            "text/html": [
              "<video alt=\"gym-results/openaigym.video.0.875.video000000.mp4\" autoplay \n",
              "                      loop controls style=\"height: 400px;\">\n",
              "                      <source src=\"data:video/mp4;base64,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\" type=\"video/mp4\" />\n",
              "                 </video>"
            ],
            "text/plain": [
              "<IPython.core.display.HTML object>"
            ]
          },
          "metadata": {
            "tags": []
          }
        }
      ]
    },
    {
      "cell_type": "markdown",
      "metadata": {
        "id": "zAUj0ZbY92Eq",
        "colab_type": "text"
      },
      "source": [
        "<h1>About the Authors:</h1> \n",
        "\n",
        "<a href=\"https://skabongo.github.io/\">Salomon Kabongo</a>, Master degree student at <a href=\"https://aims.ac.za/\">the African Master in Machine Intelligence (AMMI, Ghana)</a> his research focused on the use machine learning technique in the field of Natural Language Processing, learn more about him [here](https://skabongo.github.io/) or https://skabongo.github.io/.\n",
        "\n",
        "**References :** *Introduction to Reiforcement learning AMMI, course* by [Matteo Pirotta](https://teopir.github.io/), Research Scientist at Facebook AI Research, assisted by [Floian Strub](https://fstrub95.github.io/) and [Omar Darwiche Domingue](https://omardrwch.github.io/).\n",
        "\n",
        "Copyright &copy; 2020. This notebook and its source code are released under the terms of the <a href=\"https://www.apache.org/licenses/LICENSE-2.0\">Apache License 2.0</a>."
      ]
    }
  ]
}