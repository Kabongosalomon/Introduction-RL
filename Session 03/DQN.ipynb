{
  "nbformat": 4,
  "nbformat_minor": 0,
  "metadata": {
    "kernelspec": {
      "name": "python3",
      "display_name": "Python 3"
    },
    "language_info": {
      "codemirror_mode": {
        "name": "ipython",
        "version": 3
      },
      "file_extension": ".py",
      "mimetype": "text/x-python",
      "name": "python",
      "nbconvert_exporter": "python",
      "pygments_lexer": "ipython3",
      "version": "3.7.6"
    },
    "colab": {
      "name": "DQN.ipynb",
      "provenance": [],
      "include_colab_link": true
    },
    "accelerator": "GPU"
  },
  "cells": [
    {
      "cell_type": "markdown",
      "metadata": {
        "id": "view-in-github",
        "colab_type": "text"
      },
      "source": [
        "<a href=\"https://colab.research.google.com/github/Kabongosalomon/Introduction-RL/blob/master/Session%2003/DQN.ipynb\" target=\"_parent\"><img src=\"https://colab.research.google.com/assets/colab-badge.svg\" alt=\"Open In Colab\"/></a>"
      ]
    },
    {
      "cell_type": "markdown",
      "metadata": {
        "id": "gow745pr7ZQY",
        "colab_type": "text"
      },
      "source": [
        "## Colab setup"
      ]
    },
    {
      "cell_type": "code",
      "metadata": {
        "id": "hZdOcPcY7ZQc",
        "colab_type": "code",
        "colab": {}
      },
      "source": [
        "!pip install gym > /dev/null 2>&1"
      ],
      "execution_count": 0,
      "outputs": []
    },
    {
      "cell_type": "code",
      "metadata": {
        "id": "gwbgt65d7ZQj",
        "colab_type": "code",
        "colab": {}
      },
      "source": [
        "!pip install gym pyvirtualdisplay > /dev/null 2>&1\n",
        "!apt-get install -y xvfb python-opengl ffmpeg > /dev/null 2>&1"
      ],
      "execution_count": 0,
      "outputs": []
    },
    {
      "cell_type": "code",
      "metadata": {
        "id": "bRWw4bZ87ZQo",
        "colab_type": "code",
        "outputId": "3bddb5ae-9f70-4570-d4ca-24bbb0c2fde4",
        "colab": {
          "base_uri": "https://localhost:8080/",
          "height": 34
        }
      },
      "source": [
        "!apt-get update > /dev/null 2>&1\n",
        "!apt-get install cmake > /dev/null 2>&1\n",
        "!pip install --upgrade setuptools 2>&1\n",
        "!pip install ez_setup > /dev/null 2>&1"
      ],
      "execution_count": 3,
      "outputs": [
        {
          "output_type": "stream",
          "text": [
            "Requirement already up-to-date: setuptools in /usr/local/lib/python3.6/dist-packages (45.2.0)\n"
          ],
          "name": "stdout"
        }
      ]
    },
    {
      "cell_type": "markdown",
      "metadata": {
        "id": "hd3geSA67ZQu",
        "colab_type": "text"
      },
      "source": [
        "# Deep Q-Learning (DQN)\n",
        "\n",
        "\n",
        "In DQN, the $Q$-function is parameterized by a neural network of parameters $\\theta$. The network takes as input a state $s$ and outputs $Q(s, a, \\theta)$ for all actions $a$. \n",
        "\n",
        "The network is trained in way that is similar to Fitted Q Iteration. At each time $T$, the agent has observed the transitions $(s_t, a_t, r_t, s_t')_{t=1}^T$, which are stored in a __replay buffer__.\n",
        "\n",
        "In addition to the network with parameters $\\theta$, DQN keeps another network with the same architecture and parameters $\\tilde{\\theta}$, called __target network__. \n",
        "To update the parameters $\\theta$, we sample $N$ transitions from the __replay buffer__, we define the loss \n",
        "\n",
        "$$\n",
        "L(\\theta) = \\sum_{i=1}^N [Q(s_i, a_i, \\theta) - (r_i + \\gamma\\max_{a'}Q(s'_i,a', \\tilde{\\theta}))]^2\n",
        "$$\n",
        "\n",
        "and update \n",
        "\n",
        "$$\n",
        "\\theta \\gets \\theta + \\eta \\nabla L(\\theta).\n",
        "$$\n",
        "\n",
        "\n",
        "Every $C$ iterations, the target network is updated as $\\tilde{\\theta} \\gets \\theta$. \n",
        "\n",
        "At each time $t$, DQN updates the networks as described above, selects an action according to an $\\epsilon$-greedy policy, plays the action and stores the new data in the replay buffer."
      ]
    },
    {
      "cell_type": "code",
      "metadata": {
        "id": "Gpj_PvaS7ZQw",
        "colab_type": "code",
        "colab": {}
      },
      "source": [
        "# Imports\n",
        "import torch\n",
        "import torch.nn as nn\n",
        "import torch.nn.functional as F\n",
        "import torch.optim as optim\n",
        "import numpy as np\n",
        "import random\n",
        "from copy import deepcopy\n",
        "\n",
        "import gym\n",
        "from gym import logger as gymlogger\n",
        "from gym.wrappers import Monitor\n",
        "gymlogger.set_level(40) #error only\n",
        "\n",
        "from pyvirtualdisplay import Display\n",
        "from IPython import display as ipythondisplay\n",
        "from IPython.display import clear_output\n",
        "from pathlib import Path\n",
        "\n",
        "import random, os.path, math, glob, csv, base64, itertools, sys\n",
        "from pprint import pprint\n",
        "\n",
        "import matplotlib\n",
        "import matplotlib.pyplot as plt\n",
        "%matplotlib inline\n",
        "import io\n",
        "from IPython.display import HTML"
      ],
      "execution_count": 0,
      "outputs": []
    },
    {
      "cell_type": "markdown",
      "metadata": {
        "id": "k8kIhFPo7ZQ1",
        "colab_type": "text"
      },
      "source": [
        "## Step 1: Define the parameters"
      ]
    },
    {
      "cell_type": "code",
      "metadata": {
        "id": "Fjo8iA9j7ZQ3",
        "colab_type": "code",
        "colab": {}
      },
      "source": [
        "# Environment\n",
        "env = gym.make(\"CartPole-v0\")\n",
        "\n",
        "# Discount factor\n",
        "γ = 0.99\n",
        "\n",
        "# Batch size\n",
        "BATCH_SIZE = 500\n",
        "# Capacity of the replay buffer\n",
        "BUFFER_CAPACITY = 10000\n",
        "# Update target net every ... episodes\n",
        "UPDATE_TARGET_EVERY = 20\n",
        "\n",
        "# Initial value of epsilon\n",
        "EPSILON_START = 1.0\n",
        "\n",
        "# Parameter to decrease epsilon\n",
        "DECREASE_EPSILON = 200\n",
        "\n",
        "# Minimum value of epislon\n",
        "EPSILON_MIN = 0.05\n",
        "\n",
        "# Number of training episodes\n",
        "N_EPISODES = 200\n",
        "\n",
        "# Learning rate\n",
        "LEARNING_RATE = 0.1"
      ],
      "execution_count": 0,
      "outputs": []
    },
    {
      "cell_type": "markdown",
      "metadata": {
        "id": "U3Lg3iIs7ZQ9",
        "colab_type": "text"
      },
      "source": [
        "## Step 2: Define the replay buffer"
      ]
    },
    {
      "cell_type": "code",
      "metadata": {
        "id": "ZMdSUwIb7ZQ-",
        "colab_type": "code",
        "colab": {}
      },
      "source": [
        "class ReplayBuffer:\n",
        "    def __init__(self, capacity):\n",
        "        self.capacity = capacity\n",
        "        self.memory = []\n",
        "        self.position = 0\n",
        "\n",
        "    def push(self, state, action, reward, next_state):\n",
        "        \"\"\"Saves a transition.\"\"\"\n",
        "        if len(self.memory) < self.capacity:\n",
        "            self.memory.append(None)\n",
        "        self.memory[self.position] = (state, action, reward, next_state)\n",
        "        self.position = (self.position + 1) % self.capacity\n",
        "\n",
        "    def sample(self, batch_size):\n",
        "        return random.sample(self.memory, batch_size)\n",
        "\n",
        "    def __len__(self):\n",
        "        return len(self.memory)"
      ],
      "execution_count": 0,
      "outputs": []
    },
    {
      "cell_type": "code",
      "metadata": {
        "id": "2bxHR5u57ZRD",
        "colab_type": "code",
        "colab": {}
      },
      "source": [
        "# create instance of replay buffer\n",
        "replay_buffer = ReplayBuffer(BUFFER_CAPACITY)"
      ],
      "execution_count": 0,
      "outputs": []
    },
    {
      "cell_type": "markdown",
      "metadata": {
        "id": "WJDq4p7V7ZRH",
        "colab_type": "text"
      },
      "source": [
        "## Step 3: Define the neural network architecture, objective and optimizer"
      ]
    },
    {
      "cell_type": "code",
      "metadata": {
        "id": "g2M8VINN7ZRI",
        "colab_type": "code",
        "colab": {}
      },
      "source": [
        "class Net(nn.Module):\n",
        "    \"\"\"\n",
        "    Basic neural net.\n",
        "    \"\"\"\n",
        "    def __init__(self, obs_size, hidden_size, n_actions):\n",
        "        super(Net, self).__init__()\n",
        "        self.net = nn.Sequential(\n",
        "            nn.Linear(obs_size, hidden_size),\n",
        "            nn.ReLU(),\n",
        "            nn.Linear(hidden_size, n_actions)\n",
        "        )\n",
        "\n",
        "    def forward(self, x):\n",
        "        return self.net(x)"
      ],
      "execution_count": 0,
      "outputs": []
    },
    {
      "cell_type": "code",
      "metadata": {
        "id": "MPRSqaF97ZRO",
        "colab_type": "code",
        "colab": {}
      },
      "source": [
        "# create network and target network\n",
        "hidden_size = 128\n",
        "obs_size = env.observation_space.shape[0]\n",
        "n_actions = env.action_space.n\n",
        "\n",
        "q_net = Net(obs_size, hidden_size, n_actions)\n",
        "target_net = Net(obs_size, hidden_size, n_actions)\n",
        "\n",
        "# objective and optimizer\n",
        "objective = nn.MSELoss()\n",
        "optimizer = optim.Adam(params=q_net.parameters(), lr=LEARNING_RATE)"
      ],
      "execution_count": 0,
      "outputs": []
    },
    {
      "cell_type": "markdown",
      "metadata": {
        "id": "VKRalZYH7ZRT",
        "colab_type": "text"
      },
      "source": [
        "## Step 4: Implement DQN"
      ]
    },
    {
      "cell_type": "code",
      "metadata": {
        "id": "C5FsQLyW7ZRU",
        "colab_type": "code",
        "colab": {}
      },
      "source": [
        "#\n",
        "#  Some useful functions\n",
        "#\n",
        "\n",
        "def get_q(states):\n",
        "    \"\"\"\n",
        "    Compute Q function for a list of states\n",
        "    \"\"\"\n",
        "    with torch.no_grad():\n",
        "        states_v = torch.FloatTensor([states])\n",
        "        output = q_net.forward(states_v).data.numpy()  # shape (1, len(states), dim_state)\n",
        "    return output[0, :, :]  # shape (len(states), dim_state)\n",
        "\n",
        "def dqn_policy(s):\n",
        "    \"\"\"\n",
        "    Choose action at s using q_net\n",
        "    \"\"\"\n",
        "    if not isinstance(s, np.ndarray):\n",
        "        raise TypeError(\"Vector encoding expected for state variable.\")\n",
        "    q = get_q([s])[0]\n",
        "    return q.argmax()\n",
        "\n",
        "def eval_dqn(n_sim=5):\n",
        "    \"\"\"\n",
        "    Monte Carlo evaluation of DQN agent\n",
        "    \"\"\"\n",
        "    rewards = []\n",
        "    copy_env = deepcopy(env)\n",
        "    for sim in range(n_sim):\n",
        "        done = False\n",
        "        state = copy_env.reset()\n",
        "        sim_rewards = 0.0\n",
        "        while not done:\n",
        "            action = dqn_policy(state)\n",
        "            next_state, reward, done, _ = copy_env.step(action)\n",
        "            sim_rewards += reward\n",
        "            state = next_state\n",
        "        rewards.append(sim_rewards)\n",
        "    return rewards"
      ],
      "execution_count": 0,
      "outputs": []
    },
    {
      "cell_type": "code",
      "metadata": {
        "id": "06fbcv507ZRZ",
        "colab_type": "code",
        "colab": {}
      },
      "source": [
        "def choose_action(state, epsilon):\n",
        "    \"\"\"    \n",
        "    Return action according to an epsilon-greedy exploration policy\n",
        "    \"\"\"\n",
        "\n",
        "    q_state = get_q([state])[0] # array of shape (n_actions,)\n",
        "    if np.random.uniform(0, 1) < epsilon:\n",
        "      action = env.action_space.sample() # random action\n",
        "    else:\n",
        "      action = q_state.argmax()\n",
        "    return action\n",
        "    \n",
        "\n",
        "def update(state, action, reward, next_state, done):\n",
        "    \"\"\"\n",
        "    Update\n",
        "    \"\"\"\n",
        "    \n",
        "    # add data to replay buffer\n",
        "    if done:\n",
        "        next_state = None\n",
        "    replay_buffer.push(state, action, reward, next_state)\n",
        "    \n",
        "    if len(replay_buffer) < BATCH_SIZE:\n",
        "        return np.inf\n",
        "    \n",
        "    # get batch\n",
        "    # transitions = list of (state, action, reward, next_state)\n",
        "    transitions = replay_buffer.sample(BATCH_SIZE)\n",
        "\n",
        "    # 1st thing: compute Q(s_i, a_i, theta) for all (s_i, a_i)\n",
        "    # in the batch\n",
        "    \n",
        "    # Build tensor with s_i and tensor with a_i\n",
        "    batch_states = torch.FloatTensor( \n",
        "                    [ transitions[ii][0] for ii in range(BATCH_SIZE) ]\n",
        "                    )\n",
        "    batch_actions = torch.LongTensor(  # type is important (Long) \n",
        "                    [ transitions[ii][1] for ii in range(BATCH_SIZE) ]\n",
        "                    )\n",
        "    batch_rewards = torch.FloatTensor( \n",
        "                    [ transitions[ii][2] for ii in range(BATCH_SIZE) ]\n",
        "                    )\n",
        "\n",
        "    non_final_mask = torch.tensor([(transitions[ii][3] is not None) \n",
        "                                   for ii in range(BATCH_SIZE)], dtype=torch.bool)\n",
        "    non_final_next_states = torch.FloatTensor(\n",
        "            [transitions[ii][3]  for ii in range(BATCH_SIZE) if transitions[ii][3] is not None])\n",
        "        \n",
        "    next_state_values = torch.zeros(BATCH_SIZE)\n",
        "    next_state_values[non_final_mask] = target_net(non_final_next_states).max(1)[0].detach()\n",
        "    state_action_values = q_net(batch_states).gather(1, batch_actions.view(-1, 1))\n",
        "\n",
        "\n",
        "    # # A simpler (and slower) way to compute all these things\n",
        "    # for ii in range(BATCH_SIZE):\n",
        "    #   state_ii = transitions[ii][0]\n",
        "    #   action_ii = transitions[ii][1]\n",
        "    #   reward_ii = transitions[ii][2]\n",
        "    #   next_state_ii = transitions[ii][3]\n",
        "      \n",
        "    #   next_value = 0\n",
        "    #   if next_state_ii is not None:\n",
        "    #     next_value = # max_a Q(next_state, a) with target net\n",
        "      \n",
        "\n",
        "    #   values[ii] = # Q(state_ii)[action_ii]  with q_net\n",
        "    #   targets[ii] = reward_ii + GAMMA*next_value\n",
        "\n",
        "    \n",
        "\n",
        "    # Compute loss\n",
        "    values  = state_action_values\n",
        "    targets = batch_rewards + γ*next_state_values\n",
        "    loss = objective(values, targets.unsqueeze(1))\n",
        "     \n",
        "    # Optimize the model\n",
        "    optimizer.zero_grad()\n",
        "    loss.backward()\n",
        "    optimizer.step()\n",
        "    \n",
        "    return loss.data.numpy()"
      ],
      "execution_count": 0,
      "outputs": []
    },
    {
      "cell_type": "code",
      "metadata": {
        "id": "tn9SCgUE7ZRd",
        "colab_type": "code",
        "outputId": "447146cf-9a30-4919-8dc7-52e13709613c",
        "colab": {
          "base_uri": "https://localhost:8080/",
          "height": 646
        }
      },
      "source": [
        "#\n",
        "# Train\n",
        "# \n",
        "\n",
        "EVAL_EVERY = 5\n",
        "REWARD_THRESHOLD = 199\n",
        "\n",
        "def train():\n",
        "    state = env.reset()\n",
        "    epsilon = EPSILON_START\n",
        "    ep = 0\n",
        "    total_time = 0\n",
        "    while ep < N_EPISODES:\n",
        "        action = choose_action(state, epsilon)\n",
        "\n",
        "        # take action and update replay buffer and networks\n",
        "        next_state, reward, done, _ = env.step(action)\n",
        "        loss = update(state, action, reward, next_state, done)\n",
        "\n",
        "        # update state\n",
        "        state = next_state\n",
        "\n",
        "        # end episode if done\n",
        "        if done:\n",
        "            state = env.reset()\n",
        "            ep   += 1\n",
        "            if ( (ep+1)% EVAL_EVERY == 0):\n",
        "                rewards = eval_dqn()\n",
        "                print(\"episode =\", ep+1, \", reward = \", np.mean(rewards),\n",
        "                      \"loss = \", loss)\n",
        "                if np.mean(rewards) >= REWARD_THRESHOLD:\n",
        "                    break\n",
        "\n",
        "            # update target network\n",
        "            if ep % UPDATE_TARGET_EVERY == 0:\n",
        "                target_net.load_state_dict(q_net.state_dict())\n",
        "            # decrease epsilon\n",
        "            epsilon = EPSILON_MIN + (EPSILON_START - EPSILON_MIN) * \\\n",
        "                            np.exp(-1. * ep / DECREASE_EPSILON )    \n",
        "\n",
        "        total_time += 1\n",
        "\n",
        "train()\n",
        "rewards = eval_dqn(20)\n",
        "print(\"\")\n",
        "print(\"mean reward after training = \", np.mean(rewards))"
      ],
      "execution_count": 15,
      "outputs": [
        {
          "output_type": "stream",
          "text": [
            "episode = 5 , reward =  9.8 loss =  0.0015557652\n",
            "episode = 10 , reward =  10.2 loss =  0.0010533185\n",
            "episode = 15 , reward =  15.0 loss =  0.0016655647\n",
            "episode = 20 , reward =  9.2 loss =  0.0009156812\n",
            "episode = 25 , reward =  11.2 loss =  0.016867902\n",
            "episode = 30 , reward =  28.0 loss =  0.008510461\n",
            "episode = 35 , reward =  31.6 loss =  0.011008118\n",
            "episode = 40 , reward =  22.6 loss =  0.011763278\n",
            "episode = 45 , reward =  10.0 loss =  0.016337842\n",
            "episode = 50 , reward =  10.6 loss =  0.013857318\n",
            "episode = 55 , reward =  15.6 loss =  0.014234154\n",
            "episode = 60 , reward =  13.0 loss =  0.02145891\n",
            "episode = 65 , reward =  14.8 loss =  0.05379456\n",
            "episode = 70 , reward =  16.0 loss =  0.01929306\n",
            "episode = 75 , reward =  34.8 loss =  0.035433814\n",
            "episode = 80 , reward =  17.4 loss =  0.026030153\n",
            "episode = 85 , reward =  36.4 loss =  0.056555606\n",
            "episode = 90 , reward =  26.2 loss =  0.06250472\n",
            "episode = 95 , reward =  27.0 loss =  0.05385498\n",
            "episode = 100 , reward =  23.4 loss =  0.050626956\n",
            "episode = 105 , reward =  55.6 loss =  0.08411123\n",
            "episode = 110 , reward =  29.6 loss =  0.08471065\n",
            "episode = 115 , reward =  31.8 loss =  0.07005652\n",
            "episode = 120 , reward =  34.2 loss =  0.06965712\n",
            "episode = 125 , reward =  188.2 loss =  0.0818443\n",
            "episode = 130 , reward =  88.8 loss =  0.062002774\n",
            "episode = 135 , reward =  186.6 loss =  0.065977596\n",
            "episode = 140 , reward =  129.4 loss =  0.08130322\n",
            "episode = 145 , reward =  188.2 loss =  0.11241349\n",
            "episode = 150 , reward =  166.2 loss =  0.03921104\n",
            "episode = 155 , reward =  126.8 loss =  0.04529625\n",
            "episode = 160 , reward =  126.0 loss =  0.08891283\n",
            "episode = 165 , reward =  72.0 loss =  0.07210966\n",
            "episode = 170 , reward =  158.6 loss =  0.10939287\n",
            "episode = 175 , reward =  200.0 loss =  0.107209206\n",
            "\n",
            "mean reward after training =  200.0\n"
          ],
          "name": "stdout"
        }
      ]
    },
    {
      "cell_type": "markdown",
      "metadata": {
        "id": "xshtpttN7ZRi",
        "colab_type": "text"
      },
      "source": [
        "## Visualizing the agent"
      ]
    },
    {
      "cell_type": "code",
      "metadata": {
        "id": "J3UslTe87ZRj",
        "colab_type": "code",
        "outputId": "13e9e8b2-7429-4513-f1d1-1ee71e885872",
        "colab": {
          "base_uri": "https://localhost:8080/",
          "height": 71
        }
      },
      "source": [
        "def show_video(directory):\n",
        "    html = []\n",
        "    for mp4 in Path(directory).glob(\"*.mp4\"):\n",
        "        video_b64 = base64.b64encode(mp4.read_bytes())\n",
        "        html.append('''<video alt=\"{}\" autoplay \n",
        "                      loop controls style=\"height: 400px;\">\n",
        "                      <source src=\"data:video/mp4;base64,{}\" type=\"video/mp4\" />\n",
        "                 </video>'''.format(mp4, video_b64.decode('ascii')))\n",
        "    ipythondisplay.display(ipythondisplay.HTML(data=\"<br>\".join(html)))\n",
        "    \n",
        "def make_seed(seed):\n",
        "    np.random.seed(seed=seed)\n",
        "    torch.manual_seed(seed=seed)\n",
        "  \n",
        "from pyvirtualdisplay import Display\n",
        "display = Display(visible=0, size=(1400, 900))\n",
        "display.start()"
      ],
      "execution_count": 16,
      "outputs": [
        {
          "output_type": "stream",
          "text": [
            "xdpyinfo was not found, X start can not be checked! Please install xdpyinfo!\n"
          ],
          "name": "stderr"
        },
        {
          "output_type": "execute_result",
          "data": {
            "text/plain": [
              "<Display cmd_param=['Xvfb', '-br', '-nolisten', 'tcp', '-screen', '0', '1400x900x24', ':1001'] cmd=['Xvfb', '-br', '-nolisten', 'tcp', '-screen', '0', '1400x900x24', ':1001'] oserror=None return_code=None stdout=\"None\" stderr=\"None\" timeout_happened=False>"
            ]
          },
          "metadata": {
            "tags": []
          },
          "execution_count": 16
        }
      ]
    },
    {
      "cell_type": "code",
      "metadata": {
        "id": "JLWwf5FM7ZRo",
        "colab_type": "code",
        "outputId": "5454bd6f-1d7d-43af-8e9e-de3fdf7d710f",
        "colab": {
          "base_uri": "https://localhost:8080/",
          "height": 421
        }
      },
      "source": [
        "env = Monitor(env, \"./gym-results\", force=True, video_callable=lambda episode: True)\n",
        "for episode in range(1):\n",
        "    done = False\n",
        "    state = env.reset()\n",
        "    while not done:\n",
        "        action = dqn_policy(state)\n",
        "        state, reward, done, info = env.step(action)\n",
        "env.close()\n",
        "show_video(\"./gym-results\")"
      ],
      "execution_count": 17,
      "outputs": [
        {
          "output_type": "display_data",
          "data": {
            "text/html": [
              "<video alt=\"gym-results/openaigym.video.0.896.video000000.mp4\" autoplay \n",
              "                      loop controls style=\"height: 400px;\">\n",
              "                      <source src=\"data:video/mp4;base64,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\" type=\"video/mp4\" />\n",
              "                 </video>"
            ],
            "text/plain": [
              "<IPython.core.display.HTML object>"
            ]
          },
          "metadata": {
            "tags": []
          }
        }
      ]
    },
    {
      "cell_type": "markdown",
      "metadata": {
        "id": "zAUj0ZbY92Eq",
        "colab_type": "text"
      },
      "source": [
        "<h1>About the Authors:</h1> \n",
        "\n",
        "<a href=\"https://skabongo.github.io/\">Salomon Kabongo</a>, Master degree student at <a href=\"https://aims.ac.za/\">the African Master in Machine Intelligence (AMMI, Ghana)</a> his research focused on the use machine learning technique in the field of Natural Language Processing, learn more about him [here](https://skabongo.github.io/) or https://skabongo.github.io/.\n",
        "\n",
        "**References :** *Introduction to Reiforcement learning AMMI, course* by [Matteo Pirotta](https://teopir.github.io/), Research Scientist at Facebook AI Research, assisted by [Floian Strub](https://fstrub95.github.io/) and [Omar Darwiche Domingue](https://omardrwch.github.io/).\n",
        "\n",
        "Copyright &copy; 2020. This notebook and its source code are released under the terms of the <a href=\"https://www.apache.org/licenses/LICENSE-2.0\">Apache License 2.0</a>."
      ]
    }
  ]
}