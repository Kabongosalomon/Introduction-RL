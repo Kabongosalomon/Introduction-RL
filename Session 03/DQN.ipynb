{
  "nbformat": 4,
  "nbformat_minor": 0,
  "metadata": {
    "kernelspec": {
      "name": "python3",
      "display_name": "Python 3"
    },
    "language_info": {
      "codemirror_mode": {
        "name": "ipython",
        "version": 3
      },
      "file_extension": ".py",
      "mimetype": "text/x-python",
      "name": "python",
      "nbconvert_exporter": "python",
      "pygments_lexer": "ipython3",
      "version": "3.7.6"
    },
    "colab": {
      "name": "DQN.ipynb",
      "provenance": [],
      "include_colab_link": true
    },
    "accelerator": "GPU"
  },
  "cells": [
    {
      "cell_type": "markdown",
      "metadata": {
        "id": "view-in-github",
        "colab_type": "text"
      },
      "source": [
        "<a href=\"https://colab.research.google.com/github/Kabongosalomon/Introduction-RL/blob/master/Session%2003/DQN.ipynb\" target=\"_parent\"><img src=\"https://colab.research.google.com/assets/colab-badge.svg\" alt=\"Open In Colab\"/></a>"
      ]
    },
    {
      "cell_type": "markdown",
      "metadata": {
        "id": "gow745pr7ZQY",
        "colab_type": "text"
      },
      "source": [
        "## Colab setup"
      ]
    },
    {
      "cell_type": "code",
      "metadata": {
        "id": "hZdOcPcY7ZQc",
        "colab_type": "code",
        "colab": {}
      },
      "source": [
        "!pip install gym > /dev/null 2>&1"
      ],
      "execution_count": 0,
      "outputs": []
    },
    {
      "cell_type": "code",
      "metadata": {
        "id": "gwbgt65d7ZQj",
        "colab_type": "code",
        "colab": {}
      },
      "source": [
        "!pip install gym pyvirtualdisplay > /dev/null 2>&1\n",
        "!apt-get install -y xvfb python-opengl ffmpeg > /dev/null 2>&1"
      ],
      "execution_count": 0,
      "outputs": []
    },
    {
      "cell_type": "code",
      "metadata": {
        "id": "bRWw4bZ87ZQo",
        "colab_type": "code",
        "outputId": "8ee25b07-f641-4eff-e172-0de75ce0e7ab",
        "colab": {
          "base_uri": "https://localhost:8080/",
          "height": 34
        }
      },
      "source": [
        "!apt-get update > /dev/null 2>&1\n",
        "!apt-get install cmake > /dev/null 2>&1\n",
        "!pip install --upgrade setuptools 2>&1\n",
        "!pip install ez_setup > /dev/null 2>&1"
      ],
      "execution_count": 3,
      "outputs": [
        {
          "output_type": "stream",
          "text": [
            "Requirement already up-to-date: setuptools in /usr/local/lib/python3.6/dist-packages (45.2.0)\n"
          ],
          "name": "stdout"
        }
      ]
    },
    {
      "cell_type": "markdown",
      "metadata": {
        "id": "hd3geSA67ZQu",
        "colab_type": "text"
      },
      "source": [
        "# Deep Q-Learning (DQN)\n",
        "\n",
        "\n",
        "In DQN, the $Q$-function is parameterized by a neural network of parameters $\\theta$. The network takes as input a state $s$ and outputs $Q(s, a, \\theta)$ for all actions $a$. \n",
        "\n",
        "The network is trained in way that is similar to Fitted Q Iteration. At each time $T$, the agent has observed the transitions $(s_t, a_t, r_t, s_t')_{t=1}^T$, which are stored in a __replay buffer__.\n",
        "\n",
        "In addition to the network with parameters $\\theta$, DQN keeps another network with the same architecture and parameters $\\tilde{\\theta}$, called __target network__. \n",
        "To update the parameters $\\theta$, we sample $N$ transitions from the __replay buffer__, we define the loss \n",
        "\n",
        "$$\n",
        "L(\\theta) = \\sum_{i=1}^N [Q(s_i, a_i, \\theta) - (r_i + \\gamma\\max_{a'}Q(s'_i,a', \\tilde{\\theta}))]^2\n",
        "$$\n",
        "\n",
        "and update \n",
        "\n",
        "$$\n",
        "\\theta \\gets \\theta + \\eta \\nabla L(\\theta).\n",
        "$$\n",
        "\n",
        "\n",
        "Every $C$ iterations, the target network is updated as $\\tilde{\\theta} \\gets \\theta$. \n",
        "\n",
        "At each time $t$, DQN updates the networks as described above, selects an action according to an $\\epsilon$-greedy policy, plays the action and stores the new data in the replay buffer."
      ]
    },
    {
      "cell_type": "code",
      "metadata": {
        "id": "Gpj_PvaS7ZQw",
        "colab_type": "code",
        "colab": {}
      },
      "source": [
        "# Imports\n",
        "import torch\n",
        "import torch.nn as nn\n",
        "import torch.nn.functional as F\n",
        "import torch.optim as optim\n",
        "import numpy as np\n",
        "import random\n",
        "from copy import deepcopy\n",
        "\n",
        "import gym\n",
        "from gym import logger as gymlogger\n",
        "from gym.wrappers import Monitor\n",
        "gymlogger.set_level(40) #error only\n",
        "\n",
        "from pyvirtualdisplay import Display\n",
        "from IPython import display as ipythondisplay\n",
        "from IPython.display import clear_output\n",
        "from pathlib import Path\n",
        "\n",
        "import random, os.path, math, glob, csv, base64, itertools, sys\n",
        "from pprint import pprint\n",
        "\n",
        "import matplotlib\n",
        "import matplotlib.pyplot as plt\n",
        "%matplotlib inline\n",
        "import io\n",
        "from IPython.display import HTML"
      ],
      "execution_count": 0,
      "outputs": []
    },
    {
      "cell_type": "markdown",
      "metadata": {
        "id": "k8kIhFPo7ZQ1",
        "colab_type": "text"
      },
      "source": [
        "## Step 1: Define the parameters"
      ]
    },
    {
      "cell_type": "code",
      "metadata": {
        "id": "Fjo8iA9j7ZQ3",
        "colab_type": "code",
        "colab": {}
      },
      "source": [
        "# Environment\n",
        "env = gym.make(\"CartPole-v0\")\n",
        "\n",
        "# Discount factor\n",
        "GAMMA = 0.99\n",
        "\n",
        "# Batch size\n",
        "BATCH_SIZE = 500\n",
        "# Capacity of the replay buffer\n",
        "BUFFER_CAPACITY = 10000\n",
        "# Update target net every ... episodes\n",
        "UPDATE_TARGET_EVERY = 20\n",
        "\n",
        "# Initial value of epsilon\n",
        "EPSILON_START = 1.0\n",
        "# Parameter to decrease epsilon\n",
        "DECREASE_EPSILON = 200\n",
        "# Minimum value of epislon\n",
        "EPSILON_MIN = 0.05\n",
        "\n",
        "# Number of training episodes\n",
        "N_EPISODES = 200\n",
        "\n",
        "# Learning rate\n",
        "LEARNING_RATE = 0.1"
      ],
      "execution_count": 0,
      "outputs": []
    },
    {
      "cell_type": "markdown",
      "metadata": {
        "id": "U3Lg3iIs7ZQ9",
        "colab_type": "text"
      },
      "source": [
        "## Step 2: Define the replay buffer"
      ]
    },
    {
      "cell_type": "code",
      "metadata": {
        "id": "ZMdSUwIb7ZQ-",
        "colab_type": "code",
        "colab": {}
      },
      "source": [
        "class ReplayBuffer:\n",
        "    def __init__(self, capacity):\n",
        "        self.capacity = capacity\n",
        "        self.memory = []\n",
        "        self.position = 0\n",
        "\n",
        "    def push(self, state, action, reward, next_state):\n",
        "        \"\"\"Saves a transition.\"\"\"\n",
        "        if len(self.memory) < self.capacity:\n",
        "            self.memory.append(None)\n",
        "        self.memory[self.position] = (state, action, reward, next_state)\n",
        "        self.position = (self.position + 1) % self.capacity\n",
        "\n",
        "    def sample(self, batch_size):\n",
        "        return random.sample(self.memory, batch_size)\n",
        "\n",
        "    def __len__(self):\n",
        "        return len(self.memory)"
      ],
      "execution_count": 0,
      "outputs": []
    },
    {
      "cell_type": "code",
      "metadata": {
        "id": "2bxHR5u57ZRD",
        "colab_type": "code",
        "colab": {}
      },
      "source": [
        "# create instance of replay buffer\n",
        "replay_buffer = ReplayBuffer(BUFFER_CAPACITY)"
      ],
      "execution_count": 0,
      "outputs": []
    },
    {
      "cell_type": "markdown",
      "metadata": {
        "id": "WJDq4p7V7ZRH",
        "colab_type": "text"
      },
      "source": [
        "## Step 3: Define the neural network architecture, objective and optimizer"
      ]
    },
    {
      "cell_type": "code",
      "metadata": {
        "id": "g2M8VINN7ZRI",
        "colab_type": "code",
        "colab": {}
      },
      "source": [
        "class Net(nn.Module):\n",
        "    \"\"\"\n",
        "    Basic neural net.\n",
        "    \"\"\"\n",
        "    def __init__(self, obs_size, hidden_size, n_actions):\n",
        "        super(Net, self).__init__()\n",
        "        self.net = nn.Sequential(\n",
        "            nn.Linear(obs_size, hidden_size),\n",
        "            nn.ReLU(),\n",
        "            nn.Linear(hidden_size, n_actions)\n",
        "        )\n",
        "\n",
        "    def forward(self, x):\n",
        "        return self.net(x)"
      ],
      "execution_count": 0,
      "outputs": []
    },
    {
      "cell_type": "code",
      "metadata": {
        "id": "MPRSqaF97ZRO",
        "colab_type": "code",
        "colab": {}
      },
      "source": [
        "# create network and target network\n",
        "hidden_size = 128\n",
        "obs_size = env.observation_space.shape[0]\n",
        "n_actions = env.action_space.n\n",
        "\n",
        "q_net = Net(obs_size, hidden_size, n_actions)\n",
        "target_net = Net(obs_size, hidden_size, n_actions)\n",
        "\n",
        "# objective and optimizer\n",
        "objective = nn.MSELoss()\n",
        "optimizer = optim.Adam(params=q_net.parameters(), lr=LEARNING_RATE)"
      ],
      "execution_count": 0,
      "outputs": []
    },
    {
      "cell_type": "markdown",
      "metadata": {
        "id": "VKRalZYH7ZRT",
        "colab_type": "text"
      },
      "source": [
        "## Step 4: Implement DQN"
      ]
    },
    {
      "cell_type": "code",
      "metadata": {
        "id": "C5FsQLyW7ZRU",
        "colab_type": "code",
        "colab": {}
      },
      "source": [
        "#\n",
        "#  Some useful functions\n",
        "#\n",
        "\n",
        "def get_q(states):\n",
        "    \"\"\"\n",
        "    Compute Q function for a list of states\n",
        "    \"\"\"\n",
        "    with torch.no_grad():\n",
        "        states_v = torch.FloatTensor([states])\n",
        "        output = q_net.forward(states_v).data.numpy()  # shape (1, len(states), dim_state)\n",
        "    return output[0, :, :]  # shape (len(states), dim_state)\n",
        "\n",
        "def dqn_policy(s):\n",
        "    \"\"\"\n",
        "    Choose action at s using q_net\n",
        "    \"\"\"\n",
        "    if not isinstance(s, np.ndarray):\n",
        "        raise TypeError(\"Vector encoding expected for state variable.\")\n",
        "    q = get_q([s])[0]\n",
        "    return q.argmax()\n",
        "\n",
        "def eval_dqn(n_sim=5):\n",
        "    \"\"\"\n",
        "    Monte Carlo evaluation of DQN agent\n",
        "    \"\"\"\n",
        "    rewards = []\n",
        "    copy_env = deepcopy(env)\n",
        "    for sim in range(n_sim):\n",
        "        done = False\n",
        "        state = copy_env.reset()\n",
        "        sim_rewards = 0.0\n",
        "        while not done:\n",
        "            action = dqn_policy(state)\n",
        "            next_state, reward, done, _ = copy_env.step(action)\n",
        "            sim_rewards += reward\n",
        "            state = next_state\n",
        "        rewards.append(sim_rewards)\n",
        "    return rewards"
      ],
      "execution_count": 0,
      "outputs": []
    },
    {
      "cell_type": "code",
      "metadata": {
        "id": "06fbcv507ZRZ",
        "colab_type": "code",
        "colab": {}
      },
      "source": [
        "def choose_action(state, epsilon):\n",
        "    \"\"\"\n",
        "    TO BE IMPLEMENTED\n",
        "    \n",
        "    Return action according to an epsilon-greedy exploration policy\n",
        "    \"\"\"\n",
        "    q_state = get_q([state])[0] # array of shape (n_actions,)\n",
        "    if np.random.uniform(0, 1) < epsilon:\n",
        "      action = env.action_space.sample() # random action\n",
        "    else:\n",
        "      action = q_state.argmax()\n",
        "    return action\n",
        "    \n",
        "\n",
        "def update(state, action, reward, next_state, done):\n",
        "    \"\"\"\n",
        "    TO BE COMPLETED\n",
        "    \"\"\"\n",
        "    \n",
        "    # add data to replay buffer\n",
        "    if done:\n",
        "        next_state = None\n",
        "    replay_buffer.push(state, action, reward, next_state)\n",
        "    \n",
        "    if len(replay_buffer) < BATCH_SIZE:\n",
        "        return np.inf\n",
        "    \n",
        "    # get batch\n",
        "    # transitions = list of (state, action, reward, next_state)\n",
        "    transitions = replay_buffer.sample(BATCH_SIZE)\n",
        "\n",
        "    # 1st thing: compute Q(s_i, a_i, theta) for all (s_i, a_i)\n",
        "    # in the batch\n",
        "    \n",
        "    # Build tensor with s_i and tensor with a_i\n",
        "    batch_states = torch.FloatTensor( \n",
        "                    [ transitions[ii][0] for ii in range(BATCH_SIZE) ]\n",
        "                    )\n",
        "    batch_actions = torch.LongTensor(  # type is important (Long) \n",
        "                    [ transitions[ii][1] for ii in range(BATCH_SIZE) ]\n",
        "                    )\n",
        "    batch_rewards = torch.FloatTensor( \n",
        "                    [ transitions[ii][2] for ii in range(BATCH_SIZE) ]\n",
        "                    )\n",
        "\n",
        "    non_final_mask = torch.tensor([(transitions[ii][3] is not None) \n",
        "                                   for ii in range(BATCH_SIZE)], dtype=torch.bool)\n",
        "    non_final_next_states = torch.FloatTensor(\n",
        "            [transitions[ii][3]  for ii in range(BATCH_SIZE) if transitions[ii][3] is not None])\n",
        "        \n",
        "    next_state_values = torch.zeros(BATCH_SIZE)\n",
        "    next_state_values[non_final_mask] = target_net(non_final_next_states).max(1)[0].detach()\n",
        "    state_action_values = q_net(batch_states).gather(1, batch_actions.view(-1, 1))\n",
        "\n",
        "\n",
        "    # # A simpler (and slower) way to compute all these things\n",
        "    # for ii in range(BATCH_SIZE):\n",
        "    #   state_ii = transitions[ii][0]\n",
        "    #   action_ii = transitions[ii][1]\n",
        "    #   reward_ii = transitions[ii][2]\n",
        "    #   next_state_ii = transitions[ii][3]\n",
        "      \n",
        "    #   next_value = 0\n",
        "    #   if next_state_ii is not None:\n",
        "    #     next_value = # max_a Q(next_state, a) with target net\n",
        "      \n",
        "\n",
        "    #   values[ii] = # Q(state_ii)[action_ii]  with q_net\n",
        "    #   targets[ii] = reward_ii + GAMMA*next_value\n",
        "\n",
        "    \n",
        "\n",
        "    # Compute loss - TO BE IMPLEMENTED!\n",
        "    values  = state_action_values\n",
        "    targets = batch_rewards + GAMMA*next_state_values\n",
        "    loss = objective(values, targets.unsqueeze(1))\n",
        "     \n",
        "    # Optimize the model - UNCOMMENT!\n",
        "    optimizer.zero_grad()\n",
        "    loss.backward()\n",
        "    optimizer.step()\n",
        "    \n",
        "    return loss.data.numpy()"
      ],
      "execution_count": 0,
      "outputs": []
    },
    {
      "cell_type": "code",
      "metadata": {
        "id": "tn9SCgUE7ZRd",
        "colab_type": "code",
        "outputId": "946e3883-8bb8-475f-8323-692e559f0ae4",
        "colab": {
          "base_uri": "https://localhost:8080/",
          "height": 595
        }
      },
      "source": [
        "#\n",
        "# Train\n",
        "# \n",
        "\n",
        "EVAL_EVERY = 5\n",
        "REWARD_THRESHOLD = 199\n",
        "\n",
        "def train():\n",
        "    state = env.reset()\n",
        "    epsilon = EPSILON_START\n",
        "    ep = 0\n",
        "    total_time = 0\n",
        "    while ep < N_EPISODES:\n",
        "        action = choose_action(state, epsilon)\n",
        "\n",
        "        # take action and update replay buffer and networks\n",
        "        next_state, reward, done, _ = env.step(action)\n",
        "        loss = update(state, action, reward, next_state, done)\n",
        "\n",
        "        # update state\n",
        "        state = next_state\n",
        "\n",
        "        # end episode if done\n",
        "        if done:\n",
        "            state = env.reset()\n",
        "            ep   += 1\n",
        "            if ( (ep+1)% EVAL_EVERY == 0):\n",
        "                rewards = eval_dqn()\n",
        "                print(\"episode =\", ep+1, \", reward = \", np.mean(rewards),\n",
        "                      \"loss = \", loss)\n",
        "                if np.mean(rewards) >= REWARD_THRESHOLD:\n",
        "                    break\n",
        "\n",
        "            # update target network\n",
        "            if ep % UPDATE_TARGET_EVERY == 0:\n",
        "                target_net.load_state_dict(q_net.state_dict())\n",
        "            # decrease epsilon\n",
        "            epsilon = EPSILON_MIN + (EPSILON_START - EPSILON_MIN) * \\\n",
        "                            np.exp(-1. * ep / DECREASE_EPSILON )    \n",
        "\n",
        "        total_time += 1\n",
        "\n",
        "train()\n",
        "rewards = eval_dqn(20)\n",
        "print(\"\")\n",
        "print(\"mean reward after training = \", np.mean(rewards))"
      ],
      "execution_count": 12,
      "outputs": [
        {
          "output_type": "stream",
          "text": [
            "episode = 5 , reward =  9.0 loss =  inf\n",
            "episode = 10 , reward =  9.4 loss =  inf\n",
            "episode = 15 , reward =  9.4 loss =  inf\n",
            "episode = 20 , reward =  9.4 loss =  inf\n",
            "episode = 25 , reward =  16.8 loss =  0.018032294\n",
            "episode = 30 , reward =  19.0 loss =  0.0107161645\n",
            "episode = 35 , reward =  22.4 loss =  0.01610439\n",
            "episode = 40 , reward =  18.6 loss =  0.0054252525\n",
            "episode = 45 , reward =  22.4 loss =  0.029920155\n",
            "episode = 50 , reward =  24.8 loss =  0.01864514\n",
            "episode = 55 , reward =  39.6 loss =  0.019388447\n",
            "episode = 60 , reward =  68.0 loss =  0.01014505\n",
            "episode = 65 , reward =  111.8 loss =  0.028276274\n",
            "episode = 70 , reward =  18.6 loss =  0.021675684\n",
            "episode = 75 , reward =  21.8 loss =  0.021697426\n",
            "episode = 80 , reward =  12.0 loss =  0.03820238\n",
            "episode = 85 , reward =  35.8 loss =  0.039245274\n",
            "episode = 90 , reward =  38.4 loss =  0.062454376\n",
            "episode = 95 , reward =  16.8 loss =  0.033834763\n",
            "episode = 100 , reward =  41.6 loss =  0.07059998\n",
            "episode = 105 , reward =  23.4 loss =  0.063045695\n",
            "episode = 110 , reward =  24.2 loss =  0.030159796\n",
            "episode = 115 , reward =  14.2 loss =  0.10247741\n",
            "episode = 120 , reward =  20.0 loss =  0.050829496\n",
            "episode = 125 , reward =  48.4 loss =  0.07622686\n",
            "episode = 130 , reward =  45.6 loss =  0.038886663\n",
            "episode = 135 , reward =  33.0 loss =  0.06530179\n",
            "episode = 140 , reward =  100.2 loss =  0.054671634\n",
            "episode = 145 , reward =  70.0 loss =  0.10972526\n",
            "episode = 150 , reward =  175.4 loss =  0.044140775\n",
            "episode = 155 , reward =  48.0 loss =  0.049005784\n",
            "episode = 160 , reward =  200.0 loss =  0.119727254\n",
            "\n",
            "mean reward after training =  200.0\n"
          ],
          "name": "stdout"
        }
      ]
    },
    {
      "cell_type": "markdown",
      "metadata": {
        "id": "xshtpttN7ZRi",
        "colab_type": "text"
      },
      "source": [
        "## Visualizing the agent"
      ]
    },
    {
      "cell_type": "code",
      "metadata": {
        "id": "J3UslTe87ZRj",
        "colab_type": "code",
        "outputId": "37ff60a0-5d98-4cb0-b2f1-89aa31174fd0",
        "colab": {
          "base_uri": "https://localhost:8080/",
          "height": 71
        }
      },
      "source": [
        "def show_video(directory):\n",
        "    html = []\n",
        "    for mp4 in Path(directory).glob(\"*.mp4\"):\n",
        "        video_b64 = base64.b64encode(mp4.read_bytes())\n",
        "        html.append('''<video alt=\"{}\" autoplay \n",
        "                      loop controls style=\"height: 400px;\">\n",
        "                      <source src=\"data:video/mp4;base64,{}\" type=\"video/mp4\" />\n",
        "                 </video>'''.format(mp4, video_b64.decode('ascii')))\n",
        "    ipythondisplay.display(ipythondisplay.HTML(data=\"<br>\".join(html)))\n",
        "    \n",
        "def make_seed(seed):\n",
        "    np.random.seed(seed=seed)\n",
        "    torch.manual_seed(seed=seed)\n",
        "  \n",
        "from pyvirtualdisplay import Display\n",
        "display = Display(visible=0, size=(1400, 900))\n",
        "display.start()"
      ],
      "execution_count": 13,
      "outputs": [
        {
          "output_type": "stream",
          "text": [
            "xdpyinfo was not found, X start can not be checked! Please install xdpyinfo!\n"
          ],
          "name": "stderr"
        },
        {
          "output_type": "execute_result",
          "data": {
            "text/plain": [
              "<Display cmd_param=['Xvfb', '-br', '-nolisten', 'tcp', '-screen', '0', '1400x900x24', ':1001'] cmd=['Xvfb', '-br', '-nolisten', 'tcp', '-screen', '0', '1400x900x24', ':1001'] oserror=None return_code=None stdout=\"None\" stderr=\"None\" timeout_happened=False>"
            ]
          },
          "metadata": {
            "tags": []
          },
          "execution_count": 13
        }
      ]
    },
    {
      "cell_type": "code",
      "metadata": {
        "id": "JLWwf5FM7ZRo",
        "colab_type": "code",
        "outputId": "b40fa119-7459-4cf0-fb38-eba4dda0ba53",
        "colab": {
          "base_uri": "https://localhost:8080/",
          "height": 421
        }
      },
      "source": [
        "env = Monitor(env, \"./gym-results\", force=True, video_callable=lambda episode: True)\n",
        "for episode in range(1):\n",
        "    done = False\n",
        "    state = env.reset()\n",
        "    while not done:\n",
        "        action = dqn_policy(state)\n",
        "        state, reward, done, info = env.step(action)\n",
        "env.close()\n",
        "show_video(\"./gym-results\")"
      ],
      "execution_count": 14,
      "outputs": [
        {
          "output_type": "display_data",
          "data": {
            "text/html": [
              "<video alt=\"gym-results/openaigym.video.0.870.video000000.mp4\" autoplay \n",
              "                      loop controls style=\"height: 400px;\">\n",
              "                      <source src=\"data:video/mp4;base64,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\" type=\"video/mp4\" />\n",
              "                 </video>"
            ],
            "text/plain": [
              "<IPython.core.display.HTML object>"
            ]
          },
          "metadata": {
            "tags": []
          }
        }
      ]
    },
    {
      "cell_type": "code",
      "metadata": {
        "id": "MRpnajiv3dY7",
        "colab_type": "code",
        "colab": {}
      },
      "source": [
        ""
      ],
      "execution_count": 0,
      "outputs": []
    }
  ]
}