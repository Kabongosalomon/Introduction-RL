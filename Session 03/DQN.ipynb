{
  "nbformat": 4,
  "nbformat_minor": 0,
  "metadata": {
    "kernelspec": {
      "name": "python3",
      "display_name": "Python 3"
    },
    "language_info": {
      "codemirror_mode": {
        "name": "ipython",
        "version": 3
      },
      "file_extension": ".py",
      "mimetype": "text/x-python",
      "name": "python",
      "nbconvert_exporter": "python",
      "pygments_lexer": "ipython3",
      "version": "3.7.6"
    },
    "colab": {
      "name": "DQN.ipynb",
      "provenance": [],
      "include_colab_link": true
    },
    "accelerator": "GPU"
  },
  "cells": [
    {
      "cell_type": "markdown",
      "metadata": {
        "id": "view-in-github",
        "colab_type": "text"
      },
      "source": [
        "<a href=\"https://colab.research.google.com/github/Kabongosalomon/Introduction-RL/blob/master/Session%2003/DQN.ipynb\" target=\"_parent\"><img src=\"https://colab.research.google.com/assets/colab-badge.svg\" alt=\"Open In Colab\"/></a>"
      ]
    },
    {
      "cell_type": "markdown",
      "metadata": {
        "id": "gow745pr7ZQY",
        "colab_type": "text"
      },
      "source": [
        "## Colab setup"
      ]
    },
    {
      "cell_type": "code",
      "metadata": {
        "id": "hZdOcPcY7ZQc",
        "colab_type": "code",
        "colab": {}
      },
      "source": [
        "!pip install gym > /dev/null 2>&1"
      ],
      "execution_count": 0,
      "outputs": []
    },
    {
      "cell_type": "code",
      "metadata": {
        "id": "gwbgt65d7ZQj",
        "colab_type": "code",
        "colab": {}
      },
      "source": [
        "!pip install gym pyvirtualdisplay > /dev/null 2>&1\n",
        "!apt-get install -y xvfb python-opengl ffmpeg > /dev/null 2>&1"
      ],
      "execution_count": 0,
      "outputs": []
    },
    {
      "cell_type": "code",
      "metadata": {
        "id": "bRWw4bZ87ZQo",
        "colab_type": "code",
        "colab": {
          "base_uri": "https://localhost:8080/",
          "height": 34
        },
        "outputId": "a3c6ba45-6371-4f32-be9c-e4a41f2e68d1"
      },
      "source": [
        "!apt-get update > /dev/null 2>&1\n",
        "!apt-get install cmake > /dev/null 2>&1\n",
        "!pip install --upgrade setuptools 2>&1\n",
        "!pip install ez_setup > /dev/null 2>&1"
      ],
      "execution_count": 3,
      "outputs": [
        {
          "output_type": "stream",
          "text": [
            "Requirement already up-to-date: setuptools in /usr/local/lib/python3.6/dist-packages (45.2.0)\n"
          ],
          "name": "stdout"
        }
      ]
    },
    {
      "cell_type": "markdown",
      "metadata": {
        "id": "hd3geSA67ZQu",
        "colab_type": "text"
      },
      "source": [
        "# Deep Q-Learning (DQN)\n",
        "\n",
        "\n",
        "In DQN, the $Q$-function is parameterized by a neural network of parameters $\\theta$. The network takes as input a state $s$ and outputs $Q(s, a, \\theta)$ for all actions $a$. \n",
        "\n",
        "The network is trained in way that is similar to Fitted Q Iteration. At each time $T$, the agent has observed the transitions $(s_t, a_t, r_t, s_t')_{t=1}^T$, which are stored in a __replay buffer__.\n",
        "\n",
        "In addition to the network with parameters $\\theta$, DQN keeps another network with the same architecture and parameters $\\tilde{\\theta}$, called __target network__. \n",
        "To update the parameters $\\theta$, we sample $N$ transitions from the __replay buffer__, we define the loss \n",
        "\n",
        "$$\n",
        "L(\\theta) = \\sum_{i=1}^N [Q(s_i, a_i, \\theta) - (r_i + \\gamma\\max_{a'}Q(s'_i,a', \\tilde{\\theta}))]^2\n",
        "$$\n",
        "\n",
        "and update \n",
        "\n",
        "$$\n",
        "\\theta \\gets \\theta + \\eta \\nabla L(\\theta).\n",
        "$$\n",
        "\n",
        "\n",
        "Every $C$ iterations, the target network is updated as $\\tilde{\\theta} \\gets \\theta$. \n",
        "\n",
        "At each time $t$, DQN updates the networks as described above, selects an action according to an $\\epsilon$-greedy policy, plays the action and stores the new data in the replay buffer."
      ]
    },
    {
      "cell_type": "code",
      "metadata": {
        "id": "Gpj_PvaS7ZQw",
        "colab_type": "code",
        "colab": {}
      },
      "source": [
        "# Imports\n",
        "import torch\n",
        "import torch.nn as nn\n",
        "import torch.nn.functional as F\n",
        "import torch.optim as optim\n",
        "import numpy as np\n",
        "import random\n",
        "from copy import deepcopy\n",
        "\n",
        "import gym\n",
        "from gym import logger as gymlogger\n",
        "from gym.wrappers import Monitor\n",
        "gymlogger.set_level(40) #error only\n",
        "\n",
        "from pyvirtualdisplay import Display\n",
        "from IPython import display as ipythondisplay\n",
        "from IPython.display import clear_output\n",
        "from pathlib import Path\n",
        "\n",
        "import random, os.path, math, glob, csv, base64, itertools, sys\n",
        "from pprint import pprint\n",
        "\n",
        "import matplotlib\n",
        "import matplotlib.pyplot as plt\n",
        "%matplotlib inline\n",
        "import io\n",
        "from IPython.display import HTML"
      ],
      "execution_count": 0,
      "outputs": []
    },
    {
      "cell_type": "markdown",
      "metadata": {
        "id": "k8kIhFPo7ZQ1",
        "colab_type": "text"
      },
      "source": [
        "## Step 1: Define the parameters"
      ]
    },
    {
      "cell_type": "code",
      "metadata": {
        "id": "Fjo8iA9j7ZQ3",
        "colab_type": "code",
        "colab": {}
      },
      "source": [
        "# Environment\n",
        "env = gym.make(\"CartPole-v0\")\n",
        "\n",
        "# Discount factor\n",
        "GAMMA = 0.99\n",
        "\n",
        "# Batch size\n",
        "BATCH_SIZE = 500\n",
        "# Capacity of the replay buffer\n",
        "BUFFER_CAPACITY = 10000\n",
        "# Update target net every ... episodes\n",
        "UPDATE_TARGET_EVERY = 20\n",
        "\n",
        "# Initial value of epsilon\n",
        "EPSILON_START = 1.0\n",
        "# Parameter to decrease epsilon\n",
        "DECREASE_EPSILON = 200\n",
        "# Minimum value of epislon\n",
        "EPSILON_MIN = 0.05\n",
        "\n",
        "# Number of training episodes\n",
        "N_EPISODES = 200\n",
        "\n",
        "# Learning rate\n",
        "LEARNING_RATE = 0.1"
      ],
      "execution_count": 0,
      "outputs": []
    },
    {
      "cell_type": "markdown",
      "metadata": {
        "id": "U3Lg3iIs7ZQ9",
        "colab_type": "text"
      },
      "source": [
        "## Step 2: Define the replay buffer"
      ]
    },
    {
      "cell_type": "code",
      "metadata": {
        "id": "ZMdSUwIb7ZQ-",
        "colab_type": "code",
        "colab": {}
      },
      "source": [
        "class ReplayBuffer:\n",
        "    def __init__(self, capacity):\n",
        "        self.capacity = capacity\n",
        "        self.memory = []\n",
        "        self.position = 0\n",
        "\n",
        "    def push(self, state, action, reward, next_state):\n",
        "        \"\"\"Saves a transition.\"\"\"\n",
        "        if len(self.memory) < self.capacity:\n",
        "            self.memory.append(None)\n",
        "        self.memory[self.position] = (state, action, reward, next_state)\n",
        "        self.position = (self.position + 1) % self.capacity\n",
        "\n",
        "    def sample(self, batch_size):\n",
        "        return random.sample(self.memory, batch_size)\n",
        "\n",
        "    def __len__(self):\n",
        "        return len(self.memory)"
      ],
      "execution_count": 0,
      "outputs": []
    },
    {
      "cell_type": "code",
      "metadata": {
        "id": "2bxHR5u57ZRD",
        "colab_type": "code",
        "colab": {}
      },
      "source": [
        "# create instance of replay buffer\n",
        "replay_buffer = ReplayBuffer(BUFFER_CAPACITY)"
      ],
      "execution_count": 0,
      "outputs": []
    },
    {
      "cell_type": "markdown",
      "metadata": {
        "id": "WJDq4p7V7ZRH",
        "colab_type": "text"
      },
      "source": [
        "## Step 3: Define the neural network architecture, objective and optimizer"
      ]
    },
    {
      "cell_type": "code",
      "metadata": {
        "id": "g2M8VINN7ZRI",
        "colab_type": "code",
        "colab": {}
      },
      "source": [
        "class Net(nn.Module):\n",
        "    \"\"\"\n",
        "    Basic neural net.\n",
        "    \"\"\"\n",
        "    def __init__(self, obs_size, hidden_size, n_actions):\n",
        "        super(Net, self).__init__()\n",
        "        self.net = nn.Sequential(\n",
        "            nn.Linear(obs_size, hidden_size),\n",
        "            nn.ReLU(),\n",
        "            nn.Linear(hidden_size, n_actions)\n",
        "        )\n",
        "\n",
        "    def forward(self, x):\n",
        "        return self.net(x)"
      ],
      "execution_count": 0,
      "outputs": []
    },
    {
      "cell_type": "code",
      "metadata": {
        "id": "MPRSqaF97ZRO",
        "colab_type": "code",
        "colab": {}
      },
      "source": [
        "# create network and target network\n",
        "hidden_size = 128\n",
        "obs_size = env.observation_space.shape[0]\n",
        "n_actions = env.action_space.n\n",
        "\n",
        "q_net = Net(obs_size, hidden_size, n_actions)\n",
        "target_net = Net(obs_size, hidden_size, n_actions)\n",
        "\n",
        "# objective and optimizer\n",
        "objective = nn.MSELoss()\n",
        "optimizer = optim.Adam(params=q_net.parameters(), lr=LEARNING_RATE)"
      ],
      "execution_count": 0,
      "outputs": []
    },
    {
      "cell_type": "markdown",
      "metadata": {
        "id": "VKRalZYH7ZRT",
        "colab_type": "text"
      },
      "source": [
        "## Step 4: Implement DQN"
      ]
    },
    {
      "cell_type": "code",
      "metadata": {
        "id": "C5FsQLyW7ZRU",
        "colab_type": "code",
        "colab": {}
      },
      "source": [
        "#\n",
        "#  Some useful functions\n",
        "#\n",
        "\n",
        "def get_q(states):\n",
        "    \"\"\"\n",
        "    Compute Q function for a list of states\n",
        "    \"\"\"\n",
        "    with torch.no_grad():\n",
        "        states_v = torch.FloatTensor([states])\n",
        "        output = q_net.forward(states_v).data.numpy()  # shape (1, len(states), dim_state)\n",
        "    return output[0, :, :]  # shape (len(states), dim_state)\n",
        "\n",
        "def dqn_policy(s):\n",
        "    \"\"\"\n",
        "    Choose action at s using q_net\n",
        "    \"\"\"\n",
        "    if not isinstance(s, np.ndarray):\n",
        "        raise TypeError(\"Vector encoding expected for state variable.\")\n",
        "    q = get_q([s])[0]\n",
        "    return q.argmax()\n",
        "\n",
        "def eval_dqn(n_sim=5):\n",
        "    \"\"\"\n",
        "    Monte Carlo evaluation of DQN agent\n",
        "    \"\"\"\n",
        "    rewards = []\n",
        "    copy_env = deepcopy(env)\n",
        "    for sim in range(n_sim):\n",
        "        done = False\n",
        "        state = copy_env.reset()\n",
        "        sim_rewards = 0.0\n",
        "        while not done:\n",
        "            action = dqn_policy(state)\n",
        "            next_state, reward, done, _ = copy_env.step(action)\n",
        "            sim_rewards += reward\n",
        "            state = next_state\n",
        "        rewards.append(sim_rewards)\n",
        "    return rewards"
      ],
      "execution_count": 0,
      "outputs": []
    },
    {
      "cell_type": "code",
      "metadata": {
        "id": "06fbcv507ZRZ",
        "colab_type": "code",
        "colab": {}
      },
      "source": [
        "def choose_action(state, epsilon):\n",
        "    \"\"\"\n",
        "    TO BE IMPLEMENTED\n",
        "    \n",
        "    Return action according to an epsilon-greedy exploration policy\n",
        "    \"\"\"\n",
        "    q_state = get_q([state])[0] # array of shape (n_actions,)\n",
        "    if np.random.uniform(0, 1) < epsilon:\n",
        "      action = env.action_space.sample() # random action\n",
        "    else:\n",
        "      action = q_state.argmax()\n",
        "    return action\n",
        "    \n",
        "\n",
        "def update(state, action, reward, next_state, done):\n",
        "    \"\"\"\n",
        "    TO BE COMPLETED\n",
        "    \"\"\"\n",
        "    \n",
        "    # add data to replay buffer\n",
        "    if done:\n",
        "        next_state = None\n",
        "    replay_buffer.push(state, action, reward, next_state)\n",
        "    \n",
        "    if len(replay_buffer) < BATCH_SIZE:\n",
        "        return np.inf\n",
        "    \n",
        "    # get batch\n",
        "    # transitions = list of (state, action, reward, next_state)\n",
        "    transitions = replay_buffer.sample(BATCH_SIZE)\n",
        "\n",
        "    # 1st thing: compute Q(s_i, a_i, theta) for all (s_i, a_i)\n",
        "    # in the batch\n",
        "    \n",
        "    # Build tensor with s_i and tensor with a_i\n",
        "    batch_states = torch.FloatTensor( \n",
        "                    [ transitions[ii][0] for ii in range(BATCH_SIZE) ]\n",
        "                    )\n",
        "    batch_actions = torch.LongTensor(  # type is important (Long) \n",
        "                    [ transitions[ii][1] for ii in range(BATCH_SIZE) ]\n",
        "                    )\n",
        "    batch_rewards = torch.FloatTensor( \n",
        "                    [ transitions[ii][2] for ii in range(BATCH_SIZE) ]\n",
        "                    )\n",
        "\n",
        "    non_final_mask = torch.tensor([(transitions[ii][3] is not None) \n",
        "                                   for ii in range(BATCH_SIZE)], dtype=torch.bool)\n",
        "    non_final_next_states = torch.FloatTensor(\n",
        "            [transitions[ii][3]  for ii in range(BATCH_SIZE) if transitions[ii][3] is not None])\n",
        "        \n",
        "    next_state_values = torch.zeros(BATCH_SIZE)\n",
        "    next_state_values[non_final_mask] = target_net(non_final_next_states).max(1)[0].detach()\n",
        "    state_action_values = q_net(batch_states).gather(1, batch_actions.view(-1, 1))\n",
        "\n",
        "\n",
        "    # # A simpler (and slower) way to compute all these things\n",
        "    # for ii in range(BATCH_SIZE):\n",
        "    #   state_ii = transitions[ii][0]\n",
        "    #   action_ii = transitions[ii][1]\n",
        "    #   reward_ii = transitions[ii][2]\n",
        "    #   next_state_ii = transitions[ii][3]\n",
        "      \n",
        "    #   next_value = 0\n",
        "    #   if next_state_ii is not None:\n",
        "    #     next_value = # max_a Q(next_state, a) with target net\n",
        "      \n",
        "\n",
        "    #   values[ii] = # Q(state_ii)[action_ii]  with q_net\n",
        "    #   targets[ii] = reward_ii + GAMMA*next_value\n",
        "\n",
        "    \n",
        "\n",
        "    # Compute loss - TO BE IMPLEMENTED!\n",
        "    values  = state_action_values\n",
        "    targets = batch_rewards + GAMMA*next_state_values\n",
        "    loss = objective(values, targets.unsqueeze(1))\n",
        "     \n",
        "    # Optimize the model - UNCOMMENT!\n",
        "    optimizer.zero_grad()\n",
        "    loss.backward()\n",
        "    optimizer.step()\n",
        "    \n",
        "    return loss.data.numpy()"
      ],
      "execution_count": 0,
      "outputs": []
    },
    {
      "cell_type": "code",
      "metadata": {
        "id": "tn9SCgUE7ZRd",
        "colab_type": "code",
        "outputId": "923ca0b8-b5a9-4c26-9188-4c66a4a38899",
        "colab": {
          "base_uri": "https://localhost:8080/",
          "height": 629
        }
      },
      "source": [
        "#\n",
        "# Train\n",
        "# \n",
        "\n",
        "EVAL_EVERY = 5\n",
        "REWARD_THRESHOLD = 199\n",
        "\n",
        "def train():\n",
        "    state = env.reset()\n",
        "    epsilon = EPSILON_START\n",
        "    ep = 0\n",
        "    total_time = 0\n",
        "    while ep < N_EPISODES:\n",
        "        action = choose_action(state, epsilon)\n",
        "\n",
        "        # take action and update replay buffer and networks\n",
        "        next_state, reward, done, _ = env.step(action)\n",
        "        loss = update(state, action, reward, next_state, done)\n",
        "\n",
        "        # update state\n",
        "        state = next_state\n",
        "\n",
        "        # end episode if done\n",
        "        if done:\n",
        "            state = env.reset()\n",
        "            ep   += 1\n",
        "            if ( (ep+1)% EVAL_EVERY == 0):\n",
        "                rewards = eval_dqn()\n",
        "                print(\"episode =\", ep+1, \", reward = \", np.mean(rewards),\n",
        "                      \"loss = \", loss)\n",
        "                if np.mean(rewards) >= REWARD_THRESHOLD:\n",
        "                    break\n",
        "\n",
        "            # update target network\n",
        "            if ep % UPDATE_TARGET_EVERY == 0:\n",
        "                target_net.load_state_dict(q_net.state_dict())\n",
        "            # decrease epsilon\n",
        "            epsilon = EPSILON_MIN + (EPSILON_START - EPSILON_MIN) * \\\n",
        "                            np.exp(-1. * ep / DECREASE_EPSILON )    \n",
        "\n",
        "        total_time += 1\n",
        "\n",
        "train()\n",
        "rewards = eval_dqn(20)\n",
        "print(\"\")\n",
        "print(\"mean reward after training = \", np.mean(rewards))"
      ],
      "execution_count": 42,
      "outputs": [
        {
          "output_type": "stream",
          "text": [
            "episode = 5 , reward =  9.6 loss =  7.595277\n",
            "episode = 10 , reward =  9.6 loss =  9.408089\n",
            "episode = 15 , reward =  9.8 loss =  10.62573\n",
            "episode = 20 , reward =  9.8 loss =  7.853951\n",
            "episode = 25 , reward =  9.6 loss =  9.134466\n",
            "episode = 30 , reward =  8.6 loss =  10.380748\n",
            "episode = 35 , reward =  9.4 loss =  8.81726\n",
            "episode = 40 , reward =  8.8 loss =  7.2090597\n",
            "episode = 45 , reward =  9.0 loss =  8.449153\n",
            "episode = 50 , reward =  9.4 loss =  9.445806\n",
            "episode = 55 , reward =  9.0 loss =  9.120566\n",
            "episode = 60 , reward =  9.4 loss =  10.099698\n",
            "episode = 65 , reward =  9.6 loss =  10.727313\n",
            "episode = 70 , reward =  9.6 loss =  10.354642\n",
            "episode = 75 , reward =  9.2 loss =  11.357058\n",
            "episode = 80 , reward =  9.2 loss =  9.672508\n",
            "episode = 85 , reward =  9.4 loss =  13.280017\n",
            "episode = 90 , reward =  8.8 loss =  10.545151\n",
            "episode = 95 , reward =  9.0 loss =  12.5994005\n",
            "episode = 100 , reward =  9.6 loss =  14.316308\n",
            "episode = 105 , reward =  9.8 loss =  11.264362\n",
            "episode = 110 , reward =  9.0 loss =  8.416945\n",
            "episode = 115 , reward =  9.8 loss =  9.86294\n",
            "episode = 120 , reward =  9.6 loss =  3.3832314\n",
            "episode = 125 , reward =  9.8 loss =  1.0731027\n",
            "episode = 130 , reward =  10.0 loss =  1.8556896\n",
            "episode = 135 , reward =  24.6 loss =  2.0538526\n",
            "episode = 140 , reward =  9.6 loss =  1.9973817\n",
            "episode = 145 , reward =  99.4 loss =  1.4807577\n",
            "episode = 150 , reward =  10.0 loss =  1.6173208\n",
            "episode = 155 , reward =  93.8 loss =  1.3623935\n",
            "episode = 160 , reward =  10.6 loss =  1.2963436\n",
            "episode = 165 , reward =  187.4 loss =  1.6812181\n",
            "episode = 170 , reward =  200.0 loss =  1.1195774\n",
            "\n",
            "mean reward after training =  196.7\n"
          ],
          "name": "stdout"
        }
      ]
    },
    {
      "cell_type": "markdown",
      "metadata": {
        "id": "xshtpttN7ZRi",
        "colab_type": "text"
      },
      "source": [
        "## Visualizing the agent"
      ]
    },
    {
      "cell_type": "code",
      "metadata": {
        "id": "J3UslTe87ZRj",
        "colab_type": "code",
        "outputId": "a3a73965-3986-488a-c12d-913d2b950c8f",
        "colab": {
          "base_uri": "https://localhost:8080/",
          "height": 71
        }
      },
      "source": [
        "def show_video(directory):\n",
        "    html = []\n",
        "    for mp4 in Path(directory).glob(\"*.mp4\"):\n",
        "        video_b64 = base64.b64encode(mp4.read_bytes())\n",
        "        html.append('''<video alt=\"{}\" autoplay \n",
        "                      loop controls style=\"height: 400px;\">\n",
        "                      <source src=\"data:video/mp4;base64,{}\" type=\"video/mp4\" />\n",
        "                 </video>'''.format(mp4, video_b64.decode('ascii')))\n",
        "    ipythondisplay.display(ipythondisplay.HTML(data=\"<br>\".join(html)))\n",
        "    \n",
        "def make_seed(seed):\n",
        "    np.random.seed(seed=seed)\n",
        "    torch.manual_seed(seed=seed)\n",
        "  \n",
        "from pyvirtualdisplay import Display\n",
        "display = Display(visible=0, size=(1400, 900))\n",
        "display.start()"
      ],
      "execution_count": 43,
      "outputs": [
        {
          "output_type": "stream",
          "text": [
            "xdpyinfo was not found, X start can not be checked! Please install xdpyinfo!\n"
          ],
          "name": "stderr"
        },
        {
          "output_type": "execute_result",
          "data": {
            "text/plain": [
              "<Display cmd_param=['Xvfb', '-br', '-nolisten', 'tcp', '-screen', '0', '1400x900x24', ':1013'] cmd=['Xvfb', '-br', '-nolisten', 'tcp', '-screen', '0', '1400x900x24', ':1013'] oserror=None return_code=None stdout=\"None\" stderr=\"None\" timeout_happened=False>"
            ]
          },
          "metadata": {
            "tags": []
          },
          "execution_count": 43
        }
      ]
    },
    {
      "cell_type": "code",
      "metadata": {
        "id": "JLWwf5FM7ZRo",
        "colab_type": "code",
        "outputId": "af6fb560-d34f-4c12-8258-0457ba872cfb",
        "colab": {
          "base_uri": "https://localhost:8080/",
          "height": 421
        }
      },
      "source": [
        "env = Monitor(env, \"./gym-results\", force=True, video_callable=lambda episode: True)\n",
        "for episode in range(1):\n",
        "    done = False\n",
        "    state = env.reset()\n",
        "    while not done:\n",
        "        action = dqn_policy(state)\n",
        "        state, reward, done, info = env.step(action)\n",
        "env.close()\n",
        "show_video(\"./gym-results\")"
      ],
      "execution_count": 44,
      "outputs": [
        {
          "output_type": "display_data",
          "data": {
            "text/html": [
              "<video alt=\"gym-results/openaigym.video.3.875.video000000.mp4\" autoplay \n",
              "                      loop controls style=\"height: 400px;\">\n",
              "                      <source src=\"data:video/mp4;base64,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\" type=\"video/mp4\" />\n",
              "                 </video>"
            ],
            "text/plain": [
              "<IPython.core.display.HTML object>"
            ]
          },
          "metadata": {
            "tags": []
          }
        }
      ]
    },
    {
      "cell_type": "code",
      "metadata": {
        "id": "MRpnajiv3dY7",
        "colab_type": "code",
        "colab": {}
      },
      "source": [
        ""
      ],
      "execution_count": 0,
      "outputs": []
    }
  ]
}