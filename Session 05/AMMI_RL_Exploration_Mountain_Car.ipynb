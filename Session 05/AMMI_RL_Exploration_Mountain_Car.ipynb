{
  "nbformat": 4,
  "nbformat_minor": 0,
  "metadata": {
    "kernelspec": {
      "name": "python3",
      "display_name": "Python 3"
    },
    "language_info": {
      "codemirror_mode": {
        "name": "ipython",
        "version": 3
      },
      "file_extension": ".py",
      "mimetype": "text/x-python",
      "name": "python",
      "nbconvert_exporter": "python",
      "pygments_lexer": "ipython3",
      "version": "3.8.1"
    },
    "colab": {
      "name": "AMMI RL - Exploration - Mountain Car.ipynb",
      "provenance": [],
      "collapsed_sections": [],
      "include_colab_link": true
    },
    "accelerator": "GPU"
  },
  "cells": [
    {
      "cell_type": "markdown",
      "metadata": {
        "id": "view-in-github",
        "colab_type": "text"
      },
      "source": [
        "<a href=\"https://colab.research.google.com/github/Kabongosalomon/Introduction-RL/blob/master/Session%2005/AMMI_RL_Exploration_Mountain_Car.ipynb\" target=\"_parent\"><img src=\"https://colab.research.google.com/assets/colab-badge.svg\" alt=\"Open In Colab\"/></a>"
      ]
    },
    {
      "cell_type": "code",
      "metadata": {
        "id": "780D9u4ZZxWo",
        "colab_type": "code",
        "colab": {}
      },
      "source": [
        "!pip install gym > /dev/null 2>&1"
      ],
      "execution_count": 0,
      "outputs": []
    },
    {
      "cell_type": "code",
      "metadata": {
        "id": "x20JG4VuaEND",
        "colab_type": "code",
        "colab": {}
      },
      "source": [
        "!pip install gym pyvirtualdisplay > /dev/null 2>&1\n",
        "!apt-get install -y xvfb python-opengl ffmpeg > /dev/null 2>&1"
      ],
      "execution_count": 0,
      "outputs": []
    },
    {
      "cell_type": "code",
      "metadata": {
        "id": "E46IaY_5aEtf",
        "colab_type": "code",
        "outputId": "ca2a114c-8052-4dc0-d0b5-3824b499626d",
        "colab": {
          "base_uri": "https://localhost:8080/",
          "height": 34
        }
      },
      "source": [
        "!apt-get update > /dev/null 2>&1\n",
        "!apt-get install cmake > /dev/null 2>&1\n",
        "!pip install --upgrade setuptools 2>&1\n",
        "!pip install ez_setup > /dev/null 2>&1"
      ],
      "execution_count": 23,
      "outputs": [
        {
          "output_type": "stream",
          "text": [
            "Requirement already up-to-date: setuptools in /usr/local/lib/python3.6/dist-packages (45.2.0)\n"
          ],
          "name": "stdout"
        }
      ]
    },
    {
      "cell_type": "code",
      "metadata": {
        "id": "_UWM-gGi76pF",
        "colab_type": "code",
        "colab": {
          "base_uri": "https://localhost:8080/",
          "height": 204
        },
        "outputId": "81071f58-dcfe-45d6-e3ab-c4583b3529e7"
      },
      "source": [
        "# !git clone https://github.com/rlgammazero/mvarl_hands_on.git > /dev/null 2>&1\n",
        "!git clone https://github.com/Kabongosalomon/Introduction-RL.git > /dev/null 2>&1\n",
        "!cd Introduction-RL && git pull"
      ],
      "execution_count": 24,
      "outputs": [
        {
          "output_type": "stream",
          "text": [
            "remote: Enumerating objects: 7, done.\u001b[K\n",
            "remote: Counting objects:  14% (1/7)\u001b[K\rremote: Counting objects:  28% (2/7)\u001b[K\rremote: Counting objects:  42% (3/7)\u001b[K\rremote: Counting objects:  57% (4/7)\u001b[K\rremote: Counting objects:  71% (5/7)\u001b[K\rremote: Counting objects:  85% (6/7)\u001b[K\rremote: Counting objects: 100% (7/7)\u001b[K\rremote: Counting objects: 100% (7/7), done.\u001b[K\n",
            "remote: Compressing objects:  25% (1/4)\u001b[K\rremote: Compressing objects:  50% (2/4)\u001b[K\rremote: Compressing objects:  75% (3/4)\u001b[K\rremote: Compressing objects: 100% (4/4)\u001b[K\rremote: Compressing objects: 100% (4/4), done.\u001b[K\n",
            "Unpacking objects:  25% (1/4)   \rUnpacking objects:  50% (2/4)   \rUnpacking objects:  75% (3/4)   \rremote: Total 4 (delta 2), reused 0 (delta 0), pack-reused 0\u001b[K\n",
            "Unpacking objects: 100% (4/4)   \rUnpacking objects: 100% (4/4), done.\n",
            "From https://github.com/Kabongosalomon/Introduction-RL\n",
            "   d2241a0..f839070  master     -> origin/master\n",
            "Updating d2241a0..f839070\n",
            "Fast-forward\n",
            " Session 05/AMMI_RL_Exploration_Mountain_Car.ipynb | 111 \u001b[32m+++++++++++++++\u001b[m\u001b[31m-------\u001b[m\n",
            " 1 file changed, 76 insertions(+), 35 deletions(-)\n"
          ],
          "name": "stdout"
        }
      ]
    },
    {
      "cell_type": "code",
      "metadata": {
        "id": "J5EbzJ1A78Bk",
        "colab_type": "code",
        "colab": {}
      },
      "source": [
        "import sys\n",
        "sys.path.insert(0, './Introduction-RL/tools/utils')"
      ],
      "execution_count": 0,
      "outputs": []
    },
    {
      "cell_type": "code",
      "metadata": {
        "id": "KDPYhYvR7yKZ",
        "colab_type": "code",
        "colab": {}
      },
      "source": [
        "import numpy as np\n",
        "import cvxpy as cp\n",
        "import matplotlib.pyplot as plt\n",
        "%matplotlib inline\n",
        "\n",
        "import gym\n",
        "from gym import logger as gymlogger\n",
        "from gym.wrappers import Monitor\n",
        "gymlogger.set_level(40) #error only\n",
        "\n",
        "import seaborn as sns\n",
        "from pyvirtualdisplay import Display\n",
        "from IPython import display as ipythondisplay\n",
        "from IPython.display import clear_output\n",
        "from pathlib import Path\n",
        "\n",
        "import random, os.path, math, glob, csv, base64, itertools, sys\n",
        "from pprint import pprint\n",
        "\n",
        "import matplotlib\n",
        "import matplotlib.pyplot as plt\n",
        "%matplotlib inline\n",
        "import io\n",
        "from IPython.display import HTML\n",
        "\n",
        "from copy import deepcopy"
      ],
      "execution_count": 0,
      "outputs": []
    },
    {
      "cell_type": "markdown",
      "metadata": {
        "id": "S5twn7Qv7yKf",
        "colab_type": "text"
      },
      "source": [
        "# Discretization of the state space"
      ]
    },
    {
      "cell_type": "code",
      "metadata": {
        "id": "f3WTC2o2coW_",
        "colab_type": "code",
        "colab": {}
      },
      "source": [
        "from discretization import Discretizer\n",
        "\n",
        "class DiscretizedMountainCar(gym.Wrapper):\n",
        "    def __init__(self, n_bins):\n",
        "        env_id = 'MountainCar-v0' \n",
        "        env = gym.make(env_id)\n",
        "        self.env = env\n",
        "        super().__init__(env)\n",
        "        self.min_reward = -1.0\n",
        "        self.max_reward = 0.0\n",
        "\n",
        "        LM = env.observation_space.low\n",
        "        HM = env.observation_space.high\n",
        "        D = len(HM)\n",
        "\n",
        "        bins = []\n",
        "        for i in range(D):\n",
        "            V = np.linspace(LM[i], HM[i], n_bins)\n",
        "            bins.append(V[1:-1])\n",
        "        self.grid = Discretizer(bins=bins)\n",
        "\n",
        "        # Number of states\n",
        "        self.S = self.grid.n_bins()\n",
        "        # Number of actions\n",
        "        self.A = self.env.action_space.n\n",
        "\n",
        "    def step(self, action):\n",
        "        next_state, reward, done, info = self.env.step(action)\n",
        "        reward = (reward - self.min_reward) / (self.max_reward - self.min_reward)\n",
        "        if done:\n",
        "            next_state = self.env.reset()\n",
        "            reward = 1.0\n",
        "        done = False \n",
        "        next_state = self.grid.dpos(next_state)\n",
        "        return next_state, reward, done, info\n",
        "\n",
        "    def reset(self):\n",
        "        state = self.env.reset()\n",
        "        state = self.grid.dpos(state)\n",
        "        return state\n",
        "\n",
        "# Environment\n",
        "n_bins = 10\n",
        "env = DiscretizedMountainCar(n_bins)\n",
        "\n",
        "# Horizon\n",
        "H = 180"
      ],
      "execution_count": 0,
      "outputs": []
    },
    {
      "cell_type": "code",
      "metadata": {
        "id": "7l8433mz7yKh",
        "colab_type": "code",
        "colab": {}
      },
      "source": [
        ""
      ],
      "execution_count": 0,
      "outputs": []
    },
    {
      "cell_type": "markdown",
      "metadata": {
        "id": "hiXHdYle7yKm",
        "colab_type": "text"
      },
      "source": [
        "# Backward induction (aka Value Iteration)"
      ]
    },
    {
      "cell_type": "code",
      "metadata": {
        "id": "Q_KZXn8A7yKo",
        "colab_type": "code",
        "colab": {}
      },
      "source": [
        "def backward_induction(P, R, H):\n",
        "    \"\"\"\n",
        "        Parameters:\n",
        "            P: transition function (S,A,S)-dim matrix\n",
        "            R: reward function (S,A)-dim matrix\n",
        "            H: horizon\n",
        "\n",
        "        Returns:\n",
        "            The optimal V-function: array of shape (horizon, S)\n",
        "            The optimal policy\n",
        "        \n",
        "        V[h, s]\n",
        "    \"\"\"\n",
        "    S, A = P.shape[0], P.shape[1]\n",
        "    policy = np.zeros((H, S), dtype=np.int)\n",
        "    V = np.zeros((H + 1, S))\n",
        "    for h in reversed(range(H)):\n",
        "        for s in range(S):\n",
        "            \"\"\" \n",
        "            Here, we compute V^*(h, s) using the Bellman optimality equation:\n",
        "\n",
        "            V[h, s] = max_a  R[s, a] + sum_{s'} P[s, a, s']*V[h+1, s']\n",
        "            \"\"\"\n",
        "            for a in range(A):\n",
        "                tmp = R[s, a] + np.dot(P[s, a],  V[h + 1])\n",
        "                if (a == 0) or (tmp > V[h, s]):\n",
        "                    policy[h, s] = a\n",
        "                    V[h, s] = tmp\n",
        "    return V, policy"
      ],
      "execution_count": 0,
      "outputs": []
    },
    {
      "cell_type": "markdown",
      "metadata": {
        "id": "pvmhRCN07yKs",
        "colab_type": "text"
      },
      "source": [
        "Compute solution"
      ]
    },
    {
      "cell_type": "markdown",
      "metadata": {
        "id": "v1nCGWuw7yKy",
        "colab_type": "text"
      },
      "source": [
        "## UCBVI (UCRL with exploration bonus)"
      ]
    },
    {
      "cell_type": "code",
      "metadata": {
        "id": "pk0v7jg67yK7",
        "colab_type": "code",
        "colab": {}
      },
      "source": [
        "def UCRL(mdp, H, nb_episodes, VSTAR=0, scale_factor = 2.0):\n",
        "    S, A = mdp.S, mdp.A\n",
        "    policy = np.zeros((H, S), dtype=np.int)\n",
        "    Phat = np.ones((S,A,S)) / S\n",
        "    Rhat = np.zeros((S,A))\n",
        "    N_sas = np.zeros((S,A,S), dtype=np.int)\n",
        "    N_sa = np.zeros((S,A), dtype=np.int)\n",
        "    episode_rewards = np.zeros((nb_episodes,))\n",
        "  \n",
        "    V = H*np.ones((H + 1, S))\n",
        "    V[H, :] = 0\n",
        "\n",
        "    S_sa = np.zeros((S,A)) \n",
        "    for k in range(nb_episodes):\n",
        "        sum_rewards = 0\n",
        "        # run optimistic value iteration\n",
        "        V.fill(0)\n",
        "        for h in reversed(range(H)):\n",
        "            for s in range(S):\n",
        "                temp = np.zeros(A)\n",
        "                for a in range(A):\n",
        "                    nn = N_sa[s, a] + 1\n",
        "                    bonus = scale_factor*np.sqrt(1.0/nn)\n",
        "                    temp[a] = Rhat[s, a] + Phat[s, a].dot(V[h + 1]) + bonus\n",
        "\n",
        "                V[h, s] = min(H-h, temp.max())\n",
        "                policy[h, s] = temp.argmax()\n",
        "        # execute policy\n",
        "        initial_state = state = mdp.reset()\n",
        "        for h in range(H):\n",
        "            action = policy[h][state]\n",
        "            next_state, reward, done, _ = mdp.step(action)\n",
        "\n",
        "            sum_rewards += reward\n",
        "            \n",
        "            # update estimates (Phat, Rhat, N_sa, N_sas)\n",
        "            N_sa[state, action] += 1\n",
        "            N_sas[state, action, next_state] +=1\n",
        "            S_sa[state, action] += reward\n",
        "            \n",
        "            Rhat[state, action] = S_sa[state, action]/N_sa[state, action]\n",
        "            Phat[state, action, :] = N_sas[state, action, :]/N_sa[state, action]\n",
        "\n",
        "            \n",
        "            state = next_state\n",
        "        \n",
        "        # update regret\n",
        "        episode_rewards[k] = sum_rewards\n",
        "        \n",
        "        if k % 5 == 0 or k==1:\n",
        "            print(\"rewards[{}]: {}\".format(k, episode_rewards[k]), end = \", \")\n",
        "            print(\"Number of visited states: \", (N_sa.sum(axis=1) > 0).sum() )\n",
        "            # print(V[0, :])\n",
        "\n",
        "    return episode_rewards, N_sa, Rhat, Phat, policy"
      ],
      "execution_count": 0,
      "outputs": []
    },
    {
      "cell_type": "code",
      "metadata": {
        "id": "0-UTr3Gq7yK_",
        "colab_type": "code",
        "outputId": "bf2efd00-f857-4eb2-ffce-1a02c05780df",
        "colab": {
          "base_uri": "https://localhost:8080/",
          "height": 255
        }
      },
      "source": [
        "nb_repetitions = 1\n",
        "nb_episodes = 60\n",
        "rewards = np.zeros((nb_repetitions, nb_episodes))\n",
        "for it in range(nb_repetitions):\n",
        "    print(\"Running simulation: {}\".format(it))\n",
        "    rewards[it], N_sa, Rhat, Phat, policy = UCRL(mdp=env, H=H, nb_episodes=nb_episodes)"
      ],
      "execution_count": 46,
      "outputs": [
        {
          "output_type": "stream",
          "text": [
            "Running simulation: 0\n",
            "rewards[0]: 0.0, Number of visited states:  2\n",
            "rewards[1]: 0.0, Number of visited states:  2\n",
            "rewards[5]: 0.0, Number of visited states:  21\n",
            "rewards[10]: 0.0, Number of visited states:  35\n",
            "rewards[15]: 0.0, Number of visited states:  54\n",
            "rewards[20]: 1.0, Number of visited states:  62\n",
            "rewards[25]: 0.0, Number of visited states:  63\n",
            "rewards[30]: 1.0, Number of visited states:  63\n",
            "rewards[35]: 1.0, Number of visited states:  66\n",
            "rewards[40]: 0.0, Number of visited states:  66\n",
            "rewards[45]: 0.0, Number of visited states:  66\n",
            "rewards[50]: 0.0, Number of visited states:  66\n",
            "rewards[55]: 0.0, Number of visited states:  66\n"
          ],
          "name": "stdout"
        }
      ]
    },
    {
      "cell_type": "code",
      "metadata": {
        "id": "defhQH1NNQUD",
        "colab_type": "code",
        "outputId": "4170979c-fa06-4aca-b12b-800fc849f883",
        "colab": {
          "base_uri": "https://localhost:8080/",
          "height": 282
        }
      },
      "source": [
        "plt.plot(np.cumsum(rewards), label=\"Sum of rewards:\")\n",
        "plt.legend()"
      ],
      "execution_count": 47,
      "outputs": [
        {
          "output_type": "execute_result",
          "data": {
            "text/plain": [
              "<matplotlib.legend.Legend at 0x7fbed33fc160>"
            ]
          },
          "metadata": {
            "tags": []
          },
          "execution_count": 47
        },
        {
          "output_type": "display_data",
          "data": {
            "image/png": "[encoded data removed]",
            "text/plain": [
              "<Figure size 432x288 with 1 Axes>"
            ]
          },
          "metadata": {
            "tags": []
          }
        }
      ]
    },
    {
      "cell_type": "code",
      "metadata": {
        "id": "uhDoPAA5YCLJ",
        "colab_type": "code",
        "outputId": "702b726f-4ac3-4930-b00a-67fe815df148",
        "colab": {
          "base_uri": "https://localhost:8080/",
          "height": 438
        }
      },
      "source": [
        "# The following code is will be used to visualize the environments.\n",
        "def show_video(directory):\n",
        "    html = []\n",
        "    for mp4 in Path(directory).glob(\"*.mp4\"):\n",
        "        video_b64 = base64.b64encode(mp4.read_bytes())\n",
        "        html.append('''<video alt=\"{}\" autoplay \n",
        "                      loop controls style=\"height: 400px;\">\n",
        "                      <source src=\"data:video/mp4;base64,{}\" type=\"video/mp4\" />\n",
        "                 </video>'''.format(mp4, video_b64.decode('ascii')))\n",
        "    ipythondisplay.display(ipythondisplay.HTML(data=\"<br>\".join(html)))\n",
        "    \n",
        "def make_seed(seed):\n",
        "    np.random.seed(seed=seed)\n",
        "    torch.manual_seed(seed=seed)\n",
        "  \n",
        "from pyvirtualdisplay import Display\n",
        "display = Display(visible=0, size=(1400, 900))\n",
        "display.start()\n",
        "\n",
        "env = Monitor(env, \"./gym-results\", force=True, video_callable=lambda episode: True)\n",
        "\n",
        "state = env.reset()\n",
        "for hh in range(H): \n",
        "    action = policy[hh, state]\n",
        "    state, reward, done, info = env.step(action)\n",
        "env.close()\n",
        "show_video(\"./gym-results\")"
      ],
      "execution_count": 48,
      "outputs": [
        {
          "output_type": "stream",
          "text": [
            "xdpyinfo was not found, X start can not be checked! Please install xdpyinfo!\n"
          ],
          "name": "stderr"
        },
        {
          "output_type": "display_data",
          "data": {
            "text/html": [
              "<video alt=\"gym-results/openaigym.video.6.120.video000000.mp4\" autoplay \n",
              "                      loop controls style=\"height: 400px;\">\n",
              "                      <source src=\"data:video/mp4;base64,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\" type=\"video/mp4\" />\n",
              "                 </video>"
            ],
            "text/plain": [
              "<IPython.core.display.HTML object>"
            ]
          },
          "metadata": {
            "tags": []
          }
        }
      ]
    },
    {
      "cell_type": "markdown",
      "metadata": {
        "id": "pyy3GevpksOb",
        "colab_type": "text"
      },
      "source": [
        "<h1>About the Authors:</h1> \n",
        "\n",
        "<a href=\"https://skabongo.github.io/\">Salomon Kabongo</a>, Master degree student at <a href=\"https://aims.ac.za/\">the African Master in Machine Intelligence (AMMI, Ghana)</a> his research focused on the use machine learning technique in the field of Natural Language Processing, learn more about him [here](https://skabongo.github.io/) or https://skabongo.github.io/.\n",
        "\n",
        "**References :** *Introduction to Reiforcement learning AMMI, course* by [Matteo Pirotta](https://teopir.github.io/), Research Scientist at Facebook AI Research, assisted by [Floian Strub](https://fstrub95.github.io/) and [Omar Darwiche Domingue](https://omardrwch.github.io/).\n",
        "\n",
        "Copyright &copy; 2020. This notebook and its source code are released under the terms of the <a href=\"https://www.apache.org/licenses/LICENSE-2.0\">Apache License 2.0</a>."
      ]
    }
  ]
}