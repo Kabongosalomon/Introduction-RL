{
  "nbformat": 4,
  "nbformat_minor": 0,
  "metadata": {
    "kernelspec": {
      "name": "python3",
      "display_name": "Python 3"
    },
    "language_info": {
      "codemirror_mode": {
        "name": "ipython",
        "version": 3
      },
      "file_extension": ".py",
      "mimetype": "text/x-python",
      "name": "python",
      "nbconvert_exporter": "python",
      "pygments_lexer": "ipython3",
      "version": "3.8.1"
    },
    "colab": {
      "name": "AMMI RL - Exploration - Mountain Car.ipynb",
      "provenance": [],
      "collapsed_sections": [],
      "include_colab_link": true
    },
    "accelerator": "GPU"
  },
  "cells": [
    {
      "cell_type": "markdown",
      "metadata": {
        "id": "view-in-github",
        "colab_type": "text"
      },
      "source": [
        "<a href=\"https://colab.research.google.com/github/Kabongosalomon/Introduction-RL/blob/master/Session%2005/AMMI_RL_Exploration_Mountain_Car.ipynb\" target=\"_parent\"><img src=\"https://colab.research.google.com/assets/colab-badge.svg\" alt=\"Open In Colab\"/></a>"
      ]
    },
    {
      "cell_type": "code",
      "metadata": {
        "id": "780D9u4ZZxWo",
        "colab_type": "code",
        "colab": {}
      },
      "source": [
        "!pip install gym > /dev/null 2>&1"
      ],
      "execution_count": 0,
      "outputs": []
    },
    {
      "cell_type": "code",
      "metadata": {
        "id": "x20JG4VuaEND",
        "colab_type": "code",
        "colab": {}
      },
      "source": [
        "!pip install gym pyvirtualdisplay > /dev/null 2>&1\n",
        "!apt-get install -y xvfb python-opengl ffmpeg > /dev/null 2>&1"
      ],
      "execution_count": 0,
      "outputs": []
    },
    {
      "cell_type": "code",
      "metadata": {
        "id": "E46IaY_5aEtf",
        "colab_type": "code",
        "outputId": "8033df21-2d09-4964-c779-b96a411bc757",
        "colab": {
          "base_uri": "https://localhost:8080/",
          "height": 34
        }
      },
      "source": [
        "!apt-get update > /dev/null 2>&1\n",
        "!apt-get install cmake > /dev/null 2>&1\n",
        "!pip install --upgrade setuptools 2>&1\n",
        "!pip install ez_setup > /dev/null 2>&1"
      ],
      "execution_count": 11,
      "outputs": [
        {
          "output_type": "stream",
          "text": [
            "Requirement already up-to-date: setuptools in /usr/local/lib/python3.6/dist-packages (45.2.0)\n"
          ],
          "name": "stdout"
        }
      ]
    },
    {
      "cell_type": "code",
      "metadata": {
        "id": "_UWM-gGi76pF",
        "colab_type": "code",
        "colab": {
          "base_uri": "https://localhost:8080/",
          "height": 34
        },
        "outputId": "870c798c-6631-4744-bd1f-3e80cc4b56ab"
      },
      "source": [
        "# !git clone https://github.com/rlgammazero/mvarl_hands_on.git > /dev/null 2>&1\n",
        "!git clone https://github.com/Kabongosalomon/Introduction-RL.git > /dev/null 2>&1\n",
        "!cd Introduction-RL && git pull"
      ],
      "execution_count": 12,
      "outputs": [
        {
          "output_type": "stream",
          "text": [
            "Already up to date.\n"
          ],
          "name": "stdout"
        }
      ]
    },
    {
      "cell_type": "code",
      "metadata": {
        "id": "J5EbzJ1A78Bk",
        "colab_type": "code",
        "colab": {}
      },
      "source": [
        "import sys\n",
        "sys.path.insert(0, './Introduction-RL/tools/utils')"
      ],
      "execution_count": 0,
      "outputs": []
    },
    {
      "cell_type": "code",
      "metadata": {
        "id": "KDPYhYvR7yKZ",
        "colab_type": "code",
        "colab": {}
      },
      "source": [
        "import numpy as np\n",
        "import cvxpy as cp\n",
        "import matplotlib.pyplot as plt\n",
        "%matplotlib inline\n",
        "\n",
        "import gym\n",
        "from gym import logger as gymlogger\n",
        "from gym.wrappers import Monitor\n",
        "gymlogger.set_level(40) #error only\n",
        "\n",
        "import seaborn as sns\n",
        "from pyvirtualdisplay import Display\n",
        "from IPython import display as ipythondisplay\n",
        "from IPython.display import clear_output\n",
        "from pathlib import Path\n",
        "\n",
        "import random, os.path, math, glob, csv, base64, itertools, sys\n",
        "from pprint import pprint\n",
        "\n",
        "import matplotlib\n",
        "import matplotlib.pyplot as plt\n",
        "%matplotlib inline\n",
        "import io\n",
        "from IPython.display import HTML\n",
        "\n",
        "from copy import deepcopy"
      ],
      "execution_count": 0,
      "outputs": []
    },
    {
      "cell_type": "markdown",
      "metadata": {
        "id": "S5twn7Qv7yKf",
        "colab_type": "text"
      },
      "source": [
        "# Discretization of the state space"
      ]
    },
    {
      "cell_type": "code",
      "metadata": {
        "id": "f3WTC2o2coW_",
        "colab_type": "code",
        "colab": {}
      },
      "source": [
        "from discretization import Discretizer\n",
        "\n",
        "class DiscretizedMountainCar(gym.Wrapper):\n",
        "    def __init__(self, n_bins):\n",
        "        env_id = 'MountainCar-v0' \n",
        "        env = gym.make(env_id)\n",
        "        self.env = env\n",
        "        super().__init__(env)\n",
        "        self.min_reward = -1.0\n",
        "        self.max_reward = 0.0\n",
        "\n",
        "        LM = env.observation_space.low\n",
        "        HM = env.observation_space.high\n",
        "        D = len(HM)\n",
        "\n",
        "        bins = []\n",
        "        for i in range(D):\n",
        "            V = np.linspace(LM[i], HM[i], n_bins)\n",
        "            bins.append(V[1:-1])\n",
        "        self.grid = Discretizer(bins=bins)\n",
        "\n",
        "        # Number of states\n",
        "        self.S = self.grid.n_bins()\n",
        "        # Number of actions\n",
        "        self.A = self.env.action_space.n\n",
        "\n",
        "    def step(self, action):\n",
        "        next_state, reward, done, info = self.env.step(action)\n",
        "        reward = (reward - self.min_reward) / (self.max_reward - self.min_reward)\n",
        "        if done:\n",
        "            next_state = self.env.reset()\n",
        "            reward = 1.0\n",
        "        done = False \n",
        "        next_state = self.grid.dpos(next_state)\n",
        "        return next_state, reward, done, info\n",
        "\n",
        "    def reset(self):\n",
        "        state = self.env.reset()\n",
        "        state = self.grid.dpos(state)\n",
        "        return state\n",
        "\n",
        "# Environment\n",
        "n_bins = 10\n",
        "env = DiscretizedMountainCar(n_bins)\n",
        "\n",
        "# Horizon\n",
        "H = 180"
      ],
      "execution_count": 0,
      "outputs": []
    },
    {
      "cell_type": "code",
      "metadata": {
        "id": "7l8433mz7yKh",
        "colab_type": "code",
        "colab": {}
      },
      "source": [
        ""
      ],
      "execution_count": 0,
      "outputs": []
    },
    {
      "cell_type": "markdown",
      "metadata": {
        "id": "hiXHdYle7yKm",
        "colab_type": "text"
      },
      "source": [
        "# Backward induction (aka Value Iteration)"
      ]
    },
    {
      "cell_type": "code",
      "metadata": {
        "id": "Q_KZXn8A7yKo",
        "colab_type": "code",
        "colab": {}
      },
      "source": [
        "def backward_induction(P, R, H):\n",
        "    \"\"\"\n",
        "        Parameters:\n",
        "            P: transition function (S,A,S)-dim matrix\n",
        "            R: reward function (S,A)-dim matrix\n",
        "            H: horizon\n",
        "\n",
        "        Returns:\n",
        "            The optimal V-function: array of shape (horizon, S)\n",
        "            The optimal policy\n",
        "        \n",
        "        V[h, s]\n",
        "    \"\"\"\n",
        "    S, A = P.shape[0], P.shape[1]\n",
        "    policy = np.zeros((H, S), dtype=np.int)\n",
        "    V = np.zeros((H + 1, S))\n",
        "    for h in reversed(range(H)):\n",
        "        for s in range(S):\n",
        "            \"\"\" \n",
        "            Here, we compute V^*(h, s) using the Bellman optimality equation:\n",
        "\n",
        "            V[h, s] = max_a  R[s, a] + sum_{s'} P[s, a, s']*V[h+1, s']\n",
        "            \"\"\"\n",
        "            for a in range(A):\n",
        "                tmp = R[s, a] + np.dot(P[s, a],  V[h + 1])\n",
        "                if (a == 0) or (tmp > V[h, s]):\n",
        "                    policy[h, s] = a\n",
        "                    V[h, s] = tmp\n",
        "    return V, policy"
      ],
      "execution_count": 0,
      "outputs": []
    },
    {
      "cell_type": "markdown",
      "metadata": {
        "id": "pvmhRCN07yKs",
        "colab_type": "text"
      },
      "source": [
        "Compute solution"
      ]
    },
    {
      "cell_type": "markdown",
      "metadata": {
        "id": "v1nCGWuw7yKy",
        "colab_type": "text"
      },
      "source": [
        "## UCBVI (UCRL with exploration bonus)"
      ]
    },
    {
      "cell_type": "code",
      "metadata": {
        "id": "pk0v7jg67yK7",
        "colab_type": "code",
        "colab": {}
      },
      "source": [
        "def UCRL(mdp, H, nb_episodes, VSTAR=0, scale_factor = 2.0):\n",
        "    S, A = mdp.S, mdp.A\n",
        "    policy = np.zeros((H, S), dtype=np.int)\n",
        "    Phat = np.ones((S,A,S)) / S\n",
        "    Rhat = np.zeros((S,A))\n",
        "    N_sas = np.zeros((S,A,S), dtype=np.int)\n",
        "    N_sa = np.zeros((S,A), dtype=np.int)\n",
        "    episode_rewards = np.zeros((nb_episodes,))\n",
        "  \n",
        "    V = H*np.ones((H + 1, S))\n",
        "    V[H, :] = 0\n",
        "\n",
        "    S_sa = np.zeros((S,A)) \n",
        "    for k in range(nb_episodes):\n",
        "        sum_rewards = 0\n",
        "        # run optimistic value iteration\n",
        "        V.fill(0)\n",
        "        for h in reversed(range(H)):\n",
        "            for s in range(S):\n",
        "                temp = np.zeros(A)\n",
        "                for a in range(A):\n",
        "                    nn = N_sa[s, a] + 1\n",
        "                    bonus = scale_factor*np.sqrt(1.0/nn)\n",
        "                    temp[a] = Rhat[s, a] + Phat[s, a].dot(V[h + 1]) + bonus\n",
        "\n",
        "                V[h, s] = min(H-h, temp.max())\n",
        "                policy[h, s] = temp.argmax()\n",
        "        # execute policy\n",
        "        initial_state = state = mdp.reset()\n",
        "        for h in range(H):\n",
        "            action = policy[h][state]\n",
        "            next_state, reward, done, _ = mdp.step(action)\n",
        "\n",
        "            sum_rewards += reward\n",
        "            \n",
        "            # update estimates (Phat, Rhat, N_sa, N_sas)\n",
        "            N_sa[state, action] += 1\n",
        "            N_sas[state, action, next_state] +=1\n",
        "            S_sa[state, action] += reward\n",
        "            \n",
        "            Rhat[state, action] = S_sa[state, action]/N_sa[state, action]\n",
        "            Phat[state, action, :] = N_sas[state, action, :]/N_sa[state, action]\n",
        "\n",
        "            \n",
        "            state = next_state\n",
        "        \n",
        "        # update regret\n",
        "        episode_rewards[k] = sum_rewards\n",
        "        \n",
        "        if k % 5 == 0 or k==1:\n",
        "            print(\"rewards[{}]: {}\".format(k, episode_rewards[k]), end = \", \")\n",
        "            print(\"Number of visited states: \", (N_sa.sum(axis=1) > 0).sum() )\n",
        "            # print(V[0, :])\n",
        "\n",
        "    return episode_rewards, N_sa, Rhat, Phat, policy"
      ],
      "execution_count": 0,
      "outputs": []
    },
    {
      "cell_type": "code",
      "metadata": {
        "id": "0-UTr3Gq7yK_",
        "colab_type": "code",
        "outputId": "3572b4e2-0b1e-41c9-c3c4-93f8b872ff66",
        "colab": {
          "base_uri": "https://localhost:8080/",
          "height": 221
        }
      },
      "source": [
        "nb_repetitions = 1\n",
        "nb_episodes = 50\n",
        "rewards = np.zeros((nb_repetitions, nb_episodes))\n",
        "for it in range(nb_repetitions):\n",
        "    print(\"Running simulation: {}\".format(it))\n",
        "    rewards[it], N_sa, Rhat, Phat, policy = UCRL(mdp=env, H=H, nb_episodes=nb_episodes)"
      ],
      "execution_count": 18,
      "outputs": [
        {
          "output_type": "stream",
          "text": [
            "Running simulation: 0\n",
            "rewards[0]: 0.0, Number of visited states:  7\n",
            "rewards[1]: 0.0, Number of visited states:  7\n",
            "rewards[5]: 0.0, Number of visited states:  17\n",
            "rewards[10]: 0.0, Number of visited states:  27\n",
            "rewards[15]: 0.0, Number of visited states:  43\n",
            "rewards[20]: 0.0, Number of visited states:  55\n",
            "rewards[25]: 1.0, Number of visited states:  59\n",
            "rewards[30]: 0.0, Number of visited states:  59\n",
            "rewards[35]: 0.0, Number of visited states:  60\n",
            "rewards[40]: 0.0, Number of visited states:  61\n",
            "rewards[45]: 0.0, Number of visited states:  62\n"
          ],
          "name": "stdout"
        }
      ]
    },
    {
      "cell_type": "code",
      "metadata": {
        "id": "defhQH1NNQUD",
        "colab_type": "code",
        "outputId": "7a214d84-30de-44fd-b15c-12359ee5f54c",
        "colab": {
          "base_uri": "https://localhost:8080/",
          "height": 282
        }
      },
      "source": [
        "plt.plot(np.cumsum(rewards), label=\"Sum of rewards:\")\n",
        "plt.legend()"
      ],
      "execution_count": 19,
      "outputs": [
        {
          "output_type": "execute_result",
          "data": {
            "text/plain": [
              "<matplotlib.legend.Legend at 0x7fbedd93af60>"
            ]
          },
          "metadata": {
            "tags": []
          },
          "execution_count": 19
        },
        {
          "output_type": "display_data",
          "data": {
            "image/png": "[encoded data removed]",
            "text/plain": [
              "<Figure size 432x288 with 1 Axes>"
            ]
          },
          "metadata": {
            "tags": []
          }
        }
      ]
    },
    {
      "cell_type": "code",
      "metadata": {
        "id": "uhDoPAA5YCLJ",
        "colab_type": "code",
        "outputId": "446dece5-762a-423b-9c15-c0f569b8913d",
        "colab": {
          "base_uri": "https://localhost:8080/",
          "height": 438
        }
      },
      "source": [
        "# The following code is will be used to visualize the environments.\n",
        "def show_video(directory):\n",
        "    html = []\n",
        "    for mp4 in Path(directory).glob(\"*.mp4\"):\n",
        "        video_b64 = base64.b64encode(mp4.read_bytes())\n",
        "        html.append('''<video alt=\"{}\" autoplay \n",
        "                      loop controls style=\"height: 400px;\">\n",
        "                      <source src=\"data:video/mp4;base64,{}\" type=\"video/mp4\" />\n",
        "                 </video>'''.format(mp4, video_b64.decode('ascii')))\n",
        "    ipythondisplay.display(ipythondisplay.HTML(data=\"<br>\".join(html)))\n",
        "    \n",
        "def make_seed(seed):\n",
        "    np.random.seed(seed=seed)\n",
        "    torch.manual_seed(seed=seed)\n",
        "  \n",
        "from pyvirtualdisplay import Display\n",
        "display = Display(visible=0, size=(1400, 900))\n",
        "display.start()\n",
        "\n",
        "env = Monitor(env, \"./gym-results\", force=True, video_callable=lambda episode: True)\n",
        "\n",
        "state = env.reset()\n",
        "for hh in range(H): \n",
        "    action = policy[hh, state]\n",
        "    state, reward, done, info = env.step(action)\n",
        "env.close()\n",
        "show_video(\"./gym-results\")"
      ],
      "execution_count": 20,
      "outputs": [
        {
          "output_type": "stream",
          "text": [
            "xdpyinfo was not found, X start can not be checked! Please install xdpyinfo!\n"
          ],
          "name": "stderr"
        },
        {
          "output_type": "display_data",
          "data": {
            "text/html": [
              "<video alt=\"gym-results/openaigym.video.0.120.video000000.mp4\" autoplay \n",
              "                      loop controls style=\"height: 400px;\">\n",
              "                      <source src=\"data:video/mp4;base64,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\" type=\"video/mp4\" />\n",
              "                 </video>"
            ],
            "text/plain": [
              "<IPython.core.display.HTML object>"
            ]
          },
          "metadata": {
            "tags": []
          }
        }
      ]
    },
    {
      "cell_type": "markdown",
      "metadata": {
        "id": "pyy3GevpksOb",
        "colab_type": "text"
      },
      "source": [
        "<h1>About the Authors:</h1> \n",
        "\n",
        "<a href=\"https://skabongo.github.io/\">Salomon Kabongo</a>, Master degree student at <a href=\"https://aims.ac.za/\">the African Master in Machine Intelligence (AMMI, Ghana)</a> his research focused on the use machine learning technique in the field of Natural Language Processing, learn more about him [here](https://skabongo.github.io/) or https://skabongo.github.io/.\n",
        "\n",
        "**References :** *Introduction to Reiforcement learning AMMI, course* by [Matteo Pirotta](https://teopir.github.io/), Research Scientist at Facebook AI Research, assisted by [Floian Strub](https://fstrub95.github.io/) and [Omar Darwiche Domingue](https://omardrwch.github.io/).\n",
        "\n",
        "Copyright &copy; 2020. This notebook and its source code are released under the terms of the <a href=\"https://www.apache.org/licenses/LICENSE-2.0\">Apache License 2.0</a>."
      ]
    }
  ]
}