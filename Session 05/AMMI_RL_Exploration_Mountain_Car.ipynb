{
  "nbformat": 4,
  "nbformat_minor": 0,
  "metadata": {
    "kernelspec": {
      "display_name": "Python 3",
      "language": "python",
      "name": "python3"
    },
    "language_info": {
      "codemirror_mode": {
        "name": "ipython",
        "version": 3
      },
      "file_extension": ".py",
      "mimetype": "text/x-python",
      "name": "python",
      "nbconvert_exporter": "python",
      "pygments_lexer": "ipython3",
      "version": "3.8.1"
    },
    "colab": {
      "name": "AMMI RL - Exploration - Mountain Car.ipynb",
      "provenance": [],
      "collapsed_sections": []
    }
  },
  "cells": [
    {
      "cell_type": "code",
      "metadata": {
        "id": "780D9u4ZZxWo",
        "colab_type": "code",
        "colab": {}
      },
      "source": [
        "!pip install gym > /dev/null 2>&1"
      ],
      "execution_count": 0,
      "outputs": []
    },
    {
      "cell_type": "code",
      "metadata": {
        "id": "x20JG4VuaEND",
        "colab_type": "code",
        "colab": {}
      },
      "source": [
        "!pip install gym pyvirtualdisplay > /dev/null 2>&1\n",
        "!apt-get install -y xvfb python-opengl ffmpeg > /dev/null 2>&1"
      ],
      "execution_count": 0,
      "outputs": []
    },
    {
      "cell_type": "code",
      "metadata": {
        "id": "E46IaY_5aEtf",
        "colab_type": "code",
        "outputId": "f64dc583-7d75-4667-c892-5ac0764e67e4",
        "colab": {
          "base_uri": "https://localhost:8080/",
          "height": 35
        }
      },
      "source": [
        "!apt-get update > /dev/null 2>&1\n",
        "!apt-get install cmake > /dev/null 2>&1\n",
        "!pip install --upgrade setuptools 2>&1\n",
        "!pip install ez_setup > /dev/null 2>&1"
      ],
      "execution_count": 0,
      "outputs": [
        {
          "output_type": "stream",
          "text": [
            "Requirement already up-to-date: setuptools in /usr/local/lib/python3.6/dist-packages (45.2.0)\n"
          ],
          "name": "stdout"
        }
      ]
    },
    {
      "cell_type": "code",
      "metadata": {
        "id": "_UWM-gGi76pF",
        "colab_type": "code",
        "colab": {}
      },
      "source": [
        "!git clone https://github.com/rlgammazero/mvarl_hands_on.git > /dev/null 2>&1"
      ],
      "execution_count": 0,
      "outputs": []
    },
    {
      "cell_type": "code",
      "metadata": {
        "id": "J5EbzJ1A78Bk",
        "colab_type": "code",
        "colab": {}
      },
      "source": [
        "import sys\n",
        "sys.path.insert(0, './mvarl_hands_on/utils')"
      ],
      "execution_count": 0,
      "outputs": []
    },
    {
      "cell_type": "code",
      "metadata": {
        "id": "KDPYhYvR7yKZ",
        "colab_type": "code",
        "colab": {}
      },
      "source": [
        "import numpy as np\n",
        "import cvxpy as cp\n",
        "import matplotlib.pyplot as plt\n",
        "%matplotlib inline\n",
        "\n",
        "import gym\n",
        "from gym import logger as gymlogger\n",
        "from gym.wrappers import Monitor\n",
        "gymlogger.set_level(40) #error only\n",
        "\n",
        "import seaborn as sns\n",
        "from pyvirtualdisplay import Display\n",
        "from IPython import display as ipythondisplay\n",
        "from IPython.display import clear_output\n",
        "from pathlib import Path\n",
        "\n",
        "import random, os.path, math, glob, csv, base64, itertools, sys\n",
        "from pprint import pprint\n",
        "\n",
        "import matplotlib\n",
        "import matplotlib.pyplot as plt\n",
        "%matplotlib inline\n",
        "import io\n",
        "from IPython.display import HTML\n",
        "\n",
        "from copy import deepcopy"
      ],
      "execution_count": 0,
      "outputs": []
    },
    {
      "cell_type": "markdown",
      "metadata": {
        "id": "S5twn7Qv7yKf",
        "colab_type": "text"
      },
      "source": [
        "# Discretization of the state space"
      ]
    },
    {
      "cell_type": "code",
      "metadata": {
        "id": "f3WTC2o2coW_",
        "colab_type": "code",
        "colab": {}
      },
      "source": [
        "from discretization import Discretizer\n",
        "\n",
        "class DiscretizedMountainCar(gym.Wrapper):\n",
        "    def __init__(self, n_bins):\n",
        "        env_id = 'MountainCar-v0' \n",
        "        env = gym.make(env_id)\n",
        "        self.env = env\n",
        "        super().__init__(env)\n",
        "        self.min_reward = -1.0\n",
        "        self.max_reward = 0.0\n",
        "\n",
        "        LM = env.observation_space.low\n",
        "        HM = env.observation_space.high\n",
        "        D = len(HM)\n",
        "\n",
        "        bins = []\n",
        "        for i in range(D):\n",
        "            V = np.linspace(LM[i], HM[i], n_bins)\n",
        "            bins.append(V[1:-1])\n",
        "        self.grid = Discretizer(bins=bins)\n",
        "\n",
        "        # Number of states\n",
        "        self.S = self.grid.n_bins()\n",
        "        # Number of actions\n",
        "        self.A = self.env.action_space.n\n",
        "\n",
        "    def step(self, action):\n",
        "        next_state, reward, done, info = self.env.step(action)\n",
        "        reward = (reward - self.min_reward) / (self.max_reward - self.min_reward)\n",
        "        if done:\n",
        "            next_state = self.env.reset()\n",
        "            reward = 1.0\n",
        "        done = False \n",
        "        next_state = self.grid.dpos(next_state)\n",
        "        return next_state, reward, done, info\n",
        "\n",
        "    def reset(self):\n",
        "        state = self.env.reset()\n",
        "        state = self.grid.dpos(state)\n",
        "        return state\n",
        "\n",
        "# Environment\n",
        "n_bins = 10\n",
        "env = DiscretizedMountainCar(n_bins)\n",
        "\n",
        "# Horizon\n",
        "H = 180"
      ],
      "execution_count": 0,
      "outputs": []
    },
    {
      "cell_type": "code",
      "metadata": {
        "id": "7l8433mz7yKh",
        "colab_type": "code",
        "colab": {}
      },
      "source": [
        ""
      ],
      "execution_count": 0,
      "outputs": []
    },
    {
      "cell_type": "markdown",
      "metadata": {
        "id": "hiXHdYle7yKm",
        "colab_type": "text"
      },
      "source": [
        "# Backward induction (aka Value Iteration)"
      ]
    },
    {
      "cell_type": "code",
      "metadata": {
        "id": "Q_KZXn8A7yKo",
        "colab_type": "code",
        "colab": {}
      },
      "source": [
        "def backward_induction(P, R, H):\n",
        "    \"\"\"\n",
        "        Parameters:\n",
        "            P: transition function (S,A,S)-dim matrix\n",
        "            R: reward function (S,A)-dim matrix\n",
        "            H: horizon\n",
        "\n",
        "        Returns:\n",
        "            The optimal V-function: array of shape (horizon, S)\n",
        "            The optimal policy\n",
        "        \n",
        "        V[h, s]\n",
        "    \"\"\"\n",
        "    S, A = P.shape[0], P.shape[1]\n",
        "    policy = np.zeros((H, S), dtype=np.int)\n",
        "    V = np.zeros((H + 1, S))\n",
        "    for h in reversed(range(H)):\n",
        "        for s in range(S):\n",
        "            \"\"\" \n",
        "            Here, we compute V^*(h, s) using the Bellman optimality equation:\n",
        "\n",
        "            V[h, s] = max_a  R[s, a] + sum_{s'} P[s, a, s']*V[h+1, s']\n",
        "            \"\"\"\n",
        "            for a in range(A):\n",
        "                tmp = R[s, a] + np.dot(P[s, a],  V[h + 1])\n",
        "                if (a == 0) or (tmp > V[h, s]):\n",
        "                    policy[h, s] = a\n",
        "                    V[h, s] = tmp\n",
        "    return V, policy"
      ],
      "execution_count": 0,
      "outputs": []
    },
    {
      "cell_type": "markdown",
      "metadata": {
        "id": "pvmhRCN07yKs",
        "colab_type": "text"
      },
      "source": [
        "Compute solution"
      ]
    },
    {
      "cell_type": "markdown",
      "metadata": {
        "id": "v1nCGWuw7yKy",
        "colab_type": "text"
      },
      "source": [
        "## UCBVI (UCRL with exploration bonus)"
      ]
    },
    {
      "cell_type": "code",
      "metadata": {
        "id": "pk0v7jg67yK7",
        "colab_type": "code",
        "colab": {}
      },
      "source": [
        "def UCRL(mdp, H, nb_episodes, VSTAR=0, scale_factor = 2.0):\n",
        "    S, A = mdp.S, mdp.A\n",
        "    policy = np.zeros((H, S), dtype=np.int)\n",
        "    Phat = np.ones((S,A,S)) / S\n",
        "    Rhat = np.zeros((S,A))\n",
        "    N_sas = np.zeros((S,A,S), dtype=np.int)\n",
        "    N_sa = np.zeros((S,A), dtype=np.int)\n",
        "    episode_rewards = np.zeros((nb_episodes,))\n",
        "  \n",
        "    V = H*np.ones((H + 1, S))\n",
        "    V[H, :] = 0\n",
        "\n",
        "    S_sa = np.zeros((S,A)) \n",
        "    for k in range(nb_episodes):\n",
        "        sum_rewards = 0\n",
        "        # run optimistic value iteration\n",
        "        V.fill(0)\n",
        "        for h in reversed(range(H)):\n",
        "            for s in range(S):\n",
        "                temp = np.zeros(A)\n",
        "                for a in range(A):\n",
        "                    nn = N_sa[s, a] + 1\n",
        "                    bonus = scale_factor*np.sqrt(1.0/nn)\n",
        "                    temp[a] = Rhat[s, a] + Phat[s, a].dot(V[h + 1]) + bonus\n",
        "\n",
        "                V[h, s] = min(H-h, temp.max())\n",
        "                policy[h, s] = temp.argmax()\n",
        "        # execute policy\n",
        "        initial_state = state = mdp.reset()\n",
        "        for h in range(H):\n",
        "            action = policy[h][state]\n",
        "            next_state, reward, done, _ = mdp.step(action)\n",
        "\n",
        "            sum_rewards += reward\n",
        "            \n",
        "            # update estimates (Phat, Rhat, N_sa, N_sas)\n",
        "            N_sa[state, action] += 1\n",
        "            N_sas[state, action, next_state] +=1\n",
        "            S_sa[state, action] += reward\n",
        "            \n",
        "            Rhat[state, action] = S_sa[state, action]/N_sa[state, action]\n",
        "            Phat[state, action, :] = N_sas[state, action, :]/N_sa[state, action]\n",
        "\n",
        "            \n",
        "            state = next_state\n",
        "        \n",
        "        # update regret\n",
        "        episode_rewards[k] = sum_rewards\n",
        "        \n",
        "        if k % 5 == 0 or k==1:\n",
        "            print(\"rewards[{}]: {}\".format(k, episode_rewards[k]), end = \", \")\n",
        "            print(\"Number of visited states: \", (N_sa.sum(axis=1) > 0).sum() )\n",
        "            # print(V[0, :])\n",
        "\n",
        "    return episode_rewards, N_sa, Rhat, Phat, policy"
      ],
      "execution_count": 0,
      "outputs": []
    },
    {
      "cell_type": "code",
      "metadata": {
        "id": "0-UTr3Gq7yK_",
        "colab_type": "code",
        "outputId": "f2388402-6d88-470a-b060-26d6a6b4328a",
        "colab": {
          "base_uri": "https://localhost:8080/",
          "height": 233
        }
      },
      "source": [
        "nb_repetitions = 1\n",
        "nb_episodes = 50\n",
        "rewards = np.zeros((nb_repetitions, nb_episodes))\n",
        "for it in range(nb_repetitions):\n",
        "    print(\"Running simulation: {}\".format(it))\n",
        "    rewards[it], N_sa, Rhat, Phat, policy = UCRL(mdp=env, H=H, nb_episodes=nb_episodes)"
      ],
      "execution_count": 0,
      "outputs": [
        {
          "output_type": "stream",
          "text": [
            "Running simulation: 0\n",
            "rewards[0]: 0.0, Number of visited states:  7\n",
            "rewards[1]: 0.0, Number of visited states:  7\n",
            "rewards[5]: 0.0, Number of visited states:  10\n",
            "rewards[10]: 0.0, Number of visited states:  34\n",
            "rewards[15]: 0.0, Number of visited states:  45\n",
            "rewards[20]: 0.0, Number of visited states:  53\n",
            "rewards[25]: 0.0, Number of visited states:  58\n",
            "rewards[30]: 0.0, Number of visited states:  61\n",
            "rewards[35]: 1.0, Number of visited states:  62\n",
            "rewards[40]: 0.0, Number of visited states:  63\n",
            "rewards[45]: 1.0, Number of visited states:  64\n"
          ],
          "name": "stdout"
        }
      ]
    },
    {
      "cell_type": "code",
      "metadata": {
        "id": "defhQH1NNQUD",
        "colab_type": "code",
        "outputId": "9a0fe860-2dcb-4e1d-bb97-5679bee80aa3",
        "colab": {
          "base_uri": "https://localhost:8080/",
          "height": 283
        }
      },
      "source": [
        "plt.plot(np.cumsum(rewards), label=\"Sum of rewards:\")\n",
        "plt.legend()"
      ],
      "execution_count": 0,
      "outputs": [
        {
          "output_type": "execute_result",
          "data": {
            "text/plain": [
              "<matplotlib.legend.Legend at 0x7f30aeab8dd8>"
            ]
          },
          "metadata": {
            "tags": []
          },
          "execution_count": 11
        },
        {
          "output_type": "display_data",
          "data": {
            "image/png": "[encoded data removed]",
            "text/plain": [
              "<Figure size 432x288 with 1 Axes>"
            ]
          },
          "metadata": {
            "tags": []
          }
        }
      ]
    },
    {
      "cell_type": "code",
      "metadata": {
        "id": "uhDoPAA5YCLJ",
        "colab_type": "code",
        "outputId": "c91f81f6-2640-42e8-f7d2-b910429fd9da",
        "colab": {
          "base_uri": "https://localhost:8080/",
          "height": 438
        }
      },
      "source": [
        "# The following code is will be used to visualize the environments.\n",
        "def show_video(directory):\n",
        "    html = []\n",
        "    for mp4 in Path(directory).glob(\"*.mp4\"):\n",
        "        video_b64 = base64.b64encode(mp4.read_bytes())\n",
        "        html.append('''<video alt=\"{}\" autoplay \n",
        "                      loop controls style=\"height: 400px;\">\n",
        "                      <source src=\"data:video/mp4;base64,{}\" type=\"video/mp4\" />\n",
        "                 </video>'''.format(mp4, video_b64.decode('ascii')))\n",
        "    ipythondisplay.display(ipythondisplay.HTML(data=\"<br>\".join(html)))\n",
        "    \n",
        "def make_seed(seed):\n",
        "    np.random.seed(seed=seed)\n",
        "    torch.manual_seed(seed=seed)\n",
        "  \n",
        "from pyvirtualdisplay import Display\n",
        "display = Display(visible=0, size=(1400, 900))\n",
        "display.start()\n",
        "\n",
        "env = Monitor(env, \"./gym-results\", force=True, video_callable=lambda episode: True)\n",
        "\n",
        "state = env.reset()\n",
        "for hh in range(H): \n",
        "    action = policy[hh, state]\n",
        "    state, reward, done, info = env.step(action)\n",
        "env.close()\n",
        "show_video(\"./gym-results\")"
      ],
      "execution_count": 0,
      "outputs": [
        {
          "output_type": "stream",
          "text": [
            "xdpyinfo was not found, X start can not be checked! Please install xdpyinfo!\n"
          ],
          "name": "stderr"
        },
        {
          "output_type": "display_data",
          "data": {
            "text/html": [
              "<video alt=\"gym-results/openaigym.video.0.890.video000000.mp4\" autoplay \n",
              "                      loop controls style=\"height: 400px;\">\n",
              "                      <source src=\"data:video/mp4;base64,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\" type=\"video/mp4\" />\n",
              "                 </video>"
            ],
            "text/plain": [
              "<IPython.core.display.HTML object>"
            ]
          },
          "metadata": {
            "tags": []
          }
        }
      ]
    }
  ]
}