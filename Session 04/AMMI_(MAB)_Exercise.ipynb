{
  "nbformat": 4,
  "nbformat_minor": 0,
  "metadata": {
    "kernelspec": {
      "name": "python3",
      "display_name": "Python 3"
    },
    "language_info": {
      "codemirror_mode": {
        "name": "ipython",
        "version": 3
      },
      "file_extension": ".py",
      "mimetype": "text/x-python",
      "name": "python",
      "nbconvert_exporter": "python",
      "pygments_lexer": "ipython3",
      "version": "3.6.10"
    },
    "colab": {
      "name": "AMMI (MAB) Exercise.ipynb",
      "provenance": [],
      "collapsed_sections": [],
      "include_colab_link": true
    },
    "accelerator": "GPU"
  },
  "cells": [
    {
      "cell_type": "markdown",
      "metadata": {
        "id": "view-in-github",
        "colab_type": "text"
      },
      "source": [
        "<a href=\"https://colab.research.google.com/github/Kabongosalomon/Introduction-RL/blob/master/Session%2004/AMMI_(MAB)_Exercise.ipynb\" target=\"_parent\"><img src=\"https://colab.research.google.com/assets/colab-badge.svg\" alt=\"Open In Colab\"/></a>"
      ]
    },
    {
      "cell_type": "code",
      "metadata": {
        "id": "zXdo08xU6aug",
        "colab_type": "code",
        "colab": {}
      },
      "source": [
        "!git clone https://github.com/rlgammazero/mvarl_hands_on.git > /dev/null 2>&1"
      ],
      "execution_count": 0,
      "outputs": []
    },
    {
      "cell_type": "code",
      "metadata": {
        "id": "az8z4Ddp6b5h",
        "colab_type": "code",
        "colab": {}
      },
      "source": [
        "import sys\n",
        "sys.path.insert(0, './mvarl_hands_on/exploration') "
      ],
      "execution_count": 0,
      "outputs": []
    },
    {
      "cell_type": "code",
      "metadata": {
        "id": "QYVut8IE6TCb",
        "colab_type": "code",
        "colab": {}
      },
      "source": [
        "import numpy as np\n",
        "import arms\n",
        "import matplotlib.pyplot as plt"
      ],
      "execution_count": 0,
      "outputs": []
    },
    {
      "cell_type": "markdown",
      "metadata": {
        "id": "Ty2Chp1i6TCk",
        "colab_type": "text"
      },
      "source": [
        "# Multi-Armed Bandits\n",
        "A MAB problem can be interpreted as a Markov Decision Process (MDP) with a single state and multiple actions (i.e., arms). At each round, the learning agent executes an action (i.e., arm) and observes a random realization of the reward associated to the arm. The goal is to find the arm with the highest mean reward"
      ]
    },
    {
      "cell_type": "markdown",
      "metadata": {
        "id": "hdCmDqwB6TCm",
        "colab_type": "text"
      },
      "source": [
        "A MAB problem is defined by $N$ arms. Each arm $i$ has an associated reward distribution $\\Lambda_i$ with mean $\\mu_i$.\n",
        "\n",
        "Let's define our first bandit problem"
      ]
    },
    {
      "cell_type": "code",
      "metadata": {
        "id": "rKZCltls6TCo",
        "colab_type": "code",
        "colab": {}
      },
      "source": [
        "# Build your own bandit problem\n",
        "arm1 = arms.ArmBernoulli(0.30)\n",
        "arm2 = arms.ArmBernoulli(0.45)\n",
        "arm3 = arms.ArmBernoulli(0.15)\n",
        "arm4 = arms.ArmBernoulli(0.10)\n",
        "\n",
        "MAB = [arm1, arm2, arm3, arm4] # multi armed, with 4 arms"
      ],
      "execution_count": 0,
      "outputs": []
    },
    {
      "cell_type": "code",
      "metadata": {
        "id": "jiAZzixt6360",
        "colab_type": "code",
        "colab": {
          "base_uri": "https://localhost:8080/",
          "height": 51
        },
        "outputId": "6f2c4521-802b-4924-e735-28bb6de2f5df"
      },
      "source": [
        "print(arm1.mean) # unknown\n",
        "print(arm1.sample()) # but we can sample"
      ],
      "execution_count": 18,
      "outputs": [
        {
          "output_type": "stream",
          "text": [
            "0.3\n",
            "[ True]\n"
          ],
          "name": "stdout"
        }
      ]
    },
    {
      "cell_type": "code",
      "metadata": {
        "id": "U8MyO0lM6TCv",
        "colab_type": "code",
        "outputId": "83ee3d2f-6b10-46ff-f1f2-ae15f22e2d48",
        "colab": {
          "base_uri": "https://localhost:8080/",
          "height": 51
        }
      },
      "source": [
        "nb_arms = len(MAB)\n",
        "means = [el.mean for el in MAB]\n",
        "\n",
        "# Display the means of your bandit (to find the best)\n",
        "print('means: {}'.format(means))\n",
        "mu_max = np.max(means)\n",
        "print('best arm: {}'.format(mu_max))\n",
        "\n",
        "# Parameters\n",
        "nb_repetitions = 40\n",
        "T = 500     # Horizon"
      ],
      "execution_count": 20,
      "outputs": [
        {
          "output_type": "stream",
          "text": [
            "means: [0.3, 0.45, 0.15, 0.1]\n",
            "best arm: 0.45\n"
          ],
          "name": "stdout"
        }
      ]
    },
    {
      "cell_type": "markdown",
      "metadata": {
        "id": "_o609SHX6TC0",
        "colab_type": "text"
      },
      "source": [
        "# Regret\n",
        "We evaluate exploration-exploitation algorithms based on the expected regret.\n",
        "The **expected regret** measures the difference between executing the optimal arm $a^\\star$ and following the learning agent:\n",
        "$$R(T) = \\mathbb{E}\\Big[\\sum_{t=1}^T \\mu^\\star - r_t \\Big]$$"
      ]
    },
    {
      "cell_type": "markdown",
      "metadata": {
        "id": "VAmsMfSu6TC-",
        "colab_type": "text"
      },
      "source": [
        "Algorithm and environment (MAB problem) are stochastic. We want to have meaningful results, thus we average over multiple runs."
      ]
    },
    {
      "cell_type": "markdown",
      "metadata": {
        "id": "gps2vLrJ6TDG",
        "colab_type": "text"
      },
      "source": [
        "# $\\epsilon$-Greedy\n",
        "This algorithm simply builds an estimate $\\hat{\\mu}_i$ of the mean reward of each arm and at each round it selects the action accorging to the following policy\n",
        "$$a_t = \\begin{cases}\n",
        "\\mathcal{U}(N) & \\text{ with probability }~\\epsilon\\\\\n",
        "\\arg\\max_{i} \\hat{\\mu}_i & \\text{ with probability }~1-\\epsilon\n",
        "\\end{cases}$$"
      ]
    },
    {
      "cell_type": "code",
      "metadata": {
        "id": "p1L10keq6TDH",
        "colab_type": "code",
        "outputId": "0ba36153-41c1-4f09-aa76-80c0b59173db",
        "colab": {
          "base_uri": "https://localhost:8080/",
          "height": 265
        }
      },
      "source": [
        "regret = np.zeros((nb_repetitions, T))\n",
        "epsilon = 0.1\n",
        "\n",
        "for it in range(nb_repetitions):\n",
        "    cum_rew = np.zeros((nb_arms,))\n",
        "    N = np.zeros((nb_arms, ))\n",
        "    mu_hat = np.zeros((nb_arms,))\n",
        "    for tt in range(T):\n",
        "      # choose an arm, implement epsilon greedy strategy \n",
        "      x = np.random.rand()\n",
        "      epsilon = 1/np.sqrt(tt+1)\n",
        "      if x < epsilon:\n",
        "          a = np.random.choice(nb_arms)\n",
        "      else:\n",
        "          a = mu_hat.argmax()\n",
        "\n",
        "      # sample from the arm,  MAB[arm].sample()\n",
        "      r = MAB[a].sample()\n",
        "\n",
        "      # update the statistics (mu_hat )\n",
        "      cum_rew[a] += r\n",
        "      N[a] += 1\n",
        "      mu_hat[a] = cum_rew[a] / N[a] \n",
        "\n",
        "      regret[it, tt] = mu_max - r\n",
        "\n",
        "    \n",
        "cum_regret = np.cumsum(regret, axis=1)\n",
        "mean_regret = cum_regret.mean(axis=0)\n",
        "std = cum_regret.std(axis=0) / np.sqrt(nb_repetitions)\n",
        "\n",
        "plt.plot(mean_regret, label=\"$\\epsilon$-greedy\")\n",
        "plt.fill_between(np.arange(T), mean_regret + std, mean_regret - std, alpha=0.1)\n",
        "plt.legend()\n",
        "\n",
        "\n",
        "# save current regret\n",
        "regret_EPSGREEDY= mean_regret\n",
        "std_EPSGREEDY= std\n"
      ],
      "execution_count": 24,
      "outputs": [
        {
          "output_type": "display_data",
          "data": {
            "image/png": "[encoded data removed]",
            "text/plain": [
              "<Figure size 432x288 with 1 Axes>"
            ]
          },
          "metadata": {
            "tags": []
          }
        }
      ]
    },
    {
      "cell_type": "markdown",
      "metadata": {
        "id": "A5YwzXrF6TDL",
        "colab_type": "text"
      },
      "source": [
        "# The UCB1 algorithm\n",
        "\n",
        "The UCB1 algorithm is proposed by [Auer et al](https://homes.di.unimi.it/~cesabian/Pubblicazioni/ml-02.pdf) for bandit instances with bounded rewards (in $[0,1]$ to fix the ideas). One can extend it to depend on some parameter $\\alpha$: \n",
        "\n",
        "$$A_{t} = \\underset{a}{\\text{argmax}} \\left[\\hat{\\mu}_a(t-1) + \\sqrt{\\frac{\\alpha \\log(t)}{N_a(t-1)}}\\right],$$\n",
        "where $\\hat{\\mu}_a(t)$ is the empirical mean of arm $a$ after $t$ rounds and $N_a(t)$ is the number of selections of arm $a$ till that time. \n",
        "\n",
        "UCB1 was originally proposed with $\\alpha = 2$. Its analysis was later refined to allow for $\\alpha > 1/2$ (see [here](http://sbubeck.com/Bubeckthesis.pdf) or [here](https://hal.archives-ouvertes.fr/hal-00738209/file/klucb.pdf)).\n",
        "\n",
        "* Implement UCB($\\alpha$).\n"
      ]
    },
    {
      "cell_type": "code",
      "metadata": {
        "id": "4Z0WtEC56TDN",
        "colab_type": "code",
        "outputId": "e12ecde5-c1f5-4a9f-c8f0-3083ec46a6d8",
        "colab": {
          "base_uri": "https://localhost:8080/",
          "height": 265
        }
      },
      "source": [
        "regret = np.zeros((nb_repetitions, T))\n",
        "alpha = 0.5\n",
        "\n",
        "\n",
        "for it in range(nb_repetitions):\n",
        "    # implement UCB\n",
        "    pass\n",
        "    \n",
        "cum_regret = np.cumsum(regret, axis=1)\n",
        "mean_regret = cum_regret.mean(axis=0)\n",
        "std = cum_regret.std(axis=0) / np.sqrt(nb_repetitions)\n",
        "\n",
        "plt.plot(mean_regret, label=\"UCB\")\n",
        "plt.fill_between(np.arange(T), mean_regret + std, mean_regret - std, alpha=0.1)\n",
        "plt.legend()\n",
        "\n",
        "\n",
        "# save current regret\n",
        "regret_UCB = mean_regret\n",
        "std_UCB= std"
      ],
      "execution_count": 0,
      "outputs": [
        {
          "output_type": "display_data",
          "data": {
            "image/png": "[encoded data removed]",
            "text/plain": [
              "<Figure size 432x288 with 1 Axes>"
            ]
          },
          "metadata": {
            "tags": []
          }
        }
      ]
    },
    {
      "cell_type": "markdown",
      "metadata": {
        "id": "LIebjN5V6TDS",
        "colab_type": "text"
      },
      "source": [
        "Plot all the algorithms"
      ]
    },
    {
      "cell_type": "code",
      "metadata": {
        "id": "S2kIK6TS6TDU",
        "colab_type": "code",
        "outputId": "8668718d-bd79-487b-973a-13fc0771ec9b",
        "colab": {
          "base_uri": "https://localhost:8080/",
          "height": 501
        }
      },
      "source": [
        "plt.figure(figsize=(10,8))\n",
        "plt.plot(regret_EPSGREEDY, label=\"$\\epsilon$-greedy\")\n",
        "plt.fill_between(np.arange(T), regret_EPSGREEDY + std_EPSGREEDY, regret_EPSGREEDY - std_EPSGREEDY, alpha=0.1)\n",
        "plt.plot(regret_UCB, label=\"UCB\")\n",
        "plt.fill_between(np.arange(T), regret_UCB + std_UCB, regret_UCB - std_UCB, alpha=0.1)\n",
        "plt.legend()"
      ],
      "execution_count": 0,
      "outputs": [
        {
          "output_type": "execute_result",
          "data": {
            "text/plain": [
              "<matplotlib.legend.Legend at 0x7f0900710c50>"
            ]
          },
          "metadata": {
            "tags": []
          },
          "execution_count": 66
        },
        {
          "output_type": "display_data",
          "data": {
            "image/png": "[encoded data removed]",
            "text/plain": [
              "<Figure size 720x576 with 1 Axes>"
            ]
          },
          "metadata": {
            "tags": []
          }
        }
      ]
    },
    {
      "cell_type": "code",
      "metadata": {
        "id": "NHKjdcD76TDZ",
        "colab_type": "code",
        "colab": {}
      },
      "source": [
        ""
      ],
      "execution_count": 0,
      "outputs": []
    }
  ]
}