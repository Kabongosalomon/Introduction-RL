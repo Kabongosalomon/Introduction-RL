{
  "nbformat": 4,
  "nbformat_minor": 0,
  "metadata": {
    "kernelspec": {
      "name": "python3",
      "display_name": "Python 3"
    },
    "language_info": {
      "codemirror_mode": {
        "name": "ipython",
        "version": 3
      },
      "file_extension": ".py",
      "mimetype": "text/x-python",
      "name": "python",
      "nbconvert_exporter": "python",
      "pygments_lexer": "ipython3",
      "version": "3.7.4-final"
    },
    "colab": {
      "name": "AIMS_2020 Exercice.ipynb",
      "provenance": [],
      "collapsed_sections": [],
      "include_colab_link": true
    },
    "accelerator": "GPU"
  },
  "cells": [
    {
      "cell_type": "markdown",
      "metadata": {
        "id": "view-in-github",
        "colab_type": "text"
      },
      "source": [
        "<a href=\"https://colab.research.google.com/github/Kabongosalomon/Introduction-RL/blob/master/Session%2001/AIMS_2020_Exercice.ipynb\" target=\"_parent\"><img src=\"https://colab.research.google.com/assets/colab-badge.svg\" alt=\"Open In Colab\"/></a>"
      ]
    },
    {
      "cell_type": "markdown",
      "metadata": {
        "colab_type": "text",
        "id": "QYW2YAMZOX4-"
      },
      "source": [
        "# Reinforcement Learning in Finite Markov Decision Processes MDP)ss"
      ]
    },
    {
      "cell_type": "code",
      "metadata": {
        "id": "496PYAVFF-8Z",
        "colab_type": "code",
        "colab": {
          "base_uri": "https://localhost:8080/",
          "height": 34
        },
        "outputId": "739fc4ca-e5ee-4e98-8fe4-370ae92dfd4a"
      },
      "source": [
        "!git clone https://github.com/rlgammazero/mvarl_hands_on.git > /dev/null 2>&1\n",
        "!cd mvarl_hands_on && git pull"
      ],
      "execution_count": 26,
      "outputs": [
        {
          "output_type": "stream",
          "text": [
            "Already up to date.\n"
          ],
          "name": "stdout"
        }
      ]
    },
    {
      "cell_type": "markdown",
      "metadata": {
        "colab_type": "text",
        "id": "NNsuKZxeOX4_"
      },
      "source": [
        "## MDPs"
      ]
    },
    {
      "cell_type": "code",
      "metadata": {
        "id": "0uQU88u1F-8i",
        "colab_type": "code",
        "colab": {}
      },
      "source": [
        "import sys\n",
        "sys.path.insert(0, './mvarl_hands_on/utils')\n",
        "import numpy as np\n",
        "import matplotlib.pyplot as plt\n",
        "import json\n",
        "import math\n",
        "from gridworld import GridWorldWithPits"
      ],
      "execution_count": 0,
      "outputs": []
    },
    {
      "cell_type": "markdown",
      "metadata": {
        "colab_type": "text",
        "id": "puk7xD1EBDEu"
      },
      "source": [
        "## Define the environment"
      ]
    },
    {
      "cell_type": "code",
      "metadata": {
        "id": "9D61EyrSF-8q",
        "colab_type": "code",
        "colab": {}
      },
      "source": [
        "from finite_env import FiniteEnv\n",
        "import numpy as np\n",
        "\n",
        "class RobotEnv(FiniteEnv):\n",
        "    \"\"\"\n",
        "    Enviroment with 2 states and 3 actions\n",
        "    Args:\n",
        "        gamma (float): discount factor\n",
        "        seed    (int): Random number generator seed\n",
        "    \"\"\"\n",
        "\n",
        "    def __init__(self, gamma=0.5, seed=42):\n",
        "        # Set seed\n",
        "        self.RS = np.random.RandomState(seed)\n",
        "\n",
        "        # Transition probabilities\n",
        "        # shape (Ns, Na, Ns)\n",
        "        # P[s, a, s'] = Prob(S_{t+1}=s'| S_t = s, A_t = a)\n",
        "\n",
        "        Ns = 2\n",
        "        Na = 3\n",
        "        \n",
        "        # P = np.array([[[1, 0], [3/4, 1/4], [1, 0]], [[0,1],[1,0], [1,0]]])      # |SxAxS|\n",
        "        P = np.array([[[1, 0], [3/4, 1/4], [0, 0]], [[0,1],[1,0], [1,0]]]) \n",
        "\n",
        "        self._R = np.array([[0,1,-0.5], [0, -1, 0]])                            # |SxA|\n",
        "\n",
        "        self.state_decoder  = {0: \"A\", 1: \"B\"}\n",
        "        self.action_decoder = {0: \"WAIT\", 1: \"SEARCH\", 2: \"RECHARGE\"}\n",
        "        \n",
        "        # Initialize base class\n",
        "        states = np.arange(Ns).tolist()\n",
        "        action_sets = [np.arange(Na).tolist()]*Ns\n",
        "        super().__init__(states, action_sets, P, gamma)\n",
        "\n",
        "    def reward_func(self, state, action, *_):\n",
        "        return self._R[state, action]\n",
        "\n",
        "    def reset(self, s=0):\n",
        "        self.state = s\n",
        "        return self.state\n",
        "\n",
        "    def step(self, action):\n",
        "        next_state = self.sample_transition(self.state, action)\n",
        "        reward = self.reward_func(self.state, action, next_state)\n",
        "        done = False\n",
        "        info = {\"str\" : \"In {} do {} arrive at {} get {}\".format(\n",
        "            self.state_decoder[state],\n",
        "            self.action_decoder[action],\n",
        "            self.state_decoder[next_state],\n",
        "            reward )}\n",
        "        self.state = next_state\n",
        "\n",
        "        observation = next_state\n",
        "        return observation, reward, done, info\n",
        "\n",
        "    def sample_transition(self, s, a):\n",
        "        prob = self.P[s,a,:]\n",
        "        s_ = self.RS.choice(self.states, p = prob)\n",
        "        return s_\n",
        "\n",
        "    def render_policy(self, policy):\n",
        "      if len(np.array(policy).shape) > 1:\n",
        "        policy = densify_policy(policy)\n",
        "\n",
        "      txt = \"\"\n",
        "      for i, a in enumerate(policy):\n",
        "        txt += \"In state {} perform {}\\n\".format(self.state_decoder[i], self.action_decoder[a])\n",
        "      return txt[:-1]\n",
        "\n",
        "    @property\n",
        "    def R(self):\n",
        "        return self._R\n",
        "  \n",
        "env = RobotEnv()"
      ],
      "execution_count": 0,
      "outputs": []
    },
    {
      "cell_type": "code",
      "metadata": {
        "id": "F4HE4FxvF-8v",
        "colab_type": "code",
        "colab": {
          "base_uri": "https://localhost:8080/",
          "height": 34
        },
        "outputId": "29e62ece-1b08-408a-e8c2-68c723ba83e0"
      },
      "source": [
        "env.P.shape"
      ],
      "execution_count": 29,
      "outputs": [
        {
          "output_type": "execute_result",
          "data": {
            "text/plain": [
              "(2, 3, 2)"
            ]
          },
          "metadata": {
            "tags": []
          },
          "execution_count": 29
        }
      ]
    },
    {
      "cell_type": "markdown",
      "metadata": {
        "colab_type": "text",
        "id": "Hdzoq4dLOX5C"
      },
      "source": [
        "Setting up the environment"
      ]
    },
    {
      "cell_type": "code",
      "metadata": {
        "id": "t-7bWMB0F-82",
        "colab_type": "code",
        "colab": {
          "base_uri": "https://localhost:8080/",
          "height": 136
        },
        "outputId": "a40f2029-9744-452d-b3e0-1932a983060a"
      },
      "source": [
        "env.P"
      ],
      "execution_count": 30,
      "outputs": [
        {
          "output_type": "execute_result",
          "data": {
            "text/plain": [
              "array([[[1.  , 0.  ],\n",
              "        [0.75, 0.25],\n",
              "        [0.  , 0.  ]],\n",
              "\n",
              "       [[0.  , 1.  ],\n",
              "        [1.  , 0.  ],\n",
              "        [1.  , 0.  ]]])"
            ]
          },
          "metadata": {
            "tags": []
          },
          "execution_count": 30
        }
      ]
    },
    {
      "cell_type": "code",
      "metadata": {
        "id": "wYf_KqxNF-89",
        "colab_type": "code",
        "colab": {
          "base_uri": "https://localhost:8080/",
          "height": 357
        },
        "outputId": "754b9449-6c80-4bec-beb3-55bf146f5988"
      },
      "source": [
        "# Useful attributes\n",
        "print(\"Set of states:\", env.states)\n",
        "print(\"Set of actions:\", env.actions)\n",
        "print(\"Number of states: \", env.Ns)\n",
        "print(\"Number of actions: \", env.Na)\n",
        "print(\"P has shape: \", env.P.shape)  # P[s'|s,a] = P[s, a, s'] = env.P[s, a, s']\n",
        "print(\"R has shape: \", env.R.shape)  \n",
        "print(\"discount factor: \", env.gamma)\n",
        "print(\"\")\n",
        "\n",
        "# Usefult methods\n",
        "state = env.reset() # get initial state\n",
        "print(\"initial state: \", state)\n",
        "print(\"reward at (s=0, a=1): \", env.reward_func(0,1))\n",
        "print(\"\")\n",
        "\n",
        "# A random policy\n",
        "policy = np.random.randint(env.Na, size = (env.Ns,))\n",
        "print(\"random policy = \", policy)\n",
        "print(env.render_policy(policy))\n",
        "\n",
        "# Interacting with the environment\n",
        "print(\"(s, a, s', r):\")\n",
        "for time in range(4):\n",
        "    action = policy[state]\n",
        "    next_state, reward, done, info = env.step(action)\n",
        "    print(state, action, next_state, reward, \"   --> \" + info[\"str\"] if \"str\" in info else \"\") \n",
        "    if done:\n",
        "        break\n",
        "    state = next_state\n",
        "print(\"\")\n"
      ],
      "execution_count": 31,
      "outputs": [
        {
          "output_type": "stream",
          "text": [
            "Set of states: [0, 1]\n",
            "Set of actions: [0, 1, 2]\n",
            "Number of states:  2\n",
            "Number of actions:  3\n",
            "P has shape:  (2, 3, 2)\n",
            "R has shape:  (2, 3)\n",
            "discount factor:  0.5\n",
            "\n",
            "initial state:  0\n",
            "reward at (s=0, a=1):  1.0\n",
            "\n",
            "random policy =  [1 0]\n",
            "In state A perform SEARCH\n",
            "In state B perform WAIT\n",
            "(s, a, s', r):\n",
            "0 1 0 1.0    --> In A do SEARCH arrive at A get 1.0\n",
            "0 1 1 1.0    --> In A do SEARCH arrive at B get 1.0\n",
            "1 0 1 0.0    --> In B do WAIT arrive at B get 0.0\n",
            "1 0 1 0.0    --> In B do WAIT arrive at B get 0.0\n",
            "\n"
          ],
          "name": "stdout"
        }
      ]
    },
    {
      "cell_type": "markdown",
      "metadata": {
        "colab_type": "text",
        "id": "7YM7lLbRA68A"
      },
      "source": [
        "## Useful functions\n"
      ]
    },
    {
      "cell_type": "code",
      "metadata": {
        "id": "lOZQiQmlF-9D",
        "colab_type": "code",
        "colab": {}
      },
      "source": [
        "def sparsify_policy(policy, Na):\n",
        "  ### Turn a dense policy into a sparse one.\n",
        "  #  Ex: [0, 1], Na=3  -> [[1, 0, 0], [0, 1, 0]]\n",
        "  ###\n",
        "\n",
        "  Ns = len(policy)\n",
        "  sparse_policy = np.zeros(shape=(Ns, Na))\n",
        "  for i, a in enumerate(policy):\n",
        "    sparse_policy[i,a]=1\n",
        "  return sparse_policy\n",
        "\n",
        "def densify_policy(policy):\n",
        "  ### Turn a sparse determinist policy into a dense one.\n",
        "  #  Ex: [[1, 0, 0], [0, 1, 0]] -> [0, 1]\n",
        "  ###\n",
        "  return np.array(policy).argmax(axis=1)\n"
      ],
      "execution_count": 0,
      "outputs": []
    },
    {
      "cell_type": "markdown",
      "metadata": {
        "colab_type": "text",
        "id": "4dyTP0kkAXKo"
      },
      "source": [
        "## Exercice : Policy Evaluation\n",
        "1. Evaluate the policy by solving the linear system\n",
        "2. Evaluate the policy through recursion"
      ]
    },
    {
      "cell_type": "code",
      "metadata": {
        "id": "Igl7Vj-5F-9J",
        "colab_type": "code",
        "colab": {
          "base_uri": "https://localhost:8080/",
          "height": 255
        },
        "outputId": "20516009-ec40-4cae-8a04-9faf39fc047a"
      },
      "source": [
        "# Policy evaluation (exact)\n",
        "\n",
        "# Retrieve the environment MDP\n",
        "P = env.P\n",
        "R = env.R\n",
        "gamma = env.gamma\n",
        "\n",
        "\n",
        "# Policy to evaluate\n",
        "# State A: Search\n",
        "# State B: Wait\n",
        "dense_policy = np.array([1, 0])\n",
        "pi = sparsify_policy(dense_policy, Na=env.Na)\n",
        "print(\"## old pi:\")\n",
        "print(pi)\n",
        "print(env.render_policy(pi))\n",
        "\n",
        "\n",
        "# Compute the dynamics given the policy\n",
        "\n",
        "# using for loops\n",
        "# actions = [0, 1, 2]\n",
        "# states = [0, 1]\n",
        "# Ppi = np.zeros([2, 2])\n",
        "# for s in states:\n",
        "#     for s_next in stages :\n",
        "#         Ppi[s, s_next] = np.sum(pi[s]* P[s, :, s_next])\n",
        "\n",
        "\n",
        "# Using Matrix \n",
        "\n",
        "\n",
        "Ppi = np.sum(P * np.expand_dims(pi, axis=-1), axis =1)  # sum_a pi(a/s) P(s, a, s')\n",
        "                             \n",
        "Rpi = np.sum(R* pi, axis = 1)                           # sum_a^A pi(a/s) r(s, a)\n",
        "\n",
        "\n",
        "\n",
        "# Evaluate the policy\n",
        "Vpi = np.linalg.inv(np.identity(env.Ns)- gamma*Ppi).dot(Rpi)\n",
        "\n",
        "print(\"## Vpi: \", Vpi)\n",
        "\n",
        "\n",
        "# Compute the Q values\n",
        "Qpi = R + gamma * P.dot(Vpi)\n",
        "\n",
        "print(\"## Qpi:\")\n",
        "print(Qpi)\n",
        "\n",
        "\n",
        "# What is the next policy if we perform one step of policy improvment ?\n",
        "pi_new = Qpi.argmax(axis=1)\n",
        "\n",
        "print(\"## new pi:\")\n",
        "print(sparsify_policy(pi_new, Na=env.Na))\n",
        "print(env.render_policy(pi_new))"
      ],
      "execution_count": 33,
      "outputs": [
        {
          "output_type": "stream",
          "text": [
            "## old pi:\n",
            "[[0. 1. 0.]\n",
            " [1. 0. 0.]]\n",
            "In state A perform SEARCH\n",
            "In state B perform WAIT\n",
            "## Vpi:  [1.6 0. ]\n",
            "## Qpi:\n",
            "[[ 0.8  1.6 -0.5]\n",
            " [ 0.  -0.2  0.8]]\n",
            "## new pi:\n",
            "[[0. 1. 0.]\n",
            " [0. 0. 1.]]\n",
            "In state A perform SEARCH\n",
            "In state B perform RECHARGE\n"
          ],
          "name": "stdout"
        }
      ]
    },
    {
      "cell_type": "code",
      "metadata": {
        "id": "yNZuM-mlF-9O",
        "colab_type": "code",
        "colab": {
          "base_uri": "https://localhost:8080/",
          "height": 306
        },
        "outputId": "5736c2ff-a530-4347-b31b-40aa05a52936"
      },
      "source": [
        "print(f'Shape pi (expended) : \\n{np.expand_dims(pi, axis=-1).shape}\\n')\n",
        "print(f'Shape P : \\n{P.shape}\\n')\n",
        "print(f'Shape P*pi : \\n{(P*np.expand_dims(pi, axis=-1)).shape}\\n')\n",
        "print('-------------------------------------------------------------------\\n')\n",
        "print(f'Shape R : \\n{R.shape}\\n')\n",
        "print(f'Shape pi (expended) : \\n{pi.shape}\\n')"
      ],
      "execution_count": 34,
      "outputs": [
        {
          "output_type": "stream",
          "text": [
            "Shape pi (expended) : \n",
            "(2, 3, 1)\n",
            "\n",
            "Shape P : \n",
            "(2, 3, 2)\n",
            "\n",
            "Shape P*pi : \n",
            "(2, 3, 2)\n",
            "\n",
            "-------------------------------------------------------------------\n",
            "\n",
            "Shape R : \n",
            "(2, 3)\n",
            "\n",
            "Shape pi (expended) : \n",
            "(2, 3)\n",
            "\n"
          ],
          "name": "stdout"
        }
      ]
    },
    {
      "cell_type": "code",
      "metadata": {
        "id": "qnZfkM_gF-9S",
        "colab_type": "code",
        "colab": {
          "base_uri": "https://localhost:8080/",
          "height": 272
        },
        "outputId": "be2d720f-9a34-4e03-c75e-f11e8f839f97"
      },
      "source": [
        "print(P)\n",
        "print()\n",
        "print(np.expand_dims(pi, axis=-1))"
      ],
      "execution_count": 35,
      "outputs": [
        {
          "output_type": "stream",
          "text": [
            "[[[1.   0.  ]\n",
            "  [0.75 0.25]\n",
            "  [0.   0.  ]]\n",
            "\n",
            " [[0.   1.  ]\n",
            "  [1.   0.  ]\n",
            "  [1.   0.  ]]]\n",
            "\n",
            "[[[0.]\n",
            "  [1.]\n",
            "  [0.]]\n",
            "\n",
            " [[1.]\n",
            "  [0.]\n",
            "  [0.]]]\n"
          ],
          "name": "stdout"
        }
      ]
    },
    {
      "cell_type": "code",
      "metadata": {
        "id": "QQ_9RtWlF-9W",
        "colab_type": "code",
        "colab": {
          "base_uri": "https://localhost:8080/",
          "height": 136
        },
        "outputId": "bbcb6eb5-20b8-4085-e59a-6d4180012bb0"
      },
      "source": [
        "(P*np.expand_dims(pi, axis=-1))"
      ],
      "execution_count": 36,
      "outputs": [
        {
          "output_type": "execute_result",
          "data": {
            "text/plain": [
              "array([[[0.  , 0.  ],\n",
              "        [0.75, 0.25],\n",
              "        [0.  , 0.  ]],\n",
              "\n",
              "       [[0.  , 1.  ],\n",
              "        [0.  , 0.  ],\n",
              "        [0.  , 0.  ]]])"
            ]
          },
          "metadata": {
            "tags": []
          },
          "execution_count": 36
        }
      ]
    },
    {
      "cell_type": "code",
      "metadata": {
        "id": "9kR5UrbpF-9d",
        "colab_type": "code",
        "colab": {
          "base_uri": "https://localhost:8080/",
          "height": 51
        },
        "outputId": "e604d7cb-0f9c-462e-f965-de0a60e900d6"
      },
      "source": [
        "np.sum(P*np.expand_dims(pi, axis=-1), axis=1)"
      ],
      "execution_count": 37,
      "outputs": [
        {
          "output_type": "execute_result",
          "data": {
            "text/plain": [
              "array([[0.75, 0.25],\n",
              "       [0.  , 1.  ]])"
            ]
          },
          "metadata": {
            "tags": []
          },
          "execution_count": 37
        }
      ]
    },
    {
      "cell_type": "code",
      "metadata": {
        "id": "ACf_6nMPF-9i",
        "colab_type": "code",
        "colab": {
          "base_uri": "https://localhost:8080/",
          "height": 238
        },
        "outputId": "1cae96e4-851e-441f-e5e5-147adc836505"
      },
      "source": [
        "# Policy evaluation (recursive)\n",
        "\n",
        "# Retrieve the environment MDP\n",
        "P = env.P\n",
        "R = env.R\n",
        "gamma = env.gamma\n",
        "\n",
        "\n",
        "# Policy to evaluate\n",
        "dpi = np.array([1, 0])\n",
        "pi = sparsify_policy(dpi, Na=env.Na)\n",
        "\n",
        "print(pi)\n",
        "\n",
        "# Stopping criterion -> maximum number of steps\n",
        "epsilon = 1e-3\n",
        "\n",
        "rmax = 1                    # max(|R|) R is a matrix\n",
        "\n",
        "max_k = int(np.log(rmax/epsilon)/np.log(1/gamma))+1\n",
        "\n",
        "v = np.zeros(env.Ns)\n",
        "\n",
        "for k in range(max_k):\n",
        "    v = Rpi + gamma* Ppi.dot(v)\n",
        "    print(k, v)\n",
        "\n",
        "print(f'final v : {v}')"
      ],
      "execution_count": 38,
      "outputs": [
        {
          "output_type": "stream",
          "text": [
            "[[0. 1. 0.]\n",
            " [1. 0. 0.]]\n",
            "0 [1. 0.]\n",
            "1 [1.375 0.   ]\n",
            "2 [1.515625 0.      ]\n",
            "3 [1.56835938 0.        ]\n",
            "4 [1.58813477 0.        ]\n",
            "5 [1.59555054 0.        ]\n",
            "6 [1.59833145 0.        ]\n",
            "7 [1.59937429 0.        ]\n",
            "8 [1.59976536 0.        ]\n",
            "9 [1.59991201 0.        ]\n",
            "final v : [1.59991201 0.        ]\n"
          ],
          "name": "stdout"
        }
      ]
    },
    {
      "cell_type": "code",
      "metadata": {
        "id": "RHpn3AOjF-9n",
        "colab_type": "code",
        "colab": {
          "base_uri": "https://localhost:8080/",
          "height": 170
        },
        "outputId": "8d6c15d7-4adc-4029-cbd9-dc7dae0cadd1"
      },
      "source": [
        "# Stopping criterion -> compute the infinite norm\n",
        "epsilon = 1e-3 \n",
        "\n",
        "v_new = np.array([0, 0])\n",
        "v_old = np.array([2*epsilon, 0])\n",
        "first = True\n",
        "while np.absolute(v_new - v_old).max() > epsilon :\n",
        "    # if not first :\n",
        "    v_new, v_old = Rpi + gamma* Ppi.dot(v_new), v_new\n",
        "    print(v_new)"
      ],
      "execution_count": 39,
      "outputs": [
        {
          "output_type": "stream",
          "text": [
            "[1. 0.]\n",
            "[1.375 0.   ]\n",
            "[1.515625 0.      ]\n",
            "[1.56835938 0.        ]\n",
            "[1.58813477 0.        ]\n",
            "[1.59555054 0.        ]\n",
            "[1.59833145 0.        ]\n",
            "[1.59937429 0.        ]\n",
            "[1.59976536 0.        ]\n"
          ],
          "name": "stdout"
        }
      ]
    },
    {
      "cell_type": "markdown",
      "metadata": {
        "colab_type": "text",
        "id": "u0nl8OfLwpdC"
      },
      "source": [
        "## New Environment!!!"
      ]
    },
    {
      "cell_type": "code",
      "metadata": {
        "id": "OxS3iiOyF-9u",
        "colab_type": "code",
        "colab": {}
      },
      "source": [
        "# New Maze environment\n",
        "# s: start\n",
        "# g: goal\n",
        "# x: negative reward state\n",
        "\n",
        "grid1 = [\n",
        "    ['', '', '', 'g'],\n",
        "    ['', 'x', '', ''],\n",
        "    ['s', '', '', '']\n",
        "]\n",
        "grid1_MAP = [\n",
        "    \"+-------+\",\n",
        "    \"| : : :G|\",\n",
        "    \"| :x: : |\",\n",
        "    \"|S: : : |\",\n",
        "    \"+-------+\",\n",
        "]\n",
        "\n",
        "env = GridWorldWithPits(grid=grid1, txt_map=grid1_MAP, uniform_trans_proba=0)"
      ],
      "execution_count": 0,
      "outputs": []
    },
    {
      "cell_type": "code",
      "metadata": {
        "id": "D8dOl5rkF-9x",
        "colab_type": "code",
        "colab": {
          "base_uri": "https://localhost:8080/",
          "height": 323
        },
        "outputId": "ca2dd5a3-74f7-4329-8676-da943d3d6b7e"
      },
      "source": [
        "# Useful attributes\n",
        "print(\"Set of states:\", env.states)\n",
        "print(\"Set of actions:\", env.actions)\n",
        "print(\"Number of states: \", env.Ns)\n",
        "print(\"Number of actions: \", env.Na)\n",
        "print(\"P has shape: \", env.P.shape)  # P[s'|s,a] = P[s, a, s'] = env.P[s, a, s']\n",
        "print(\"R has shape: \", env.R.shape)  \n",
        "print(\"discount factor: \", env.gamma)\n",
        "print(\"\")\n",
        "\n",
        "# Usefult methods\n",
        "state = env.reset() # get initial state\n",
        "print(\"initial state: \", state)\n",
        "print(\"reward at (s=0, a=1,s'=1): \", env.reward_func(0,1,1))\n",
        "print(\"\")\n",
        "\n",
        "# A random policy\n",
        "dpi = np.random.randint(env.Na, size = (env.Ns,))\n",
        "print(\"random policy = \", dpi)\n",
        "\n",
        "# Interacting with the environment\n",
        "print(\"(s, a, s', r):\")\n",
        "for time in range(4):\n",
        "    action = dpi[state]\n",
        "    next_state, reward, done, info = env.step(action)\n",
        "    print(state, action, next_state, reward) \n",
        "    if done:\n",
        "        break\n",
        "    state = next_state\n",
        "print(\"\")"
      ],
      "execution_count": 41,
      "outputs": [
        {
          "output_type": "stream",
          "text": [
            "Set of states: range(0, 12)\n",
            "Set of actions: [0, 1, 2, 3]\n",
            "Number of states:  12\n",
            "Number of actions:  4\n",
            "P has shape:  (12, 4, 12)\n",
            "R has shape:  (12, 4)\n",
            "discount factor:  0.99\n",
            "\n",
            "initial state:  8\n",
            "reward at (s=0, a=1,s'=1):  -2.0\n",
            "\n",
            "random policy =  [0 1 2 0 1 3 0 0 1 1 2 3]\n",
            "(s, a, s', r):\n",
            "8 1 8 -2.0\n",
            "8 1 8 -2.0\n",
            "8 1 8 -2.0\n",
            "8 1 9 -2.0\n",
            "\n"
          ],
          "name": "stdout"
        }
      ]
    },
    {
      "cell_type": "code",
      "metadata": {
        "id": "vCpQyPRsF-91",
        "colab_type": "code",
        "colab": {
          "base_uri": "https://localhost:8080/",
          "height": 714
        },
        "outputId": "ffa4043a-182b-4829-ea86-20b1b348dcc3"
      },
      "source": [
        "dpi = np.random.randint(env.Na, size = (env.Ns,))\n",
        "env.render_policy(dpi)\n",
        "\n",
        "state = env.reset()\n",
        "env.render()\n",
        "for i in range(5):\n",
        "    action = dpi[state]\n",
        "    state, reward, done, _ = env.step(action)\n",
        "    env.render()\n",
        "    if done:\n",
        "      break"
      ],
      "execution_count": 42,
      "outputs": [
        {
          "output_type": "stream",
          "text": [
            "+-------+\n",
            "|<:<:>:v|\n",
            "|>:>:v:>|\n",
            "|v:>:^:v|\n",
            "+-------+\n",
            "+-------+\n",
            "| : : :G|\n",
            "| :x: : |\n",
            "|\u001b[43mS\u001b[0m: : : |\n",
            "+-------+\n",
            "\n",
            "+-------+\n",
            "| : : :G|\n",
            "| :x: : |\n",
            "|\u001b[43mS\u001b[0m: : : |\n",
            "+-------+\n",
            "  (down)\n",
            "+-------+\n",
            "| : : :G|\n",
            "| :x: : |\n",
            "|\u001b[43mS\u001b[0m: : : |\n",
            "+-------+\n",
            "  (down)\n",
            "+-------+\n",
            "| : : :G|\n",
            "| :x: : |\n",
            "|\u001b[43mS\u001b[0m: : : |\n",
            "+-------+\n",
            "  (down)\n",
            "+-------+\n",
            "| : : :G|\n",
            "| :x: : |\n",
            "|\u001b[43mS\u001b[0m: : : |\n",
            "+-------+\n",
            "  (down)\n",
            "+-------+\n",
            "| : : :G|\n",
            "| :x: : |\n",
            "|\u001b[43mS\u001b[0m: : : |\n",
            "+-------+\n",
            "  (down)\n"
          ],
          "name": "stdout"
        }
      ]
    },
    {
      "cell_type": "markdown",
      "metadata": {
        "colab_type": "text",
        "id": "2ugaKsHsOX5G"
      },
      "source": [
        "## Exercice: Value Iteration\n",
        "1. Write a function applying the optimal Bellman operator on a provided Q function: $Q_1 = LQ_0, \\; Q_0\\in \\mathbb{R}^{S\\times A}$\n",
        "2. Write a function implementing Value Iteration (VI) with $\\infty$-norm stopping condition \n",
        "3. Evaluate the convergence of your estimate, i.e., plot the value $\\|V_n - V^\\star\\|_{\\infty}$\n",
        "4. Evaluate the convergence of your estimate, i.e., plot the value $\\|\\pi_n - \\pi^\\star\\|_{\\infty}$"
      ]
    },
    {
      "cell_type": "code",
      "metadata": {
        "id": "VlzYTnJfF-96",
        "colab_type": "code",
        "colab": {}
      },
      "source": [
        "# useful function\n",
        "def plot_infnorm(lst, star, name=\"V\"):\n",
        "  \n",
        "  lst = np.array(lst)\n",
        "  star = np.array(star)\n",
        "\n",
        "  # Compute inf norm\n",
        "  diff = np.absolute(lst - star).max(axis=1)\n",
        "  plt.figure()\n",
        "  plt.plot(diff)\n",
        "  plt.xlabel('Iteration')\n",
        "  plt.ylabel('Error')\n",
        "  plt.title(\"||{} - {}*||_inf\".format(name, name))"
      ],
      "execution_count": 0,
      "outputs": []
    },
    {
      "cell_type": "code",
      "metadata": {
        "id": "r3GleiYNF--B",
        "colab_type": "code",
        "colab": {
          "base_uri": "https://localhost:8080/",
          "height": 794
        },
        "outputId": "bebecedf-d848-49e6-849d-5895f8003a8d"
      },
      "source": [
        "# Compute Value Iteration\n",
        "\n",
        "# Retrieve the environment MDP\n",
        "P = env.P\n",
        "R = env.R\n",
        "gamma = env.gamma\n",
        "epsilon = 5e-2\n",
        "\n",
        "# Prepare v, and storage\n",
        "v = np.zeros(env.Ns)\n",
        "v_all = []\n",
        "\n",
        "pi_all = []\n",
        "\n",
        "# iterate over the value\n",
        "while True:\n",
        "  \n",
        "  # Compute v_k\n",
        "  v, v_old = np.max(R + gamma * P.dot(v), axis=1), v\n",
        "  v_all.append(v)\n",
        "\n",
        "  # Esimate Intermediate policy\n",
        "  q = R + gamma * P.dot(v)\n",
        "  dpi = q.argmax(axis=1)\n",
        "\n",
        "  pi_all.append(dpi)\n",
        "\n",
        "  # stopping criterion \n",
        "  if np.absolute(v-v_old).max() < epsilon: \n",
        "    break\n",
        "\n",
        "# Plot optimal policy\n",
        "env.render_policy(dpi)\n",
        "\n",
        "# You need to evaluate V* here from your optimal policy\n",
        "# You have no guarantee that the last v-value is converge to the actual Vpi\n",
        "pi = sparsify_policy(dpi, Na=env.Na)\n",
        "Ppi = np.sum(P * np.expand_dims(pi, axis=-1), axis=1)\n",
        "Rpi = np.sum(R * pi, axis=1)\n",
        "\n",
        "v_star = np.linalg.inv( np.identity(env.Ns) - gamma*Ppi).dot(Rpi)\n",
        "print(\"v (last):\", v_all[-1])\n",
        "print(\"v (star):\", v_star)\n",
        "\n",
        "# The difference is not exactly epsilon. We here we are comparing V*-V while the algorithm we are comparing V_new - V_old\n",
        "print(\"epsilon: \", epsilon)\n",
        "print(\"|v - v_star|_inf: \", np.absolute(v_all[-1]-v_star).max())\n",
        "\n",
        "# The value function converge towards v* iteration after iteration\n",
        "plot_infnorm(v_all, v_star, name=\"V\")\n",
        "\n",
        "# If we estimate the intermediate policies, we observe that the optimal policy is obtained earlier in the process.\n",
        "# However, the value function has not yet converge. Thus ares still unaware that it is the optimal policty at iteration 4.\n",
        "plot_infnorm(pi_all, dpi, name=\"Pi\")"
      ],
      "execution_count": 44,
      "outputs": [
        {
          "output_type": "stream",
          "text": [
            "+-------+\n",
            "|>:>:>:>|\n",
            "|^:>:>:^|\n",
            "|>:>:>:^|\n",
            "+-------+\n",
            "v (last): [-12.51900447 -10.53807754  -8.18223708  -6.09482131 -14.74986553\n",
            " -30.46943697 -10.48755342  -8.17632202 -16.28042498 -14.3886304\n",
            " -12.14153371 -10.18561434]\n",
            "v (star): [-16.14241424 -14.14833522 -11.78735625  -9.70420747 -18.37607865\n",
            " -34.09268495 -14.09758906 -11.78144235 -19.90323987 -18.01512775\n",
            " -15.76496054 -13.79583079]\n",
            "epsilon:  0.05\n",
            "|v - v_star|_inf:  3.626497356300213\n"
          ],
          "name": "stdout"
        },
        {
          "output_type": "display_data",
          "data": {
            "image/png": "[encoded data removed]",
            "text/plain": [
              "<Figure size 432x288 with 1 Axes>"
            ]
          },
          "metadata": {
            "tags": []
          }
        },
        {
          "output_type": "display_data",
          "data": {
            "image/png": "[encoded data removed]",
            "text/plain": [
              "<Figure size 432x288 with 1 Axes>"
            ]
          },
          "metadata": {
            "tags": []
          }
        }
      ]
    },
    {
      "cell_type": "markdown",
      "metadata": {
        "colab_type": "text",
        "id": "TDT4iyJnAPIE"
      },
      "source": [
        "## Exercice: Policy Iteration (Homework)\n",
        "1. Implement Policy iteration!\n",
        "2. Evaluate the convergence of your estimate, i.e., plot the value $\\|V_n - V^\\star\\|_{\\infty}$\n",
        "3. Evaluate the convergence of your estimate, i.e., plot the value $\\|\\pi_n - \\pi^\\star\\|_{\\infty}$"
      ]
    },
    {
      "cell_type": "code",
      "metadata": {
        "colab_type": "code",
        "id": "fpBCGnqNE7l1",
        "colab": {
          "base_uri": "https://localhost:8080/",
          "height": 675
        },
        "outputId": "35756274-3964-4f5c-c489-3336892e8577"
      },
      "source": [
        "# Retrieve the environment MDP\n",
        "P = env.P\n",
        "R = env.R\n",
        "gamma = env.gamma\n",
        "epsilon = 5e-2\n",
        "\n",
        "#Initialize policy\n",
        "dpi = np.zeros(shape=(env.Ns,), dtype=np.int32) + 2\n",
        "print(env.render_policy(dpi))\n",
        "\n",
        "dpi = sparsify_policy(dpi, env.Na)\n",
        "\n",
        "v_all = []\n",
        "pi_all = []\n",
        "\n",
        "epsilon = 1e-2\n",
        "\n",
        "R_max = np.max(R)\n",
        "stop = int((np.log(R_max/(epsilon)))/(np.log(1/gamma))) + 1\n",
        "\n",
        "V_pi = np.zeros((env.Ns)) #init\n",
        "\n",
        "while True:\n",
        "\n",
        "  Ppi = np.sum(P * np.expand_dims(dpi, axis = -1), axis = 1)\n",
        "  Rpi = np.sum(R * dpi, axis = 1)\n",
        "\n",
        "  for i in range(stop):\n",
        "    V_pi = Rpi + gamma * Ppi.dot(V_pi)\n",
        "  \n",
        "  v_all.append(V_pi)\n",
        "\n",
        "  pi_old = np.argmax(dpi, axis = 1)\n",
        "\n",
        "  Q_pi = R + gamma * P.dot(V_pi)\n",
        "  pi = np.argmax(Q_pi, axis = 1)\n",
        "  pi_all.append(pi)\n",
        "\n",
        "  dpi = sparsify_policy(pi, env.Na)\n",
        "  \n",
        "\n",
        "  if np.abs(pi - pi_old).max() < epsilon : \n",
        "    break\n",
        "\n",
        "\n",
        "plot_infnorm(v_all, v_all[-1], name=\"V\")\n",
        "plot_infnorm(pi_all, pi_all[-1], name=\"Pi\")"
      ],
      "execution_count": 57,
      "outputs": [
        {
          "output_type": "stream",
          "text": [
            "+-------+\n",
            "|<:<:<:<|\n",
            "|<:<:<:<|\n",
            "|<:<:<:<|\n",
            "+-------+\n",
            "None\n"
          ],
          "name": "stdout"
        },
        {
          "output_type": "display_data",
          "data": {
            "image/png": "[encoded data removed]",
            "text/plain": [
              "<Figure size 432x288 with 1 Axes>"
            ]
          },
          "metadata": {
            "tags": []
          }
        },
        {
          "output_type": "display_data",
          "data": {
            "image/png": "[encoded data removed]",
            "text/plain": [
              "<Figure size 432x288 with 1 Axes>"
            ]
          },
          "metadata": {
            "tags": []
          }
        }
      ]
    },
    {
      "cell_type": "code",
      "metadata": {
        "id": "sI3nihXQc6RN",
        "colab_type": "code",
        "colab": {
          "base_uri": "https://localhost:8080/",
          "height": 777
        },
        "outputId": "97846808-8225-45a2-cf75-82b5a2447be3"
      },
      "source": [
        "# Retrieve the environment MDP\n",
        "P = env.P\n",
        "R = env.R\n",
        "gamma = env.gamma\n",
        "epsilon = 5e-2\n",
        "\n",
        "#Initialize policy\n",
        "dpi = np.zeros(shape=(env.Ns,), dtype=np.int32) + 2\n",
        "print(env.render_policy(dpi))\n",
        "v = np.zeros(env.Ns)\n",
        "v_all = []\n",
        "pi_all = []\n",
        "\n",
        "while True:\n",
        "\n",
        "  # Policy evaluation\n",
        "  v_all.append(v)\n",
        "  v = (R + gamma * np.dot(P, v)).max(axis=1)\n",
        "\n",
        "  # policy improvement\n",
        "  # Estimate Intermediate policy\n",
        "  pi_all.append(dpi)\n",
        "  q = R + gamma * P.dot(v)\n",
        "  dpi = q.argmax(axis=1)\n",
        "\n",
        "  if np.abs(pi_all[-1] -  dpi).max() <= epsilon: break\n",
        "\n",
        "print(env.render_policy(dpi))\n",
        "plot_infnorm(v_all, v, name=\"V\")\n",
        "plot_infnorm(pi_all, dpi, name=\"Pi\")"
      ],
      "execution_count": 58,
      "outputs": [
        {
          "output_type": "stream",
          "text": [
            "+-------+\n",
            "|<:<:<:<|\n",
            "|<:<:<:<|\n",
            "|<:<:<:<|\n",
            "+-------+\n",
            "None\n",
            "+-------+\n",
            "|>:>:>:>|\n",
            "|^:>:>:^|\n",
            "|>:>:>:^|\n",
            "+-------+\n",
            "None\n"
          ],
          "name": "stdout"
        },
        {
          "output_type": "display_data",
          "data": {
            "image/png": "[encoded data removed]",
            "text/plain": [
              "<Figure size 432x288 with 1 Axes>"
            ]
          },
          "metadata": {
            "tags": []
          }
        },
        {
          "output_type": "display_data",
          "data": {
            "image/png": "[encoded data removed]",
            "text/plain": [
              "<Figure size 432x288 with 1 Axes>"
            ]
          },
          "metadata": {
            "tags": []
          }
        }
      ]
    },
    {
      "cell_type": "markdown",
      "metadata": {
        "colab_type": "text",
        "id": "WHrlauOwOX5L"
      },
      "source": [
        "## Exercice: Q learning\n",
        "Q learning is a model-free algorithm for estimating the optimal Q-function online.\n",
        "It is an off-policy algorithm since the samples are collected with a policy that is (potentially) not the one associated to the estimated Q-function.\n",
        "\n",
        "1. Implement Q learning with $\\epsilon$-greedy exploration.\n",
        "  - Plot the error in Q-functions over iterations\n",
        "  - Plot the cumulative sum of rewards"
      ]
    },
    {
      "cell_type": "code",
      "metadata": {
        "colab_type": "code",
        "id": "QCxJruBNOX5M",
        "colab": {}
      },
      "source": [
        "# ---------------------------\n",
        "# Q-Learning\n",
        "# ---------------------------\n",
        "class QLearning:\n",
        "    \"\"\"\n",
        "    Q learning with epsilon-greedy exploration\n",
        "    \"\"\"\n",
        "    def __init__(self, env, gamma, learning_rate, epsilon, min_epsilon):\n",
        "        self.env = env\n",
        "        self.gamma = gamma\n",
        "        self.learning_rate = learning_rate\n",
        "        self.epsilon = epsilon\n",
        "        self.min_epsilon = min_epsilon\n",
        "        self.Q = np.zeros((env.Ns, env.Na))\n",
        "        self.Nsa = np.ones((env.Ns, env.Na))\n",
        "    \n",
        "    def sample_action(self, state, greedy=False):\n",
        "        epsilon = min(\n",
        "            self.epsilon / math.sqrt(self.Nsa[state].min()),\n",
        "            self.min_epsilon)\n",
        "        \n",
        "        # explore\n",
        "        if not greedy and np.random.uniform(0, 1) < epsilon:\n",
        "          return np.random.choice(self.env.actions)\n",
        "\n",
        "        # exploit\n",
        "        else:\n",
        "          action = self.Q[state, :].argmax()\n",
        "          return self.env.actions[action]\n",
        "    \n",
        "    def update(self, state, action, next_state, reward, done):\n",
        "        alpha = self.learning_rate / math.sqrt(self.Nsa[state, action])\n",
        "        \n",
        "        if not done:\n",
        "          max_q = self.Q[next_state, :].max()\n",
        "        else:\n",
        "          max_q = 0.  # We do not bootstrap further\n",
        "        \n",
        "        q = self.Q[state, action]\n",
        "        increment = (reward + self.gamma*max_q) - q\n",
        "\n",
        "        # Update\n",
        "        self.Q[state, action] = self.Q[state, action] + alpha*increment\n",
        "        self.Nsa[state, action] += 1    "
      ],
      "execution_count": 0,
      "outputs": []
    },
    {
      "cell_type": "code",
      "metadata": {
        "id": "kf1wjm3QcC5t",
        "colab_type": "code",
        "colab": {}
      },
      "source": [
        "# !pip install ipdb\n",
        "# import ipdb"
      ],
      "execution_count": 0,
      "outputs": []
    },
    {
      "cell_type": "code",
      "metadata": {
        "colab_type": "code",
        "id": "jsmojgubLVL9",
        "colab": {
          "base_uri": "https://localhost:8080/",
          "height": 119
        },
        "outputId": "58a4b06c-e6ca-4123-ebaa-179b3c17d9a4"
      },
      "source": [
        "q_learning = QLearning(env, gamma=env.gamma, learning_rate=1, epsilon=0.6, min_epsilon=0.1)\n",
        "\n",
        "# Define storage and variable\n",
        "q_all = []\n",
        "r_all = []\n",
        "pi_all = []\n",
        "max_steps = int(5e4)\n",
        "\n",
        "\n",
        "# main algorithmic loop\n",
        "state = env.reset()\n",
        "for t in range(max_steps):\n",
        "    \n",
        "  # Sample the action\n",
        "  action = q_learning.sample_action(state, greedy=False)\n",
        "  \n",
        "  # Sample the environment\n",
        "  next_state, reward, done, _ = env.step(action)\n",
        "  \n",
        "  # Update q-function\n",
        "  q_learning.update(state=state, action=action, next_state=next_state, reward=reward, done=done)\n",
        "\n",
        "  # Store information \n",
        "  r_all.append(reward)\n",
        "  q_all.append(q_learning.Q)\n",
        "  pi_all.append(q_learning.Q.argmax(axis=1))\n",
        "  \n",
        "  state = next_state\n",
        "  if done:\n",
        "    state = env.reset()\n",
        "\n",
        "dpi = q_learning.Q.argmax(axis=1)\n",
        "print(env.render_policy(dpi))\n"
      ],
      "execution_count": 61,
      "outputs": [
        {
          "output_type": "stream",
          "text": [
            "+-------+\n",
            "|>:>:>:>|\n",
            "|^:>:^:^|\n",
            "|>:>:>:^|\n",
            "+-------+\n",
            "None\n"
          ],
          "name": "stdout"
        }
      ]
    },
    {
      "cell_type": "code",
      "metadata": {
        "colab_type": "code",
        "id": "ysm4Cq_pxj5T",
        "colab": {
          "base_uri": "https://localhost:8080/",
          "height": 629
        },
        "outputId": "19e2a6f6-467f-4195-da08-18cca4b79348"
      },
      "source": [
        "state = env.reset()\n",
        "env.render()\n",
        "for i in range(5):\n",
        "    action = q_learning.sample_action(state, greedy=True)\n",
        "    state, reward, done, _ = env.step(action)\n",
        "    env.render()"
      ],
      "execution_count": 62,
      "outputs": [
        {
          "output_type": "stream",
          "text": [
            "+-------+\n",
            "| : : :G|\n",
            "| :x: : |\n",
            "|\u001b[43mS\u001b[0m: : : |\n",
            "+-------+\n",
            "\n",
            "+-------+\n",
            "| : : :G|\n",
            "| :x: : |\n",
            "|S:\u001b[43m_\u001b[0m: : |\n",
            "+-------+\n",
            "  (right)\n",
            "+-------+\n",
            "| : : :G|\n",
            "| :x: : |\n",
            "|S: :\u001b[43m_\u001b[0m: |\n",
            "+-------+\n",
            "  (right)\n",
            "+-------+\n",
            "| : : :G|\n",
            "| :x: : |\n",
            "|S: : :\u001b[43m_\u001b[0m|\n",
            "+-------+\n",
            "  (right)\n",
            "+-------+\n",
            "| : : :G|\n",
            "| :x: :\u001b[43m_\u001b[0m|\n",
            "|S: : : |\n",
            "+-------+\n",
            "  (up)\n",
            "+-------+\n",
            "| : : :\u001b[42mG\u001b[0m|\n",
            "| :x: : |\n",
            "|S: : : |\n",
            "+-------+\n",
            "  (up)\n"
          ],
          "name": "stdout"
        }
      ]
    },
    {
      "cell_type": "code",
      "metadata": {
        "colab_type": "code",
        "id": "-QyNzQpLIpAv",
        "colab": {
          "base_uri": "https://localhost:8080/",
          "height": 221
        },
        "outputId": "9b6289dd-5014-4ffa-8d26-68a516c11f63"
      },
      "source": [
        "print(q_learning.Q)"
      ],
      "execution_count": 63,
      "outputs": [
        {
          "output_type": "stream",
          "text": [
            "[[  2.3942378   -0.43885427   1.2573324    0.61232262]\n",
            " [  4.69750088 -13.71079224   0.82697354   2.64885645]\n",
            " [  7.40031122   3.14618576   3.76721276   5.3744669 ]\n",
            " [ 10.          10.          10.          10.        ]\n",
            " [-17.01865034  -3.47964763  -2.10866486   0.29548339]\n",
            " [-15.03614476 -19.40978515 -20.10487171 -15.67875827]\n",
            " [  4.55138092   1.2928434  -16.97532383   5.21766538]\n",
            " [  5.63170773   3.55707957   3.57388296   7.77188905]\n",
            " [ -1.27737387  -3.2421874   -3.29941031  -2.17484242]\n",
            " [  1.03046219  -2.11891659  -3.26892755 -17.07325387]\n",
            " [  3.38414698   1.26057763  -1.1802036    2.9156733 ]\n",
            " [  3.45924927   3.38692629   1.41509207   5.47315428]]\n"
          ],
          "name": "stdout"
        }
      ]
    },
    {
      "cell_type": "code",
      "metadata": {
        "colab_type": "code",
        "id": "Bi2j8vI4It8h",
        "colab": {
          "base_uri": "https://localhost:8080/",
          "height": 295
        },
        "outputId": "00195224-c86e-4e6c-e82b-6df7f2c413b7"
      },
      "source": [
        "plot_infnorm(pi_all, pi_all[-1], name=\"Pi\")"
      ],
      "execution_count": 64,
      "outputs": [
        {
          "output_type": "display_data",
          "data": {
            "image/png": "[encoded data removed]",
            "text/plain": [
              "<Figure size 432x288 with 1 Axes>"
            ]
          },
          "metadata": {
            "tags": []
          }
        }
      ]
    },
    {
      "cell_type": "code",
      "metadata": {
        "colab_type": "code",
        "id": "xViQ6kpzJfw9",
        "colab": {
          "base_uri": "https://localhost:8080/",
          "height": 295
        },
        "outputId": "c4e527ea-bee7-4055-b4a9-a40059f9235d"
      },
      "source": [
        "pi = sparsify_policy(pi_all[-1], Na=env.Na)\n",
        "Ppi = np.sum(env.P * np.expand_dims(pi, axis=-1), axis=1)\n",
        "Rpi = np.sum(env.R * pi, axis=1)\n",
        "\n",
        "v_star = np.linalg.inv( np.identity(env.Ns) - gamma*Ppi).dot(Rpi)\n",
        "\n",
        "v_all = []\n",
        "for dpi_prev, q_prev in zip(pi_all, q_all):\n",
        "  pi_prev = sparsify_policy(dpi_prev, Na=env.Na)\n",
        "  v_prev = np.sum(pi_prev*q_prev, axis=1)\n",
        "  v_all.append(v_prev)\n",
        "\n",
        "plot_infnorm(v_all, v_star, name=\"V\")\n"
      ],
      "execution_count": 65,
      "outputs": [
        {
          "output_type": "display_data",
          "data": {
            "image/png": "[encoded data removed]",
            "text/plain": [
              "<Figure size 432x288 with 1 Axes>"
            ]
          },
          "metadata": {
            "tags": []
          }
        }
      ]
    },
    {
      "cell_type": "markdown",
      "metadata": {
        "colab_type": "text",
        "id": "59xsIjpIOX5P"
      },
      "source": [
        "## Exercice: SARSA (Homework)\n",
        "SARSA is another control algorithm. While Qlearning is off-policy, SARSA is on-policy.\n",
        "\n",
        "1. Implement SARSA with softmax (Gibbs) exploration and test the convergence to $Q^\\star$\n",
        "2. Plot the value $\\|V_n - V^\\star\\|_{\\infty}$"
      ]
    },
    {
      "cell_type": "code",
      "metadata": {
        "colab_type": "code",
        "id": "gySnHtrsOX5Q",
        "colab": {}
      },
      "source": [
        "# ---------------------------\n",
        "# SARSA\n",
        "# ---------------------------\n",
        "class SARSA:\n",
        "    \"\"\"\n",
        "    SARSA with deacreasing epsilon for exploration\n",
        "    \"\"\"\n",
        "    def __init__(self, env, gamma, learning_rate, epsilon):\n",
        "      # Start with a random policy\n",
        "      self.env = env\n",
        "      self.gamma = gamma\n",
        "      self.learning_rate = learning_rate\n",
        "      self.epsilon = epsilon\n",
        "      # self.min_epsilon = min_epsilon\n",
        "      self.Q = np.zeros((env.Ns, env.Na))\n",
        "      self.Nsa = np.ones((env.Ns, env.Na))\n",
        "    \n",
        "    def sample_action(self, state, greedy=False):\n",
        "      epsilon = self.epsilon / (math.sqrt(self.Nsa[state].min()) + 1)\n",
        "      if not greedy and np.random.uniform(0, 1) < epsilon:\n",
        "        return np.random.choice(self.env.actions)\n",
        "      else:\n",
        "        return self.env.actions[self.Q[state].argmax()]\n",
        "        \n",
        "    def update(self, state, action, next_state, next_action, reward):\n",
        "      lr = self.learning_rate/(np.sqrt(self.Nsa[state, action]))\n",
        "\n",
        "      if done:\n",
        "        self.Q[state, action] = self.Q[state, action] + lr*(reward - self.Q[state,action])\n",
        "      else:\n",
        "        self.Q[state, action]=  self.Q[state, action] + lr*(reward + self.gamma*self.Q[next_state, next_action] - self.Q[state,action])\n",
        "      \n",
        "      self.Nsa[state,action] = self.Nsa[state,action] + 1\n",
        "\n",
        "      # self.Nsa[state][action] += 1\n",
        "      # alpha = self.learning_rate / math.sqrt(self.Nsa[state, action])\n",
        "      # self.Q[state][action] +=  alpha * (reward + (self.gamma * self.Q[next_state][next_action]) - self.Q[state][action])\n",
        "\n"
      ],
      "execution_count": 0,
      "outputs": []
    },
    {
      "cell_type": "code",
      "metadata": {
        "colab_type": "code",
        "id": "Be0d4nOBOX5R",
        "colab": {
          "base_uri": "https://localhost:8080/",
          "height": 119
        },
        "outputId": "e2c5bb9d-1e1a-48cf-bb38-0f5038bffdb8"
      },
      "source": [
        "sarsa = SARSA(env, gamma=env.gamma, learning_rate=1., epsilon=1.)\n",
        "\n",
        "# Define storage and variable\n",
        "q_all = []\n",
        "r_all = []\n",
        "pi_all = []\n",
        "max_steps = int(5e4)\n",
        "\n",
        "\n",
        "# main algorithmic loop\n",
        "state = env.reset()\n",
        "for t in range(max_steps):\n",
        "    \n",
        "  # Sample the action\n",
        "  action = sarsa.sample_action(state)\n",
        "  \n",
        "  # Sample the environment\n",
        "  next_state, reward, done, info = env.step(action)\n",
        "  next_action = sarsa.sample_action(next_state)\n",
        "  \n",
        "  # Update q-function\n",
        "  sarsa.update(state, action, next_state, next_action, reward)\n",
        "\n",
        "  # Store information \n",
        "  r_all.append(reward)\n",
        "  q_all.append(sarsa.Q.copy())\n",
        "  pi_all.append(sarsa.Q.argmax(axis=1))\n",
        "  \n",
        "  state = next_state\n",
        "  if done:\n",
        "    state = env.reset()\n",
        "\n",
        "dpi = sarsa.Q.argmax(axis=1)\n",
        "print(env.render_policy(dpi))"
      ],
      "execution_count": 70,
      "outputs": [
        {
          "output_type": "stream",
          "text": [
            "+-------+\n",
            "|>:>:>:>|\n",
            "|v:>:>:^|\n",
            "|>:>:>:^|\n",
            "+-------+\n",
            "None\n"
          ],
          "name": "stdout"
        }
      ]
    },
    {
      "cell_type": "code",
      "metadata": {
        "id": "hHWHLHfHegWk",
        "colab_type": "code",
        "colab": {
          "base_uri": "https://localhost:8080/",
          "height": 573
        },
        "outputId": "b49579e0-4e0b-434b-c309-d8237dfa867a"
      },
      "source": [
        "plot_infnorm(q_all, sarsa.Q, name=\"sarsa\")\n",
        "plot_infnorm(pi_all, dpi, name=\"Pi\")"
      ],
      "execution_count": 71,
      "outputs": [
        {
          "output_type": "display_data",
          "data": {
            "image/png": "[encoded data removed]",
            "text/plain": [
              "<Figure size 432x288 with 1 Axes>"
            ]
          },
          "metadata": {
            "tags": []
          }
        },
        {
          "output_type": "display_data",
          "data": {
            "image/png": "[encoded data removed]",
            "text/plain": [
              "<Figure size 432x288 with 1 Axes>"
            ]
          },
          "metadata": {
            "tags": []
          }
        }
      ]
    },
    {
      "cell_type": "code",
      "metadata": {
        "id": "NOh6wjLMetw1",
        "colab_type": "code",
        "colab": {
          "base_uri": "https://localhost:8080/",
          "height": 629
        },
        "outputId": "12c5db1b-bc6d-49c5-eba2-d8bb5ffac281"
      },
      "source": [
        "state = env.reset()\n",
        "env.render()\n",
        "for i in range(5):\n",
        "    action = sarsa.sample_action(state, greedy=True)\n",
        "    state, reward, done, _ = env.step(action)\n",
        "    env.render()"
      ],
      "execution_count": 72,
      "outputs": [
        {
          "output_type": "stream",
          "text": [
            "+-------+\n",
            "| : : :G|\n",
            "| :x: : |\n",
            "|\u001b[43mS\u001b[0m: : : |\n",
            "+-------+\n",
            "\n",
            "+-------+\n",
            "| : : :G|\n",
            "| :x: : |\n",
            "|S:\u001b[43m_\u001b[0m: : |\n",
            "+-------+\n",
            "  (right)\n",
            "+-------+\n",
            "| : : :G|\n",
            "| :x: : |\n",
            "|S: :\u001b[43m_\u001b[0m: |\n",
            "+-------+\n",
            "  (right)\n",
            "+-------+\n",
            "| : : :G|\n",
            "| :x: : |\n",
            "|S: : :\u001b[43m_\u001b[0m|\n",
            "+-------+\n",
            "  (right)\n",
            "+-------+\n",
            "| : : :G|\n",
            "| :x: :\u001b[43m_\u001b[0m|\n",
            "|S: : : |\n",
            "+-------+\n",
            "  (up)\n",
            "+-------+\n",
            "| : : :\u001b[42mG\u001b[0m|\n",
            "| :x: : |\n",
            "|S: : : |\n",
            "+-------+\n",
            "  (up)\n"
          ],
          "name": "stdout"
        }
      ]
    },
    {
      "cell_type": "code",
      "metadata": {
        "id": "xwjQt26Ke8mS",
        "colab_type": "code",
        "colab": {
          "base_uri": "https://localhost:8080/",
          "height": 295
        },
        "outputId": "34a49ffb-c22d-40cf-bc5e-1f8615cb4316"
      },
      "source": [
        "plot_infnorm(v_all, v_star, name=\"V\")\n"
      ],
      "execution_count": 73,
      "outputs": [
        {
          "output_type": "display_data",
          "data": {
            "image/png": "[encoded data removed]",
            "text/plain": [
              "<Figure size 432x288 with 1 Axes>"
            ]
          },
          "metadata": {
            "tags": []
          }
        }
      ]
    },
    {
      "cell_type": "code",
      "metadata": {
        "id": "mGrvx1CnfvJ-",
        "colab_type": "code",
        "colab": {}
      },
      "source": [
        ""
      ],
      "execution_count": 0,
      "outputs": []
    }
  ]
}
